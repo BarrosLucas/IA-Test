{
 "cells": [
  {
   "cell_type": "markdown",
   "metadata": {},
   "source": [
    "# Avaliação 2"
   ]
  },
  {
   "cell_type": "markdown",
   "metadata": {},
   "source": [
    "### Questão 1\n",
    "Utilizando a base Titanic disponível no kaggle (https://www.kaggle.com/c/titanic/data) elabore uma solução utilizando dois algoritmos de aprendizagem de máquina do seu conhecimento para classificar se o passageiro tem ou não chance de sobreviver. Os resultados dessa questão deverão ser descritos detalhadamente no relatório.\n",
    "* Lembre de fazer todo o pré-processamento, explicando suas decisões;\n",
    "* Avalie os resultados usando diferentes métricas.\n",
    "* Teste 3 variações de parâmetros dos métodos;"
   ]
  },
  {
   "cell_type": "markdown",
   "metadata": {},
   "source": [
    "#### Pré-processamento\n",
    "\n",
    "É dado início ao pré-processamento, importando as bibliotecas necessárias e instanciando os databases forneceidos através do pandas.\n",
    "\n",
    "É importante entender que:\n",
    "* __gs__ equivale à instância do database que contém as saídas (coluna *Survived*) corretas para os testes\n",
    "* __tr__ equivale à instância do database que contém os treinos\n",
    "* __ts__ equivale à instância do database que contém os testes\n",
    "\n",
    "Vale lembrar que o database __gs__ refere-se ao __teste__, e que o __teste__ não pertence ao treino. Portanto será interessante unir os dois databases futuramente."
   ]
  },
  {
   "cell_type": "code",
   "execution_count": 1,
   "metadata": {},
   "outputs": [],
   "source": [
    "import pandas as pd\n",
    "import numpy as np\n",
    "import seaborn as sns\n",
    "import matplotlib.pyplot as plt\n",
    "from scipy import stats\n",
    "from sklearn import cluster, neighbors, svm, metrics, preprocessing\n",
    "from sklearn.model_selection import train_test_split, cross_validate\n",
    "from sklearn.metrics import confusion_matrix\n",
    "from sklearn.metrics import classification_report\n",
    "from sklearn.metrics import make_scorer, accuracy_score, f1_score,precision_score,recall_score\n",
    "from sklearn.model_selection import StratifiedKFold\n",
    "from sklearn.naive_bayes import GaussianNB\n",
    "\n",
    "gs = pd.read_csv(\"data/gender_submission.csv\",sep=\",\")\n",
    "tr = pd.read_csv(\"data/train.csv\",sep=\",\")\n",
    "ts = pd.read_csv(\"data/test.csv\",sep=\",\")"
   ]
  },
  {
   "cell_type": "markdown",
   "metadata": {},
   "source": [
    "#### Avaliando a quantidade de itens em cada database\n",
    "\n",
    "Para entender a quantidade de itens com o qual se está trabalhando, é feita uma leitura através do comando __*len()*__."
   ]
  },
  {
   "cell_type": "code",
   "execution_count": 2,
   "metadata": {},
   "outputs": [
    {
     "name": "stdout",
     "output_type": "stream",
     "text": [
      "Tamanho do database de treino: 891\n",
      "Tamanho do database de testes: 418\n",
      "Tamanho do database que contém as saídas corretas do teste: 418\n"
     ]
    }
   ],
   "source": [
    "print(\"Tamanho do database de treino:\", len(tr))\n",
    "print(\"Tamanho do database de testes:\", len(ts))\n",
    "print(\"Tamanho do database que contém as saídas corretas do teste:\", len(gs))"
   ]
  },
  {
   "cell_type": "markdown",
   "metadata": {},
   "source": [
    "#### Unindo todos os databases\n",
    "\n",
    "Para passarem pelo pré-processamento, é interessante que todos os dados estejam juntos. Desta forma o __gs__ será unido ao __ts__, que será, por sua vez, unido ao __tr__.\n",
    "\n",
    "❗️ __Utilizaremos o termo *dfTotal* para se referir ao DataFrame completo, que inclui o teste e o treino.__ ❗️"
   ]
  },
  {
   "cell_type": "code",
   "execution_count": 3,
   "metadata": {},
   "outputs": [],
   "source": [
    "dfTotal = pd.concat([tr,pd.concat([gs, ts.drop(columns=['PassengerId'])], axis=1)])"
   ]
  },
  {
   "cell_type": "markdown",
   "metadata": {},
   "source": [
    "#### Analisando quantos itens nulos há no database\n",
    "\n",
    "É importante conhecer quantos itens nulos existem no database para entender qual deve ser a medida adequada a se tomar mediante a quantidade de itens nulos."
   ]
  },
  {
   "cell_type": "code",
   "execution_count": 4,
   "metadata": {
    "scrolled": false
   },
   "outputs": [
    {
     "name": "stdout",
     "output_type": "stream",
     "text": [
      "-->Nulidade:\n",
      "PassengerId       0\n",
      "Survived          0\n",
      "Pclass            0\n",
      "Name              0\n",
      "Sex               0\n",
      "Age             263\n",
      "SibSp             0\n",
      "Parch             0\n",
      "Ticket            0\n",
      "Fare              1\n",
      "Cabin          1014\n",
      "Embarked          2\n",
      "dtype: int64\n"
     ]
    }
   ],
   "source": [
    "print(\"-->Nulidade:\")\n",
    "print(dfTotal.isnull().sum())"
   ]
  },
  {
   "cell_type": "markdown",
   "metadata": {},
   "source": [
    "⚠️ __Os itens nulos de cabine representam, no treino, mais de 77% do total de informações. Excluir todas essas informações pode representar uma alta perda ao treinamento do IA, ao passo que completar todo esse conteúdo com informações aleatórias ou fixas também podem trazer algum nível de imprecisão aos testes. Desta forma, optou-se por excluir essa coluna.__ ⚠️"
   ]
  },
  {
   "cell_type": "markdown",
   "metadata": {},
   "source": [
    "#### Excluindo a coluna de Cabine\n",
    "\n",
    "Como dito acima, a coluna *Cabin* apresenta muitos valores nulos. Desta forma passa a ser interessante excluir essa coluna."
   ]
  },
  {
   "cell_type": "code",
   "execution_count": 5,
   "metadata": {},
   "outputs": [],
   "source": [
    "dfTotal = dfTotal.drop(columns=['Cabin'])"
   ]
  },
  {
   "cell_type": "markdown",
   "metadata": {},
   "source": [
    "#### Analisando quantos itens nulos há no database\n",
    "\n",
    "Ainda analisando a quantidade de elementos nulos, será feita a análise novamente agora sem a coluna de cabine, que previamente apresentou várias informações faltantes."
   ]
  },
  {
   "cell_type": "code",
   "execution_count": 6,
   "metadata": {},
   "outputs": [
    {
     "name": "stdout",
     "output_type": "stream",
     "text": [
      "-->Nulidade:\n",
      "PassengerId      0\n",
      "Survived         0\n",
      "Pclass           0\n",
      "Name             0\n",
      "Sex              0\n",
      "Age            263\n",
      "SibSp            0\n",
      "Parch            0\n",
      "Ticket           0\n",
      "Fare             1\n",
      "Embarked         2\n",
      "dtype: int64\n"
     ]
    }
   ],
   "source": [
    "print(\"-->Nulidade:\")\n",
    "print(dfTotal.isnull().sum())"
   ]
  },
  {
   "cell_type": "markdown",
   "metadata": {},
   "source": [
    "❗️ __Considerando que *Fare* (Tarifa) e *Embarked* apresentam uma quantidade ínfima de valores nulos, considerou-se interessante, na coluna Fare, considerar a mediana no lugar do valor nulo e, no Embarked, o uso da moda dos valores.__ ❗️"
   ]
  },
  {
   "cell_type": "markdown",
   "metadata": {},
   "source": [
    "#### Substituindo valores de Fare, Age e Embarked\n",
    "\n",
    "Será considerada a moda dos valores de __Embarked__ para substituir os valores nulos e a mediana de __Fare__ e __Age__ para substituir os valores faltantes.\n",
    "\n",
    "Note que, por mais que haja uma quantidade mais expressiva de valores nulos para *Age*, isso representa apenas 20%, da quantidade total. Sendo assim é entendeu-se como viável substituir os valores de idade pela mediana de todas as idades."
   ]
  },
  {
   "cell_type": "code",
   "execution_count": 7,
   "metadata": {},
   "outputs": [
    {
     "name": "stdout",
     "output_type": "stream",
     "text": [
      "PassengerId      0\n",
      "Survived         0\n",
      "Pclass           0\n",
      "Name             0\n",
      "Sex              0\n",
      "Age            263\n",
      "SibSp            0\n",
      "Parch            0\n",
      "Ticket           0\n",
      "Fare             0\n",
      "Embarked         2\n",
      "dtype: int64\n"
     ]
    }
   ],
   "source": [
    "dfTotal[\"Fare\"].fillna(dfTotal[\"Fare\"].median(), inplace=True)\n",
    "print(dfTotal.isnull().sum())"
   ]
  },
  {
   "cell_type": "code",
   "execution_count": 8,
   "metadata": {},
   "outputs": [
    {
     "name": "stdout",
     "output_type": "stream",
     "text": [
      "PassengerId      0\n",
      "Survived         0\n",
      "Pclass           0\n",
      "Name             0\n",
      "Sex              0\n",
      "Age            263\n",
      "SibSp            0\n",
      "Parch            0\n",
      "Ticket           0\n",
      "Fare             0\n",
      "Embarked         0\n",
      "dtype: int64\n"
     ]
    }
   ],
   "source": [
    "dfTotal[\"Embarked\"].fillna(dfTotal[\"Embarked\"].mode()[0],inplace=True)\n",
    "print(dfTotal.isnull().sum())"
   ]
  },
  {
   "cell_type": "code",
   "execution_count": 9,
   "metadata": {},
   "outputs": [
    {
     "name": "stdout",
     "output_type": "stream",
     "text": [
      "PassengerId    0\n",
      "Survived       0\n",
      "Pclass         0\n",
      "Name           0\n",
      "Sex            0\n",
      "Age            0\n",
      "SibSp          0\n",
      "Parch          0\n",
      "Ticket         0\n",
      "Fare           0\n",
      "Embarked       0\n",
      "dtype: int64\n"
     ]
    }
   ],
   "source": [
    "dfTotal[\"Age\"].fillna(dfTotal[\"Age\"].median(),inplace=True)\n",
    "print(dfTotal.isnull().sum())"
   ]
  },
  {
   "cell_type": "markdown",
   "metadata": {},
   "source": [
    "#### Removendo colunas\n",
    "\n",
    "Algumas colunas não auxiliam, pelo contrário, atrapalham o funcionamento do IA por apresentarem valores únicos para cada entidade. Desta forma, devem ser removidas as colunas:\n",
    "* Name\n",
    "* Ticket\n",
    "* PassengerId\n"
   ]
  },
  {
   "cell_type": "code",
   "execution_count": 10,
   "metadata": {},
   "outputs": [],
   "source": [
    "dfTotal = dfTotal.drop(columns=['Name','Ticket','PassengerId'])"
   ]
  },
  {
   "cell_type": "markdown",
   "metadata": {},
   "source": [
    "#### Linhas duplicadas\n",
    "\n",
    "Com a remoção das colunas, algumas linhas possuem valores exatamente iguais, não agregando em nada ao IA. Sendo assim, primeiramente será feita a análise de quantas linhas estão duplicadas:"
   ]
  },
  {
   "cell_type": "code",
   "execution_count": 11,
   "metadata": {},
   "outputs": [
    {
     "name": "stdout",
     "output_type": "stream",
     "text": [
      "Total de duplicações no database: 209\n"
     ]
    }
   ],
   "source": [
    "print(\"Total de duplicações no database:\",dfTotal.duplicated().sum())"
   ]
  },
  {
   "cell_type": "markdown",
   "metadata": {},
   "source": [
    "#### Remoção de linhas duplicadas\n",
    "\n",
    "Existem 209 linhas duplicadas. Agora é interessante apagar essas duplicações que não agregam em nada ao IA."
   ]
  },
  {
   "cell_type": "code",
   "execution_count": 12,
   "metadata": {},
   "outputs": [
    {
     "name": "stdout",
     "output_type": "stream",
     "text": [
      "Conferindo o total de duplicações após apagar as linhas duplicadas: 0\n"
     ]
    }
   ],
   "source": [
    "dfTotal = dfTotal.drop_duplicates()\n",
    "print(\"Conferindo o total de duplicações após apagar as linhas duplicadas:\",dfTotal.duplicated().sum())"
   ]
  },
  {
   "cell_type": "markdown",
   "metadata": {},
   "source": [
    "#### Substituindo valores\n",
    "\n",
    "Como um dos métodos a ser utilizado na análise será o KNN, então é necessário que todas as colunas sejam numéricas. Sendo assim, as colunas \"Sex\" e \"Embarked\" serão categorizadas em números:\n",
    "* __Sex__\n",
    "    * *male* passa a ser 0\n",
    "    * *female* passa a ser 1\n",
    "* __Embarked__\n",
    "    * *C* passa a ser 0\n",
    "    * *Q* passa a ser 1\n",
    "    * *S* passa a ser 2"
   ]
  },
  {
   "cell_type": "code",
   "execution_count": 13,
   "metadata": {},
   "outputs": [],
   "source": [
    "dfTotal['Sex'] = dfTotal['Sex'].replace('male',0)\n",
    "dfTotal['Sex'] = dfTotal['Sex'].replace('female',1)\n",
    "\n",
    "dfTotal['Embarked'] = dfTotal['Embarked'].replace('C',0)\n",
    "dfTotal['Embarked'] = dfTotal['Embarked'].replace('Q',1)\n",
    "dfTotal['Embarked'] = dfTotal['Embarked'].replace('S',2)"
   ]
  },
  {
   "cell_type": "markdown",
   "metadata": {},
   "source": [
    "#### Analisando integridade dos dados\n",
    "\n",
    "É importante saber se os dados estão dispostos de forma íntegra. Uma das análises realizadas no presente trabalho será analisar, caso a caso, se a disposição de categorias para cada coluna está feita da maneira correta. \n",
    "* Para a coluna __\"Survived\"__ os valores possíveis são 0 e 1\n",
    "* Para a coluna __\"Sex\"__ os valores possíveis são 0 e 1\n",
    "* Para a coluna __\"Pclass\"__ os valores possíveis são 1, 2 e 3\n",
    "* Para a coluna __\"Embarked\"__ os valores possíveis são 0, 1 e 2\n",
    "\n",
    "⚠️ __A coluna *Age* representa a idade de cada tripulante. Desta forma não faz sentido categorizar a idade, muito embora ela seja analisada de forma matemática mais adiante. Da mesma forma, a coluna *Fare* representa o preço e também será analisado de forma matemática mais adiante. Parch e SibSp representam, respectivamente número de pais/filhos tripulantes e número de irmãos/cônjuges a bordo, e, desta forma, também não é interessante tratá-los de forma categórica.__ ⚠️\n"
   ]
  },
  {
   "cell_type": "code",
   "execution_count": 14,
   "metadata": {},
   "outputs": [
    {
     "name": "stdout",
     "output_type": "stream",
     "text": [
      "Analisando valores de Survived:\n"
     ]
    },
    {
     "data": {
      "text/html": [
       "<div>\n",
       "<style scoped>\n",
       "    .dataframe tbody tr th:only-of-type {\n",
       "        vertical-align: middle;\n",
       "    }\n",
       "\n",
       "    .dataframe tbody tr th {\n",
       "        vertical-align: top;\n",
       "    }\n",
       "\n",
       "    .dataframe thead th {\n",
       "        text-align: right;\n",
       "    }\n",
       "</style>\n",
       "<table border=\"1\" class=\"dataframe\">\n",
       "  <thead>\n",
       "    <tr style=\"text-align: right;\">\n",
       "      <th></th>\n",
       "      <th>Pclass</th>\n",
       "      <th>Sex</th>\n",
       "      <th>Age</th>\n",
       "      <th>SibSp</th>\n",
       "      <th>Parch</th>\n",
       "      <th>Fare</th>\n",
       "      <th>Embarked</th>\n",
       "    </tr>\n",
       "    <tr>\n",
       "      <th>Survived</th>\n",
       "      <th></th>\n",
       "      <th></th>\n",
       "      <th></th>\n",
       "      <th></th>\n",
       "      <th></th>\n",
       "      <th></th>\n",
       "      <th></th>\n",
       "    </tr>\n",
       "  </thead>\n",
       "  <tbody>\n",
       "    <tr>\n",
       "      <th>0</th>\n",
       "      <td>644</td>\n",
       "      <td>644</td>\n",
       "      <td>644</td>\n",
       "      <td>644</td>\n",
       "      <td>644</td>\n",
       "      <td>644</td>\n",
       "      <td>644</td>\n",
       "    </tr>\n",
       "    <tr>\n",
       "      <th>1</th>\n",
       "      <td>456</td>\n",
       "      <td>456</td>\n",
       "      <td>456</td>\n",
       "      <td>456</td>\n",
       "      <td>456</td>\n",
       "      <td>456</td>\n",
       "      <td>456</td>\n",
       "    </tr>\n",
       "  </tbody>\n",
       "</table>\n",
       "</div>"
      ],
      "text/plain": [
       "          Pclass  Sex  Age  SibSp  Parch  Fare  Embarked\n",
       "Survived                                                \n",
       "0            644  644  644    644    644   644       644\n",
       "1            456  456  456    456    456   456       456"
      ]
     },
     "execution_count": 14,
     "metadata": {},
     "output_type": "execute_result"
    }
   ],
   "source": [
    "print(\"Analisando valores de Survived:\")\n",
    "dfTotal.groupby(['Survived']).count()"
   ]
  },
  {
   "cell_type": "code",
   "execution_count": 15,
   "metadata": {},
   "outputs": [
    {
     "name": "stdout",
     "output_type": "stream",
     "text": [
      "Analisando valores de Sex:\n"
     ]
    },
    {
     "data": {
      "text/html": [
       "<div>\n",
       "<style scoped>\n",
       "    .dataframe tbody tr th:only-of-type {\n",
       "        vertical-align: middle;\n",
       "    }\n",
       "\n",
       "    .dataframe tbody tr th {\n",
       "        vertical-align: top;\n",
       "    }\n",
       "\n",
       "    .dataframe thead th {\n",
       "        text-align: right;\n",
       "    }\n",
       "</style>\n",
       "<table border=\"1\" class=\"dataframe\">\n",
       "  <thead>\n",
       "    <tr style=\"text-align: right;\">\n",
       "      <th></th>\n",
       "      <th>Survived</th>\n",
       "      <th>Pclass</th>\n",
       "      <th>Age</th>\n",
       "      <th>SibSp</th>\n",
       "      <th>Parch</th>\n",
       "      <th>Fare</th>\n",
       "      <th>Embarked</th>\n",
       "    </tr>\n",
       "    <tr>\n",
       "      <th>Sex</th>\n",
       "      <th></th>\n",
       "      <th></th>\n",
       "      <th></th>\n",
       "      <th></th>\n",
       "      <th></th>\n",
       "      <th></th>\n",
       "      <th></th>\n",
       "    </tr>\n",
       "  </thead>\n",
       "  <tbody>\n",
       "    <tr>\n",
       "      <th>0</th>\n",
       "      <td>672</td>\n",
       "      <td>672</td>\n",
       "      <td>672</td>\n",
       "      <td>672</td>\n",
       "      <td>672</td>\n",
       "      <td>672</td>\n",
       "      <td>672</td>\n",
       "    </tr>\n",
       "    <tr>\n",
       "      <th>1</th>\n",
       "      <td>428</td>\n",
       "      <td>428</td>\n",
       "      <td>428</td>\n",
       "      <td>428</td>\n",
       "      <td>428</td>\n",
       "      <td>428</td>\n",
       "      <td>428</td>\n",
       "    </tr>\n",
       "  </tbody>\n",
       "</table>\n",
       "</div>"
      ],
      "text/plain": [
       "     Survived  Pclass  Age  SibSp  Parch  Fare  Embarked\n",
       "Sex                                                     \n",
       "0         672     672  672    672    672   672       672\n",
       "1         428     428  428    428    428   428       428"
      ]
     },
     "execution_count": 15,
     "metadata": {},
     "output_type": "execute_result"
    }
   ],
   "source": [
    "print(\"Analisando valores de Sex:\")\n",
    "dfTotal.groupby(['Sex']).count()"
   ]
  },
  {
   "cell_type": "code",
   "execution_count": 16,
   "metadata": {},
   "outputs": [
    {
     "name": "stdout",
     "output_type": "stream",
     "text": [
      "Analisando valores de Pclass:\n"
     ]
    },
    {
     "data": {
      "text/html": [
       "<div>\n",
       "<style scoped>\n",
       "    .dataframe tbody tr th:only-of-type {\n",
       "        vertical-align: middle;\n",
       "    }\n",
       "\n",
       "    .dataframe tbody tr th {\n",
       "        vertical-align: top;\n",
       "    }\n",
       "\n",
       "    .dataframe thead th {\n",
       "        text-align: right;\n",
       "    }\n",
       "</style>\n",
       "<table border=\"1\" class=\"dataframe\">\n",
       "  <thead>\n",
       "    <tr style=\"text-align: right;\">\n",
       "      <th></th>\n",
       "      <th>Survived</th>\n",
       "      <th>Sex</th>\n",
       "      <th>Age</th>\n",
       "      <th>SibSp</th>\n",
       "      <th>Parch</th>\n",
       "      <th>Fare</th>\n",
       "      <th>Embarked</th>\n",
       "    </tr>\n",
       "    <tr>\n",
       "      <th>Pclass</th>\n",
       "      <th></th>\n",
       "      <th></th>\n",
       "      <th></th>\n",
       "      <th></th>\n",
       "      <th></th>\n",
       "      <th></th>\n",
       "      <th></th>\n",
       "    </tr>\n",
       "  </thead>\n",
       "  <tbody>\n",
       "    <tr>\n",
       "      <th>1</th>\n",
       "      <td>311</td>\n",
       "      <td>311</td>\n",
       "      <td>311</td>\n",
       "      <td>311</td>\n",
       "      <td>311</td>\n",
       "      <td>311</td>\n",
       "      <td>311</td>\n",
       "    </tr>\n",
       "    <tr>\n",
       "      <th>2</th>\n",
       "      <td>238</td>\n",
       "      <td>238</td>\n",
       "      <td>238</td>\n",
       "      <td>238</td>\n",
       "      <td>238</td>\n",
       "      <td>238</td>\n",
       "      <td>238</td>\n",
       "    </tr>\n",
       "    <tr>\n",
       "      <th>3</th>\n",
       "      <td>551</td>\n",
       "      <td>551</td>\n",
       "      <td>551</td>\n",
       "      <td>551</td>\n",
       "      <td>551</td>\n",
       "      <td>551</td>\n",
       "      <td>551</td>\n",
       "    </tr>\n",
       "  </tbody>\n",
       "</table>\n",
       "</div>"
      ],
      "text/plain": [
       "        Survived  Sex  Age  SibSp  Parch  Fare  Embarked\n",
       "Pclass                                                  \n",
       "1            311  311  311    311    311   311       311\n",
       "2            238  238  238    238    238   238       238\n",
       "3            551  551  551    551    551   551       551"
      ]
     },
     "execution_count": 16,
     "metadata": {},
     "output_type": "execute_result"
    }
   ],
   "source": [
    "print(\"Analisando valores de Pclass:\")\n",
    "dfTotal.groupby(['Pclass']).count()"
   ]
  },
  {
   "cell_type": "code",
   "execution_count": 17,
   "metadata": {},
   "outputs": [
    {
     "name": "stdout",
     "output_type": "stream",
     "text": [
      "Analisando valores de Embarked:\n"
     ]
    },
    {
     "data": {
      "text/html": [
       "<div>\n",
       "<style scoped>\n",
       "    .dataframe tbody tr th:only-of-type {\n",
       "        vertical-align: middle;\n",
       "    }\n",
       "\n",
       "    .dataframe tbody tr th {\n",
       "        vertical-align: top;\n",
       "    }\n",
       "\n",
       "    .dataframe thead th {\n",
       "        text-align: right;\n",
       "    }\n",
       "</style>\n",
       "<table border=\"1\" class=\"dataframe\">\n",
       "  <thead>\n",
       "    <tr style=\"text-align: right;\">\n",
       "      <th></th>\n",
       "      <th>Survived</th>\n",
       "      <th>Pclass</th>\n",
       "      <th>Sex</th>\n",
       "      <th>Age</th>\n",
       "      <th>SibSp</th>\n",
       "      <th>Parch</th>\n",
       "      <th>Fare</th>\n",
       "    </tr>\n",
       "    <tr>\n",
       "      <th>Embarked</th>\n",
       "      <th></th>\n",
       "      <th></th>\n",
       "      <th></th>\n",
       "      <th></th>\n",
       "      <th></th>\n",
       "      <th></th>\n",
       "      <th></th>\n",
       "    </tr>\n",
       "  </thead>\n",
       "  <tbody>\n",
       "    <tr>\n",
       "      <th>0</th>\n",
       "      <td>247</td>\n",
       "      <td>247</td>\n",
       "      <td>247</td>\n",
       "      <td>247</td>\n",
       "      <td>247</td>\n",
       "      <td>247</td>\n",
       "      <td>247</td>\n",
       "    </tr>\n",
       "    <tr>\n",
       "      <th>1</th>\n",
       "      <td>84</td>\n",
       "      <td>84</td>\n",
       "      <td>84</td>\n",
       "      <td>84</td>\n",
       "      <td>84</td>\n",
       "      <td>84</td>\n",
       "      <td>84</td>\n",
       "    </tr>\n",
       "    <tr>\n",
       "      <th>2</th>\n",
       "      <td>769</td>\n",
       "      <td>769</td>\n",
       "      <td>769</td>\n",
       "      <td>769</td>\n",
       "      <td>769</td>\n",
       "      <td>769</td>\n",
       "      <td>769</td>\n",
       "    </tr>\n",
       "  </tbody>\n",
       "</table>\n",
       "</div>"
      ],
      "text/plain": [
       "          Survived  Pclass  Sex  Age  SibSp  Parch  Fare\n",
       "Embarked                                                \n",
       "0              247     247  247  247    247    247   247\n",
       "1               84      84   84   84     84     84    84\n",
       "2              769     769  769  769    769    769   769"
      ]
     },
     "execution_count": 17,
     "metadata": {},
     "output_type": "execute_result"
    }
   ],
   "source": [
    "print(\"Analisando valores de Embarked:\")\n",
    "dfTotal.groupby(['Embarked']).count()"
   ]
  },
  {
   "cell_type": "markdown",
   "metadata": {},
   "source": [
    "✅ __As 4 colunas listadas estão categorizadas de forma adequada, não havendo nenhuma linha categorizada com uma classe que não exista.__ ✅"
   ]
  },
  {
   "cell_type": "markdown",
   "metadata": {},
   "source": [
    "#### Análise de Variância, Desvio Padrão e Outliers\n",
    "\n",
    "As colunas que não foram analisadas e não estão dispostas em classes devem ser analisadas de outra forma. Sendo assim, cabe uma análise para conhecer variância, desvio padrão e outliers para as colunas:\n",
    "* Age\n",
    "* Fare\n",
    "* SibSp\n",
    "* Parch"
   ]
  },
  {
   "cell_type": "markdown",
   "metadata": {},
   "source": [
    "##### Age"
   ]
  },
  {
   "cell_type": "code",
   "execution_count": 18,
   "metadata": {},
   "outputs": [
    {
     "name": "stdout",
     "output_type": "stream",
     "text": [
      "Média: 29.860836363636363\n",
      "Desvio padrão: 13.860256931586331\n"
     ]
    }
   ],
   "source": [
    "mean  = np.mean(dfTotal['Age'], axis=0)\n",
    "sd    = np.std(dfTotal['Age'], axis=0)\n",
    "\n",
    "print(\"Média:\",mean)\n",
    "print(\"Desvio padrão:\",sd)"
   ]
  },
  {
   "cell_type": "code",
   "execution_count": 19,
   "metadata": {},
   "outputs": [
    {
     "name": "stdout",
     "output_type": "stream",
     "text": [
      "Limite de idade para outliers: 57.58135022680902\n"
     ]
    }
   ],
   "source": [
    "limitMax = mean + 2*sd\n",
    "\n",
    "print(\"Limite de idade para outliers:\",limitMax)"
   ]
  },
  {
   "cell_type": "code",
   "execution_count": 20,
   "metadata": {},
   "outputs": [
    {
     "name": "stdout",
     "output_type": "stream",
     "text": [
      "Gráfico de Outliers\n"
     ]
    },
    {
     "data": {
      "text/plain": [
       "<AxesSubplot:xlabel='Age'>"
      ]
     },
     "execution_count": 20,
     "metadata": {},
     "output_type": "execute_result"
    },
    {
     "data": {
      "image/png": "[encoded data removed]",
      "text/plain": [
       "<Figure size 432x288 with 1 Axes>"
      ]
     },
     "metadata": {
      "needs_background": "light"
     },
     "output_type": "display_data"
    }
   ],
   "source": [
    "print(\"Gráfico de Outliers\")\n",
    "sns.boxplot(x=dfTotal['Age'])"
   ]
  },
  {
   "cell_type": "code",
   "execution_count": 21,
   "metadata": {},
   "outputs": [
    {
     "name": "stdout",
     "output_type": "stream",
     "text": [
      "Idade máxima: 80.0\n",
      "Idade mínima: 0.17\n"
     ]
    }
   ],
   "source": [
    "print(\"Idade máxima:\",max(dfTotal['Age']))\n",
    "print(\"Idade mínima:\",min(dfTotal['Age']))"
   ]
  },
  {
   "cell_type": "markdown",
   "metadata": {},
   "source": [
    "⚠️ __Muito embora o limite de idade calculado (idades maiores que o limite calculado são os outliers) seja pouco mais que 57 anos, observe que a maior idade foi 80. Sendo assim, é notório que estes outliers podem ser considerados na análise do IA, enriquecem a análise e não trazem danos e serão mantidos no database.__ ⚠️"
   ]
  },
  {
   "cell_type": "markdown",
   "metadata": {},
   "source": [
    "##### Fare"
   ]
  },
  {
   "cell_type": "code",
   "execution_count": 22,
   "metadata": {},
   "outputs": [
    {
     "name": "stdout",
     "output_type": "stream",
     "text": [
      "Média: 36.96133709090912\n",
      "Desvio padrão: 55.29126122115588\n"
     ]
    }
   ],
   "source": [
    "mean  = np.mean(dfTotal['Fare'], axis=0)\n",
    "sd    = np.std(dfTotal['Fare'], axis=0)\n",
    "\n",
    "print(\"Média:\",mean)\n",
    "print(\"Desvio padrão:\",sd)"
   ]
  },
  {
   "cell_type": "code",
   "execution_count": 23,
   "metadata": {},
   "outputs": [
    {
     "name": "stdout",
     "output_type": "stream",
     "text": [
      "Limite de tarifa para outliers: 147.54385953322088\n"
     ]
    }
   ],
   "source": [
    "limitMax = mean + 2*sd\n",
    "\n",
    "print(\"Limite de tarifa para outliers:\",limitMax)"
   ]
  },
  {
   "cell_type": "code",
   "execution_count": 24,
   "metadata": {},
   "outputs": [
    {
     "name": "stdout",
     "output_type": "stream",
     "text": [
      "Gráfico de Outliers\n"
     ]
    },
    {
     "data": {
      "text/plain": [
       "<AxesSubplot:xlabel='Fare'>"
      ]
     },
     "execution_count": 24,
     "metadata": {},
     "output_type": "execute_result"
    },
    {
     "data": {
      "image/png": "[encoded data removed]",
      "text/plain": [
       "<Figure size 432x288 with 1 Axes>"
      ]
     },
     "metadata": {
      "needs_background": "light"
     },
     "output_type": "display_data"
    }
   ],
   "source": [
    "print(\"Gráfico de Outliers\")\n",
    "sns.boxplot(x=dfTotal['Fare'])"
   ]
  },
  {
   "cell_type": "code",
   "execution_count": 25,
   "metadata": {},
   "outputs": [
    {
     "name": "stdout",
     "output_type": "stream",
     "text": [
      "Tarifa máxima: £ 512.3292\n",
      "Tarifa mínima: £ 0.0\n"
     ]
    }
   ],
   "source": [
    "print(\"Tarifa máxima: £\",max(dfTotal['Fare']))\n",
    "print(\"Tarifa mínima: £\",min(dfTotal['Fare']))"
   ]
  },
  {
   "cell_type": "markdown",
   "metadata": {},
   "source": [
    "❗️ __As análises matemáticas acima para a coluna de tarifa requerem uma observação um pouco mais subjetiva.__ ❗️\n",
    "\n",
    "Em primeiro lugar observe a Tarifa mínima paga por um tripulante: £0,00. Isso significa que ele entrou de graça. O que isso pode significar. Há a possibilidade de ser apenas um erro no database, como também há a possibilidade de ser algum tipo de \"promoção\" dedicada a algum critério, ou simplesmente tripulantes que \"pularam a catraca\". \n",
    "Para validar ou invalidar será analisado quantas pessoas entraram sem pagar na tripulação. Com essa informação, caso mais de uma pessoa participe, será entendido que pode ter sido casos de pessoas que puderam entrar sem pagar e, portanto, devem ser consideradas no IA. Caso contrário o usuário será desconsiderado e removido do database.\n",
    "\n",
    "Da mesma forma, para a tarifa máxima no gráfico é possível observar uma grande diferença da maior tarifa paga em relação às demais e será feita uma análise de quantas pessoas pagaram mais de £500,00."
   ]
  },
  {
   "cell_type": "code",
   "execution_count": 26,
   "metadata": {},
   "outputs": [
    {
     "name": "stdout",
     "output_type": "stream",
     "text": [
      "Quantidade de não pagantes: 10\n",
      "Quantidade de pagantes acima de £500,00: 4\n"
     ]
    }
   ],
   "source": [
    "print(\"Quantidade de não pagantes:\",len(dfTotal.loc[dfTotal['Fare']==0]))\n",
    "print(\"Quantidade de pagantes acima de £500,00:\",len(dfTotal.loc[dfTotal['Fare']>=500]))"
   ]
  },
  {
   "cell_type": "markdown",
   "metadata": {},
   "source": [
    "⚠️ __Observe que tanto para não pagantes quanto para pagantes de um valor acima de £500 não foram casos isolados. Entende-se, então que houve não pagantes na tripulação, bem como houve pessoas com extremas condições para pagar mais de £500,00 pela viagem e, sendo assim, todos os dados referentes a Tarifa serão mantidos.__ ⚠️"
   ]
  },
  {
   "cell_type": "markdown",
   "metadata": {},
   "source": [
    "##### SibSp"
   ]
  },
  {
   "cell_type": "code",
   "execution_count": 27,
   "metadata": {},
   "outputs": [
    {
     "name": "stdout",
     "output_type": "stream",
     "text": [
      "Média: 0.5290909090909091\n",
      "Desvio padrão: 0.9844560523498476\n"
     ]
    }
   ],
   "source": [
    "mean  = np.mean(dfTotal['SibSp'], axis=0)\n",
    "sd    = np.std(dfTotal['SibSp'], axis=0)\n",
    "\n",
    "print(\"Média:\",mean)\n",
    "print(\"Desvio padrão:\",sd)"
   ]
  },
  {
   "cell_type": "code",
   "execution_count": 28,
   "metadata": {},
   "outputs": [
    {
     "name": "stdout",
     "output_type": "stream",
     "text": [
      "Limite de quantidade de irmãos/cônjuges para outliers: 2.498003013790604\n"
     ]
    }
   ],
   "source": [
    "limitMax = mean + 2*sd\n",
    "\n",
    "print(\"Limite de quantidade de irmãos/cônjuges para outliers:\",limitMax)"
   ]
  },
  {
   "cell_type": "code",
   "execution_count": 29,
   "metadata": {},
   "outputs": [
    {
     "name": "stdout",
     "output_type": "stream",
     "text": [
      "Gráfico de Outliers\n"
     ]
    },
    {
     "data": {
      "text/plain": [
       "<AxesSubplot:xlabel='SibSp'>"
      ]
     },
     "execution_count": 29,
     "metadata": {},
     "output_type": "execute_result"
    },
    {
     "data": {
      "image/png": "[encoded data removed]",
      "text/plain": [
       "<Figure size 432x288 with 1 Axes>"
      ]
     },
     "metadata": {
      "needs_background": "light"
     },
     "output_type": "display_data"
    }
   ],
   "source": [
    "print(\"Gráfico de Outliers\")\n",
    "sns.boxplot(x=dfTotal['SibSp'])"
   ]
  },
  {
   "cell_type": "code",
   "execution_count": 30,
   "metadata": {},
   "outputs": [
    {
     "name": "stdout",
     "output_type": "stream",
     "text": [
      "Quantidade de irmãos/cônjuges máxima: 8\n",
      "Quantidade de irmãos/cônjuges mínima: 0\n"
     ]
    }
   ],
   "source": [
    "print(\"Quantidade de irmãos/cônjuges máxima:\",max(dfTotal['SibSp']))\n",
    "print(\"Quantidade de irmãos/cônjuges mínima:\",min(dfTotal['SibSp']))"
   ]
  },
  {
   "cell_type": "markdown",
   "metadata": {},
   "source": [
    "✅ __Os dados são completamente satisfatórios, uma vez que é muito possível que uma pessoa contenha 8 irmãos e o cônjuge ou que não tenha nem irmãos nem cônjuge na viagem, não sendo adequado fazer nenhuma remoção.__ ✅"
   ]
  },
  {
   "cell_type": "markdown",
   "metadata": {},
   "source": [
    "##### Parch"
   ]
  },
  {
   "cell_type": "code",
   "execution_count": 31,
   "metadata": {},
   "outputs": [
    {
     "name": "stdout",
     "output_type": "stream",
     "text": [
      "Média: 0.44181818181818183\n",
      "Desvio padrão: 0.918138612844859\n"
     ]
    }
   ],
   "source": [
    "mean  = np.mean(dfTotal['Parch'], axis=0)\n",
    "sd    = np.std(dfTotal['Parch'], axis=0)\n",
    "\n",
    "print(\"Média:\",mean)\n",
    "print(\"Desvio padrão:\",sd)"
   ]
  },
  {
   "cell_type": "code",
   "execution_count": 32,
   "metadata": {},
   "outputs": [
    {
     "name": "stdout",
     "output_type": "stream",
     "text": [
      "Limite de quantidade de pais/filhos para outliers: 2.2780954075079\n"
     ]
    }
   ],
   "source": [
    "limitMax = mean + 2*sd\n",
    "\n",
    "print(\"Limite de quantidade de pais/filhos para outliers:\",limitMax)"
   ]
  },
  {
   "cell_type": "code",
   "execution_count": 33,
   "metadata": {},
   "outputs": [
    {
     "name": "stdout",
     "output_type": "stream",
     "text": [
      "Gráfico de Outliers\n"
     ]
    },
    {
     "data": {
      "text/plain": [
       "<AxesSubplot:xlabel='Parch'>"
      ]
     },
     "execution_count": 33,
     "metadata": {},
     "output_type": "execute_result"
    },
    {
     "data": {
      "image/png": "[encoded data removed]",
      "text/plain": [
       "<Figure size 432x288 with 1 Axes>"
      ]
     },
     "metadata": {
      "needs_background": "light"
     },
     "output_type": "display_data"
    }
   ],
   "source": [
    "print(\"Gráfico de Outliers\")\n",
    "sns.boxplot(x=dfTotal['Parch'])"
   ]
  },
  {
   "cell_type": "code",
   "execution_count": 34,
   "metadata": {},
   "outputs": [
    {
     "name": "stdout",
     "output_type": "stream",
     "text": [
      "Quantidade de pais/filhos máxima: 9\n",
      "Quantidade de pais/filhos mínima: 0\n"
     ]
    }
   ],
   "source": [
    "print(\"Quantidade de pais/filhos máxima:\",max(dfTotal['Parch']))\n",
    "print(\"Quantidade de pais/filhos mínima:\",min(dfTotal['Parch']))"
   ]
  },
  {
   "cell_type": "markdown",
   "metadata": {},
   "source": [
    "✅ __Os dados são completamente satisfatórios, uma vez que é muito possível que uma pessoa contenha 9 filhos e os pais ou que não tenha nem filhos nem pais na viagem, não sendo adequado fazer nenhuma remoção.__ ✅"
   ]
  },
  {
   "cell_type": "markdown",
   "metadata": {},
   "source": [
    "#### Analisando a correlação\n",
    "\n",
    "É importante analisar a correlação das colunas, uma vez que colunas podem apresentar informações redundantes ou quase redundantes, causando uma falta de necessidade de uma delas."
   ]
  },
  {
   "cell_type": "code",
   "execution_count": 35,
   "metadata": {},
   "outputs": [
    {
     "data": {
      "text/html": [
       "<style  type=\"text/css\" >\n",
       "#T_f69ef_row0_col0,#T_f69ef_row1_col1,#T_f69ef_row2_col2,#T_f69ef_row3_col3,#T_f69ef_row4_col4,#T_f69ef_row5_col5,#T_f69ef_row6_col6,#T_f69ef_row7_col7{\n",
       "            background-color:  #b40426;\n",
       "            color:  #f1f1f1;\n",
       "        }#T_f69ef_row0_col1,#T_f69ef_row7_col6{\n",
       "            background-color:  #7a9df8;\n",
       "            color:  #000000;\n",
       "        }#T_f69ef_row0_col2{\n",
       "            background-color:  #f7af91;\n",
       "            color:  #000000;\n",
       "        }#T_f69ef_row0_col3{\n",
       "            background-color:  #86a9fc;\n",
       "            color:  #000000;\n",
       "        }#T_f69ef_row0_col4,#T_f69ef_row5_col3{\n",
       "            background-color:  #7295f4;\n",
       "            color:  #000000;\n",
       "        }#T_f69ef_row0_col5{\n",
       "            background-color:  #7b9ff9;\n",
       "            color:  #000000;\n",
       "        }#T_f69ef_row0_col6,#T_f69ef_row7_col1{\n",
       "            background-color:  #dcdddd;\n",
       "            color:  #000000;\n",
       "        }#T_f69ef_row0_col7{\n",
       "            background-color:  #5a78e4;\n",
       "            color:  #000000;\n",
       "        }#T_f69ef_row1_col0,#T_f69ef_row1_col2,#T_f69ef_row1_col3,#T_f69ef_row1_col6,#T_f69ef_row3_col4,#T_f69ef_row3_col5,#T_f69ef_row6_col1,#T_f69ef_row6_col7{\n",
       "            background-color:  #3b4cc0;\n",
       "            color:  #f1f1f1;\n",
       "        }#T_f69ef_row1_col4,#T_f69ef_row6_col2,#T_f69ef_row7_col4{\n",
       "            background-color:  #8caffe;\n",
       "            color:  #000000;\n",
       "        }#T_f69ef_row1_col5{\n",
       "            background-color:  #6f92f3;\n",
       "            color:  #000000;\n",
       "        }#T_f69ef_row1_col7{\n",
       "            background-color:  #b7cff9;\n",
       "            color:  #000000;\n",
       "        }#T_f69ef_row2_col0{\n",
       "            background-color:  #f6a283;\n",
       "            color:  #000000;\n",
       "        }#T_f69ef_row2_col1,#T_f69ef_row6_col5{\n",
       "            background-color:  #9bbcff;\n",
       "            color:  #000000;\n",
       "        }#T_f69ef_row2_col3{\n",
       "            background-color:  #84a7fc;\n",
       "            color:  #000000;\n",
       "        }#T_f69ef_row2_col4{\n",
       "            background-color:  #8db0fe;\n",
       "            color:  #000000;\n",
       "        }#T_f69ef_row2_col5,#T_f69ef_row6_col4{\n",
       "            background-color:  #9dbdff;\n",
       "            color:  #000000;\n",
       "        }#T_f69ef_row2_col6{\n",
       "            background-color:  #d4dbe6;\n",
       "            color:  #000000;\n",
       "        }#T_f69ef_row2_col7{\n",
       "            background-color:  #6485ec;\n",
       "            color:  #000000;\n",
       "        }#T_f69ef_row3_col0{\n",
       "            background-color:  #6b8df0;\n",
       "            color:  #000000;\n",
       "        }#T_f69ef_row3_col1{\n",
       "            background-color:  #5e7de7;\n",
       "            color:  #000000;\n",
       "        }#T_f69ef_row3_col2{\n",
       "            background-color:  #4358cb;\n",
       "            color:  #f1f1f1;\n",
       "        }#T_f69ef_row3_col6{\n",
       "            background-color:  #d5dbe5;\n",
       "            color:  #000000;\n",
       "        }#T_f69ef_row3_col7{\n",
       "            background-color:  #6a8bef;\n",
       "            color:  #000000;\n",
       "        }#T_f69ef_row4_col0{\n",
       "            background-color:  #799cf8;\n",
       "            color:  #000000;\n",
       "        }#T_f69ef_row4_col1{\n",
       "            background-color:  #c3d5f4;\n",
       "            color:  #000000;\n",
       "        }#T_f69ef_row4_col2,#T_f69ef_row7_col5{\n",
       "            background-color:  #7093f3;\n",
       "            color:  #000000;\n",
       "        }#T_f69ef_row4_col3{\n",
       "            background-color:  #5d7ce6;\n",
       "            color:  #000000;\n",
       "        }#T_f69ef_row4_col5{\n",
       "            background-color:  #c7d7f0;\n",
       "            color:  #000000;\n",
       "        }#T_f69ef_row4_col6{\n",
       "            background-color:  #cedaeb;\n",
       "            color:  #000000;\n",
       "        }#T_f69ef_row4_col7{\n",
       "            background-color:  #90b2fe;\n",
       "            color:  #000000;\n",
       "        }#T_f69ef_row5_col0,#T_f69ef_row5_col2{\n",
       "            background-color:  #94b6ff;\n",
       "            color:  #000000;\n",
       "        }#T_f69ef_row5_col1{\n",
       "            background-color:  #bed2f6;\n",
       "            color:  #000000;\n",
       "        }#T_f69ef_row5_col4{\n",
       "            background-color:  #d3dbe7;\n",
       "            color:  #000000;\n",
       "        }#T_f69ef_row5_col6{\n",
       "            background-color:  #d8dce2;\n",
       "            color:  #000000;\n",
       "        }#T_f69ef_row5_col7{\n",
       "            background-color:  #8badfd;\n",
       "            color:  #000000;\n",
       "        }#T_f69ef_row6_col0{\n",
       "            background-color:  #b9d0f9;\n",
       "            color:  #000000;\n",
       "        }#T_f69ef_row6_col3{\n",
       "            background-color:  #c0d4f5;\n",
       "            color:  #000000;\n",
       "        }#T_f69ef_row7_col0{\n",
       "            background-color:  #5b7ae5;\n",
       "            color:  #000000;\n",
       "        }#T_f69ef_row7_col2{\n",
       "            background-color:  #4055c8;\n",
       "            color:  #f1f1f1;\n",
       "        }#T_f69ef_row7_col3{\n",
       "            background-color:  #85a8fc;\n",
       "            color:  #000000;\n",
       "        }</style><table id=\"T_f69ef_\" ><thead>    <tr>        <th class=\"blank level0\" ></th>        <th class=\"col_heading level0 col0\" >Survived</th>        <th class=\"col_heading level0 col1\" >Pclass</th>        <th class=\"col_heading level0 col2\" >Sex</th>        <th class=\"col_heading level0 col3\" >Age</th>        <th class=\"col_heading level0 col4\" >SibSp</th>        <th class=\"col_heading level0 col5\" >Parch</th>        <th class=\"col_heading level0 col6\" >Fare</th>        <th class=\"col_heading level0 col7\" >Embarked</th>    </tr></thead><tbody>\n",
       "                <tr>\n",
       "                        <th id=\"T_f69ef_level0_row0\" class=\"row_heading level0 row0\" >Survived</th>\n",
       "                        <td id=\"T_f69ef_row0_col0\" class=\"data row0 col0\" >1.000000</td>\n",
       "                        <td id=\"T_f69ef_row0_col1\" class=\"data row0 col1\" >-0.252715</td>\n",
       "                        <td id=\"T_f69ef_row0_col2\" class=\"data row0 col2\" >0.660757</td>\n",
       "                        <td id=\"T_f69ef_row0_col3\" class=\"data row0 col3\" >-0.061647</td>\n",
       "                        <td id=\"T_f69ef_row0_col4\" class=\"data row0 col4\" >-0.011744</td>\n",
       "                        <td id=\"T_f69ef_row0_col5\" class=\"data row0 col5\" >0.089501</td>\n",
       "                        <td id=\"T_f69ef_row0_col6\" class=\"data row0 col6\" >0.218534</td>\n",
       "                        <td id=\"T_f69ef_row0_col7\" class=\"data row0 col7\" >-0.120102</td>\n",
       "            </tr>\n",
       "            <tr>\n",
       "                        <th id=\"T_f69ef_level0_row1\" class=\"row_heading level0 row1\" >Pclass</th>\n",
       "                        <td id=\"T_f69ef_row1_col0\" class=\"data row1 col0\" >-0.252715</td>\n",
       "                        <td id=\"T_f69ef_row1_col1\" class=\"data row1 col1\" >1.000000</td>\n",
       "                        <td id=\"T_f69ef_row1_col2\" class=\"data row1 col2\" >-0.105154</td>\n",
       "                        <td id=\"T_f69ef_row1_col3\" class=\"data row1 col3\" >-0.381018</td>\n",
       "                        <td id=\"T_f69ef_row1_col4\" class=\"data row1 col4\" >0.076442</td>\n",
       "                        <td id=\"T_f69ef_row1_col5\" class=\"data row1 col5\" >0.050739</td>\n",
       "                        <td id=\"T_f69ef_row1_col6\" class=\"data row1 col6\" >-0.560860</td>\n",
       "                        <td id=\"T_f69ef_row1_col7\" class=\"data row1 col7\" >0.214417</td>\n",
       "            </tr>\n",
       "            <tr>\n",
       "                        <th id=\"T_f69ef_level0_row2\" class=\"row_heading level0 row2\" >Sex</th>\n",
       "                        <td id=\"T_f69ef_row2_col0\" class=\"data row2 col0\" >0.660757</td>\n",
       "                        <td id=\"T_f69ef_row2_col1\" class=\"data row2 col1\" >-0.105154</td>\n",
       "                        <td id=\"T_f69ef_row2_col2\" class=\"data row2 col2\" >1.000000</td>\n",
       "                        <td id=\"T_f69ef_row2_col3\" class=\"data row2 col3\" >-0.071113</td>\n",
       "                        <td id=\"T_f69ef_row2_col4\" class=\"data row2 col4\" >0.082485</td>\n",
       "                        <td id=\"T_f69ef_row2_col5\" class=\"data row2 col5\" >0.196796</td>\n",
       "                        <td id=\"T_f69ef_row2_col6\" class=\"data row2 col6\" >0.168297</td>\n",
       "                        <td id=\"T_f69ef_row2_col7\" class=\"data row2 col7\" >-0.082788</td>\n",
       "            </tr>\n",
       "            <tr>\n",
       "                        <th id=\"T_f69ef_level0_row3\" class=\"row_heading level0 row3\" >Age</th>\n",
       "                        <td id=\"T_f69ef_row3_col0\" class=\"data row3 col0\" >-0.061647</td>\n",
       "                        <td id=\"T_f69ef_row3_col1\" class=\"data row3 col1\" >-0.381018</td>\n",
       "                        <td id=\"T_f69ef_row3_col2\" class=\"data row3 col2\" >-0.071113</td>\n",
       "                        <td id=\"T_f69ef_row3_col3\" class=\"data row3 col3\" >1.000000</td>\n",
       "                        <td id=\"T_f69ef_row3_col4\" class=\"data row3 col4\" >-0.225943</td>\n",
       "                        <td id=\"T_f69ef_row3_col5\" class=\"data row3 col5\" >-0.139323</td>\n",
       "                        <td id=\"T_f69ef_row3_col6\" class=\"data row3 col6\" >0.171715</td>\n",
       "                        <td id=\"T_f69ef_row3_col7\" class=\"data row3 col7\" >-0.064612</td>\n",
       "            </tr>\n",
       "            <tr>\n",
       "                        <th id=\"T_f69ef_level0_row4\" class=\"row_heading level0 row4\" >SibSp</th>\n",
       "                        <td id=\"T_f69ef_row4_col0\" class=\"data row4 col0\" >-0.011744</td>\n",
       "                        <td id=\"T_f69ef_row4_col1\" class=\"data row4 col1\" >0.076442</td>\n",
       "                        <td id=\"T_f69ef_row4_col2\" class=\"data row4 col2\" >0.082485</td>\n",
       "                        <td id=\"T_f69ef_row4_col3\" class=\"data row4 col3\" >-0.225943</td>\n",
       "                        <td id=\"T_f69ef_row4_col4\" class=\"data row4 col4\" >1.000000</td>\n",
       "                        <td id=\"T_f69ef_row4_col5\" class=\"data row4 col5\" >0.343838</td>\n",
       "                        <td id=\"T_f69ef_row4_col6\" class=\"data row4 col6\" >0.134557</td>\n",
       "                        <td id=\"T_f69ef_row4_col7\" class=\"data row4 col7\" >0.076037</td>\n",
       "            </tr>\n",
       "            <tr>\n",
       "                        <th id=\"T_f69ef_level0_row5\" class=\"row_heading level0 row5\" >Parch</th>\n",
       "                        <td id=\"T_f69ef_row5_col0\" class=\"data row5 col0\" >0.089501</td>\n",
       "                        <td id=\"T_f69ef_row5_col1\" class=\"data row5 col1\" >0.050739</td>\n",
       "                        <td id=\"T_f69ef_row5_col2\" class=\"data row5 col2\" >0.196796</td>\n",
       "                        <td id=\"T_f69ef_row5_col3\" class=\"data row5 col3\" >-0.139323</td>\n",
       "                        <td id=\"T_f69ef_row5_col4\" class=\"data row5 col4\" >0.343838</td>\n",
       "                        <td id=\"T_f69ef_row5_col5\" class=\"data row5 col5\" >1.000000</td>\n",
       "                        <td id=\"T_f69ef_row5_col6\" class=\"data row5 col6\" >0.194046</td>\n",
       "                        <td id=\"T_f69ef_row5_col7\" class=\"data row5 col7\" >0.053754</td>\n",
       "            </tr>\n",
       "            <tr>\n",
       "                        <th id=\"T_f69ef_level0_row6\" class=\"row_heading level0 row6\" >Fare</th>\n",
       "                        <td id=\"T_f69ef_row6_col0\" class=\"data row6 col0\" >0.218534</td>\n",
       "                        <td id=\"T_f69ef_row6_col1\" class=\"data row6 col1\" >-0.560860</td>\n",
       "                        <td id=\"T_f69ef_row6_col2\" class=\"data row6 col2\" >0.168297</td>\n",
       "                        <td id=\"T_f69ef_row6_col3\" class=\"data row6 col3\" >0.171715</td>\n",
       "                        <td id=\"T_f69ef_row6_col4\" class=\"data row6 col4\" >0.134557</td>\n",
       "                        <td id=\"T_f69ef_row6_col5\" class=\"data row6 col5\" >0.194046</td>\n",
       "                        <td id=\"T_f69ef_row6_col6\" class=\"data row6 col6\" >1.000000</td>\n",
       "                        <td id=\"T_f69ef_row6_col7\" class=\"data row6 col7\" >-0.250505</td>\n",
       "            </tr>\n",
       "            <tr>\n",
       "                        <th id=\"T_f69ef_level0_row7\" class=\"row_heading level0 row7\" >Embarked</th>\n",
       "                        <td id=\"T_f69ef_row7_col0\" class=\"data row7 col0\" >-0.120102</td>\n",
       "                        <td id=\"T_f69ef_row7_col1\" class=\"data row7 col1\" >0.214417</td>\n",
       "                        <td id=\"T_f69ef_row7_col2\" class=\"data row7 col2\" >-0.082788</td>\n",
       "                        <td id=\"T_f69ef_row7_col3\" class=\"data row7 col3\" >-0.064612</td>\n",
       "                        <td id=\"T_f69ef_row7_col4\" class=\"data row7 col4\" >0.076037</td>\n",
       "                        <td id=\"T_f69ef_row7_col5\" class=\"data row7 col5\" >0.053754</td>\n",
       "                        <td id=\"T_f69ef_row7_col6\" class=\"data row7 col6\" >-0.250505</td>\n",
       "                        <td id=\"T_f69ef_row7_col7\" class=\"data row7 col7\" >1.000000</td>\n",
       "            </tr>\n",
       "    </tbody></table>"
      ],
      "text/plain": [
       "<pandas.io.formats.style.Styler at 0x1a66819da30>"
      ]
     },
     "execution_count": 35,
     "metadata": {},
     "output_type": "execute_result"
    }
   ],
   "source": [
    "corr = dfTotal.corr()\n",
    "corr.style.background_gradient(cmap='coolwarm')"
   ]
  },
  {
   "cell_type": "markdown",
   "metadata": {},
   "source": [
    "❗️ __Observa-se que há uma correlação entre Sexo e Sobreviventes. Isso pode está associado à quantidade de pessoas e à prioridade de uso dos botes durante o naufragio do navio. Sendo assim a coluna será mantida, uma vez que não há muitas colunas e a correlação possui uma explicação factível, mas ao meu entender, não tão grande a ponto de viabilizar a exclusao da coluna de Sexo.__ ❗️"
   ]
  },
  {
   "cell_type": "markdown",
   "metadata": {},
   "source": [
    "#### Isolando o treino\n",
    "\n",
    "É importante isolar o *X* e o *Y* dos treinos, sendo o X os dados da database que serão tirando a saída (*Survived*) e o Y as saídas corretas para cada entidade do treino."
   ]
  },
  {
   "cell_type": "code",
   "execution_count": 36,
   "metadata": {},
   "outputs": [],
   "source": [
    "y = dfTotal['Survived'].values\n",
    "x = dfTotal.drop(columns=['Survived'])"
   ]
  },
  {
   "cell_type": "markdown",
   "metadata": {},
   "source": [
    "#### Validação cruzada estratificada\n",
    "\n",
    "Neste ponto será realizada a definição dos parâmetros para realização da validação cruzada estratificada e as métricas de análise, considerando a __Acurácia__, o __F1__ e a __Precisão__."
   ]
  },
  {
   "cell_type": "code",
   "execution_count": 37,
   "metadata": {},
   "outputs": [],
   "source": [
    "kf = StratifiedKFold(n_splits=10, random_state=3, shuffle=True)\n",
    "scoring = {\n",
    "    'Accuracy': make_scorer(accuracy_score),\n",
    "    'F1':make_scorer(f1_score),\n",
    "    'Precision':make_scorer(precision_score),\n",
    "    'Recall':make_scorer(recall_score)\n",
    "}"
   ]
  },
  {
   "cell_type": "markdown",
   "metadata": {},
   "source": [
    "#### Método 1 - KNN\n",
    "\n",
    "Com o algoritmo devidamente pré-processado e pronto para trabalhar nos métodos, primeiro será realizado o tratamento com o KNN. Desta forma, como sendo o K a principal variável do método KNN, entendeu-se como mais interessante mudar os valores de K. Sendo assim, serão considerados os valores:\n",
    "* K = 1;\n",
    "* K = 5;\n",
    "* K = 10.\n",
    "\n",
    "\n",
    "\n",
    "\n",
    "A métrica utilizada será __Jacccard__."
   ]
  },
  {
   "cell_type": "markdown",
   "metadata": {},
   "source": [
    "##### KNN com K = 1"
   ]
  },
  {
   "cell_type": "code",
   "execution_count": 38,
   "metadata": {},
   "outputs": [
    {
     "name": "stdout",
     "output_type": "stream",
     "text": [
      "Acurácia Média: 0.74\n",
      "F1 Médio: 0.69\n",
      "Precisão Média: 0.67\n",
      "Recall Média: 0.72\n"
     ]
    }
   ],
   "source": [
    "knn = neighbors.KNeighborsClassifier(n_neighbors = 1, metric=\"jaccard\", algorithm=\"auto\")\n",
    "scores = cross_validate(knn, x, y, cv=kf,scoring=scoring)\n",
    "print(\"Acurácia Média: %.2f\" %(np.mean(scores['test_Accuracy'])))\n",
    "print(\"F1 Médio: %.2f\" %(np.mean(scores['test_F1'])))\n",
    "print(\"Precisão Média: %.2f\" %(np.mean(scores['test_Precision'])))\n",
    "print(\"Recall Média: %.2f\" %(np.mean(scores['test_Recall'])))"
   ]
  },
  {
   "cell_type": "markdown",
   "metadata": {},
   "source": [
    "##### KNN com K = 5"
   ]
  },
  {
   "cell_type": "code",
   "execution_count": 39,
   "metadata": {},
   "outputs": [
    {
     "name": "stdout",
     "output_type": "stream",
     "text": [
      "Acurácia Média: 0.77\n",
      "F1 Médio: 0.71\n",
      "Precisão Média: 0.72\n",
      "Recall Média: 0.72\n"
     ]
    }
   ],
   "source": [
    "knn = neighbors.KNeighborsClassifier(n_neighbors = 5, metric=\"jaccard\", algorithm=\"auto\")\n",
    "scores = cross_validate(knn, x, y, cv=kf,scoring=scoring)\n",
    "print(\"Acurácia Média: %.2f\" %(np.mean(scores['test_Accuracy'])))\n",
    "print(\"F1 Médio: %.2f\" %(np.mean(scores['test_F1'])))\n",
    "print(\"Precisão Média: %.2f\" %(np.mean(scores['test_Precision'])))\n",
    "print(\"Recall Média: %.2f\" %(np.mean(scores['test_Recall'])))"
   ]
  },
  {
   "cell_type": "markdown",
   "metadata": {},
   "source": [
    "##### KNN com K = 10"
   ]
  },
  {
   "cell_type": "code",
   "execution_count": 40,
   "metadata": {},
   "outputs": [
    {
     "name": "stdout",
     "output_type": "stream",
     "text": [
      "Acurácia Média: 0.84\n",
      "F1 Médio: 0.79\n",
      "Precisão Média: 0.82\n",
      "Recall Média: 0.77\n"
     ]
    }
   ],
   "source": [
    "knn = neighbors.KNeighborsClassifier(n_neighbors = 10, metric=\"jaccard\", algorithm=\"auto\")\n",
    "scores = cross_validate(knn, x, y, cv=kf,scoring=scoring)\n",
    "print(\"Acurácia Média: %.2f\" %(np.mean(scores['test_Accuracy'])))\n",
    "print(\"F1 Médio: %.2f\" %(np.mean(scores['test_F1'])))\n",
    "print(\"Precisão Média: %.2f\" %(np.mean(scores['test_Precision'])))\n",
    "print(\"Recall Média: %.2f\" %(np.mean(scores['test_Recall'])))"
   ]
  },
  {
   "cell_type": "markdown",
   "metadata": {},
   "source": [
    "✅ __Observa-se que a acurácia apresenta uma precisão maior com 10 vizinhos (K igual a 10). 83% de acertos é uma quantidade muito boa. O menos preciso, entretanto, apresenta 71% de acerto, com 1 vizinho (K igual a 1).__ ✅"
   ]
  },
  {
   "cell_type": "markdown",
   "metadata": {},
   "source": [
    "#### Método 2 - Naive Bayes\n",
    "\n",
    "Com o método Naive Bayes será realizado os testes e analizada as acurácias alterando o parâmetro __var_smoothing__. Os valores testados são:\n",
    "* 1e-09\n",
    "* 1e-03\n",
    "* 1e-05"
   ]
  },
  {
   "cell_type": "code",
   "execution_count": 41,
   "metadata": {},
   "outputs": [
    {
     "name": "stdout",
     "output_type": "stream",
     "text": [
      "Acurácia Média: 0.8182\n",
      "F1 Médio: 0.7771\n",
      "Precisão Média: 0.7915\n",
      "Recall Média: 0.7678\n"
     ]
    }
   ],
   "source": [
    "clf = GaussianNB(var_smoothing = 1e-09)\n",
    "scores = cross_validate(clf, x, y, cv=kf, scoring=scoring)\n",
    "print(\"Acurácia Média: %.4f\" %(np.mean(scores['test_Accuracy'])))\n",
    "print(\"F1 Médio: %.4f\" %(np.mean(scores['test_F1'])))\n",
    "print(\"Precisão Média: %.4f\" %(np.mean(scores['test_Precision'])))\n",
    "print(\"Recall Média: %.4f\" %(np.mean(scores['test_Recall'])))"
   ]
  },
  {
   "cell_type": "code",
   "execution_count": 42,
   "metadata": {
    "scrolled": true
   },
   "outputs": [
    {
     "name": "stdout",
     "output_type": "stream",
     "text": [
      "Acurácia Média: 0.6409\n",
      "F1 Médio: 0.3230\n",
      "Precisão Média: 0.7316\n",
      "Recall Média: 0.2126\n"
     ]
    }
   ],
   "source": [
    "clf = GaussianNB(var_smoothing = 1e-03)\n",
    "scores = cross_validate(clf, x, y, cv=kf, scoring=scoring)\n",
    "print(\"Acurácia Média: %.4f\" %(np.mean(scores['test_Accuracy'])))\n",
    "print(\"F1 Médio: %.4f\" %(np.mean(scores['test_F1'])))\n",
    "print(\"Precisão Média: %.4f\" %(np.mean(scores['test_Precision'])))\n",
    "print(\"Recall Média: %.4f\" %(np.mean(scores['test_Recall'])))"
   ]
  },
  {
   "cell_type": "code",
   "execution_count": 43,
   "metadata": {},
   "outputs": [
    {
     "name": "stdout",
     "output_type": "stream",
     "text": [
      "Acurácia Média: 0.8245\n",
      "F1 Médio: 0.7853\n",
      "Precisão Média: 0.7990\n",
      "Recall Média: 0.7766\n"
     ]
    }
   ],
   "source": [
    "clf = GaussianNB(var_smoothing = 1e-05)\n",
    "scores = cross_validate(clf, x, y, cv=kf, scoring=scoring)\n",
    "print(\"Acurácia Média: %.4f\" %(np.mean(scores['test_Accuracy'])))\n",
    "print(\"F1 Médio: %.4f\" %(np.mean(scores['test_F1'])))\n",
    "print(\"Precisão Média: %.4f\" %(np.mean(scores['test_Precision'])))\n",
    "print(\"Recall Média: %.4f\" %(np.mean(scores['test_Recall'])))"
   ]
  },
  {
   "cell_type": "markdown",
   "metadata": {},
   "source": [
    "✅ __Observa-se que a acurácia apresenta uma precisão maior com var_smoothing igual a 1e-05. 82% de acertos é uma boa quantidade, muito embora ainda seja menor que a quantidade observada com o KNN. O menos preciso, entretanto, apresenta 64% de acertos, com var_smooting igual a 1e-03, e 64% de acertos, muito abaixo, inclusive, do pior caso de KNN.__ ✅"
   ]
  },
  {
   "cell_type": "markdown",
   "metadata": {},
   "source": [
    "### Conclusão\n",
    "\n",
    "Observa-se que para a forma como os dados foram tratados o *KNN* se mostra como a melhor alternativa. Entretanto isso não inviabiliza o uso do Naive Bayes, uma vez que seu uso passa a ser mais adequado em outro tipo de cenário."
   ]
  },
  {
   "cell_type": "code",
   "execution_count": null,
   "metadata": {},
   "outputs": [],
   "source": []
  }
 ],
 "metadata": {
  "kernelspec": {
   "display_name": "Python 3",
   "language": "python",
   "name": "python3"
  },
  "language_info": {
   "codemirror_mode": {
    "name": "ipython",
    "version": 3
   },
   "file_extension": ".py",
   "mimetype": "text/x-python",
   "name": "python",
   "nbconvert_exporter": "python",
   "pygments_lexer": "ipython3",
   "version": "3.8.8"
  }
 },
 "nbformat": 4,
 "nbformat_minor": 2
}
