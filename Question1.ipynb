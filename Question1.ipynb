{
 "cells": [
  {
   "cell_type": "markdown",
   "metadata": {},
   "source": [
    "# Avaliação 2"
   ]
  },
  {
   "cell_type": "markdown",
   "metadata": {},
   "source": [
    "### Questão 1\n",
    "Utilizando a base Titanic disponível no kaggle (https://www.kaggle.com/c/titanic/data) elabore uma solução utilizando dois algoritmos de aprendizagem de máquina do seu conhecimento para classificar se o passageiro tem ou não chance de sobreviver. Os resultados dessa questão deverão ser descritos detalhadamente no relatório.\n",
    "* Lembre de fazer todo o pré-processamento, explicando suas decisões;\n",
    "* Avalie os resultados usando diferentes métricas.\n",
    "* Teste 3 variações de parâmetros dos métodos;"
   ]
  },
  {
   "cell_type": "markdown",
   "metadata": {},
   "source": [
    "#### Pré-processamento\n",
    "\n",
    "É dado início ao pré-processamento, importando as bibliotecas necessárias e instanciando os databases forneceidos através do pandas.\n",
    "\n",
    "É importante entender que:\n",
    "* __gs__ equivale à instância do database que contém as saídas (coluna *Survived*) corretas para os testes\n",
    "* __tr__ equivale à instância do database que contém os treinos\n",
    "* __ts__ equivale à instância do database que contém os testes\n",
    "\n",
    "Vale lembrar que o database __gs__ refere-se ao __teste__, e que o __teste__ não pertence ao treino. Portanto será interessante unir os dois databases futuramente."
   ]
  },
  {
   "cell_type": "code",
   "execution_count": null,
   "metadata": {},
   "outputs": [],
   "source": [
    "import pandas as pd\n",
    "import numpy as np\n",
    "import seaborn as sns\n",
    "import matplotlib.pyplot as plt\n",
    "from scipy import stats\n",
    "from sklearn import cluster, neighbors, svm, metrics, preprocessing\n",
    "from sklearn.model_selection import train_test_split\n",
    "from sklearn.metrics import confusion_matrix\n",
    "from sklearn.metrics import classification_report\n",
    "\n",
    "gs = pd.read_csv(\"data/gender_submission.csv\",sep=\",\")\n",
    "tr = pd.read_csv(\"data/train.csv\",sep=\",\")\n",
    "ts = pd.read_csv(\"data/test.csv\",sep=\",\")"
   ]
  },
  {
   "cell_type": "markdown",
   "metadata": {},
   "source": [
    "#### Avaliando a quantidade de itens em cada database\n",
    "\n",
    "Para entender a quantidade de itens com o qual se está trabalhando, é feita uma leitura através do comando __*len()*__."
   ]
  },
  {
   "cell_type": "code",
   "execution_count": null,
   "metadata": {},
   "outputs": [],
   "source": [
    "print(\"Tamanho do database de treino:\", len(tr))\n",
    "print(\"Tamanho do database de testes:\", len(ts))\n",
    "print(\"Tamanho do database que contém as saídas corretas do teste:\", len(gs))"
   ]
  },
  {
   "cell_type": "markdown",
   "metadata": {},
   "source": [
    "#### Unindo todos os databases\n",
    "\n",
    "Para passarem pelo pré-processamento, é interessante que todos os dados estejam juntos. Desta forma o __gs__ será unido ao __ts__, que será, por sua vez, unido ao __tr__.\n",
    "\n",
    "❗️ __Utilizaremos o termo *dfTotal* para se referir ao DataFrame completo, que inclui o teste e o treino.__ ❗️"
   ]
  },
  {
   "cell_type": "code",
   "execution_count": null,
   "metadata": {},
   "outputs": [],
   "source": [
    "dfTotal = pd.concat([tr,pd.concat([gs, ts.drop(columns=['PassengerId'])], axis=1)])"
   ]
  },
  {
   "cell_type": "markdown",
   "metadata": {},
   "source": [
    "#### Analisando quantos itens nulos há no database\n",
    "\n",
    "É importante conhecer quantos itens nulos existem no database para entender qual deve ser a medida adequada a se tomar mediante a quantidade de itens nulos."
   ]
  },
  {
   "cell_type": "code",
   "execution_count": null,
   "metadata": {
    "scrolled": false
   },
   "outputs": [],
   "source": [
    "print(\"-->Nulidade:\")\n",
    "print(dfTotal.isnull().sum())"
   ]
  },
  {
   "cell_type": "markdown",
   "metadata": {},
   "source": [
    "⚠️ __Os itens nulos de cabine representam, no treino, mais de 77% do total de informações. Excluir todas essas informações pode representar uma alta perda ao treinamento do IA, ao passo que completar todo esse conteúdo com informações aleatórias ou fixas também podem trazer algum nível de imprecisão aos testes. Desta forma, optou-se por excluir essa coluna.__ ⚠️"
   ]
  },
  {
   "cell_type": "markdown",
   "metadata": {},
   "source": [
    "#### Excluindo a coluna de Cabine\n",
    "\n",
    "Como dito acima, a coluna *Cabin* apresenta muitos valores nulos. Desta forma passa a ser interessante excluir essa coluna."
   ]
  },
  {
   "cell_type": "code",
   "execution_count": null,
   "metadata": {},
   "outputs": [],
   "source": [
    "dfTotal = dfTotal.drop(columns=['Cabin'])"
   ]
  },
  {
   "cell_type": "markdown",
   "metadata": {},
   "source": [
    "#### Analisando quantos itens nulos há no database\n",
    "\n",
    "Ainda analisando a quantidade de elementos nulos, será feita a análise novamente agora sem a coluna de cabine, que previamente apresentou várias informações faltantes."
   ]
  },
  {
   "cell_type": "code",
   "execution_count": null,
   "metadata": {},
   "outputs": [],
   "source": [
    "print(\"-->Nulidade:\")\n",
    "print(dfTotal.isnull().sum())"
   ]
  },
  {
   "cell_type": "markdown",
   "metadata": {},
   "source": [
    "❗️ __Considerando que *Fare* (Tarifa) e *Embarked* apresentam uma quantidade ínfima de valores nulos, considerou-se interessante, na coluna Fare, considerar a mediana no lugar do valor nulo e, no Embarked, o uso da moda dos valores.__ ❗️"
   ]
  },
  {
   "cell_type": "markdown",
   "metadata": {},
   "source": [
    "#### Substituindo valores de Fare, Age e Embarked\n",
    "\n",
    "Será considerada a moda dos valores de __Embarked__ para substituir os valores nulos e a mediana de __Fare__ e __Age__ para substituir os valores faltantes.\n",
    "\n",
    "Note que, por mais que haja uma quantidade mais expressiva de valores nulos para *Age*, isso representa apenas 20%, da quantidade total. Sendo assim é entendeu-se como viável substituir os valores de idade pela mediana de todas as idades."
   ]
  },
  {
   "cell_type": "code",
   "execution_count": null,
   "metadata": {},
   "outputs": [],
   "source": [
    "dfTotal[\"Fare\"].fillna(dfTotal[\"Fare\"].median(), inplace=True)\n",
    "print(dfTotal.isnull().sum())"
   ]
  },
  {
   "cell_type": "code",
   "execution_count": null,
   "metadata": {},
   "outputs": [],
   "source": [
    "dfTotal[\"Embarked\"].fillna(dfTotal[\"Embarked\"].mode()[0],inplace=True)\n",
    "print(dfTotal.isnull().sum())"
   ]
  },
  {
   "cell_type": "code",
   "execution_count": null,
   "metadata": {},
   "outputs": [],
   "source": [
    "dfTotal[\"Age\"].fillna(dfTotal[\"Age\"].median(),inplace=True)\n",
    "print(dfTotal.isnull().sum())"
   ]
  },
  {
   "cell_type": "markdown",
   "metadata": {},
   "source": [
    "#### Removendo colunas\n",
    "\n",
    "Algumas colunas não auxiliam, pelo contrário, atrapalham o funcionamento do IA por apresentarem valores únicos para cada entidade. Desta forma, devem ser removidas as colunas:\n",
    "* Name\n",
    "* Ticket\n",
    "* PassengerId\n"
   ]
  },
  {
   "cell_type": "code",
   "execution_count": null,
   "metadata": {},
   "outputs": [],
   "source": [
    "dfTotal = dfTotal.drop(columns=['Name','Ticket','PassengerId'])"
   ]
  },
  {
   "cell_type": "markdown",
   "metadata": {},
   "source": [
    "#### Linhas duplicadas\n",
    "\n",
    "Com a remoção das colunas, algumas linhas possuem valores exatamente iguais, não agregando em nada ao IA. Sendo assim, primeiramente será feita a análise de quantas linhas estão duplicadas:"
   ]
  },
  {
   "cell_type": "code",
   "execution_count": null,
   "metadata": {},
   "outputs": [],
   "source": [
    "print(\"Total de duplicações no database:\",dfTotal.duplicated().sum())"
   ]
  },
  {
   "cell_type": "markdown",
   "metadata": {},
   "source": [
    "#### Remoção de linhas duplicadas\n",
    "\n",
    "Existem 209 linhas duplicadas. Agora é interessante apagar essas duplicações que não agregam em nada ao IA."
   ]
  },
  {
   "cell_type": "code",
   "execution_count": null,
   "metadata": {},
   "outputs": [],
   "source": [
    "dfTotal = dfTotal.drop_duplicates()\n",
    "print(\"Conferindo o total de duplicações após apagar as linhas duplicadas:\",dfTotal.duplicated().sum())"
   ]
  },
  {
   "cell_type": "markdown",
   "metadata": {},
   "source": [
    "#### Substituindo valores\n",
    "\n",
    "Como um dos métodos a ser utilizado na análise será o KNN, então é necessário que todas as colunas sejam numéricas. Sendo assim, as colunas \"Sex\" e \"Embarked\" serão categorizadas em números:\n",
    "* __Sex__\n",
    "    * *male* passa a ser 0\n",
    "    * *female* passa a ser 1\n",
    "* __Embarked__\n",
    "    * *C* passa a ser 0\n",
    "    * *Q* passa a ser 1\n",
    "    * *S* passa a ser 2"
   ]
  },
  {
   "cell_type": "code",
   "execution_count": null,
   "metadata": {},
   "outputs": [],
   "source": [
    "dfTotal['Sex'] = dfTotal['Sex'].replace('male',0)\n",
    "dfTotal['Sex'] = dfTotal['Sex'].replace('female',1)\n",
    "\n",
    "dfTotal['Embarked'] = dfTotal['Embarked'].replace('C',0)\n",
    "dfTotal['Embarked'] = dfTotal['Embarked'].replace('Q',1)\n",
    "dfTotal['Embarked'] = dfTotal['Embarked'].replace('S',2)"
   ]
  },
  {
   "cell_type": "markdown",
   "metadata": {},
   "source": [
    "#### Analisando integridade dos dados\n",
    "\n",
    "É importante saber se os dados estão dispostos de forma íntegra. Uma das análises realizadas no presente trabalho será analisar, caso a caso, se a disposição de categorias para cada coluna está feita da maneira correta. \n",
    "* Para a coluna __\"Survived\"__ os valores possíveis são 0 e 1\n",
    "* Para a coluna __\"Sex\"__ os valores possíveis são 0 e 1\n",
    "* Para a coluna __\"Pclass\"__ os valores possíveis são 1, 2 e 3\n",
    "* Para a coluna __\"Embarked\"__ os valores possíveis são 0, 1 e 2\n",
    "\n",
    "⚠️ __A coluna *Age* representa a idade de cada tripulante. Desta forma não faz sentido categorizar a idade, muito embora ela seja analisada de forma matemática mais adiante. Da mesma forma, a coluna *Fare* representa o preço e também será analisado de forma matemática mais adiante. Parch e SibSp representam, respectivamente número de pais/filhos tripulantes e número de irmãos/cônjuges a bordo, e, desta forma, também não é interessante tratá-los de forma categórica.__ ⚠️\n"
   ]
  },
  {
   "cell_type": "code",
   "execution_count": null,
   "metadata": {},
   "outputs": [],
   "source": [
    "print(\"Analisando valores de Survived:\")\n",
    "dfTotal.groupby(['Survived']).count()"
   ]
  },
  {
   "cell_type": "code",
   "execution_count": null,
   "metadata": {},
   "outputs": [],
   "source": [
    "print(\"Analisando valores de Sex:\")\n",
    "dfTotal.groupby(['Sex']).count()"
   ]
  },
  {
   "cell_type": "code",
   "execution_count": null,
   "metadata": {},
   "outputs": [],
   "source": [
    "print(\"Analisando valores de Pclass:\")\n",
    "dfTotal.groupby(['Pclass']).count()"
   ]
  },
  {
   "cell_type": "code",
   "execution_count": null,
   "metadata": {},
   "outputs": [],
   "source": [
    "print(\"Analisando valores de Embarked:\")\n",
    "dfTotal.groupby(['Embarked']).count()"
   ]
  },
  {
   "cell_type": "markdown",
   "metadata": {},
   "source": [
    "✅ __As 4 colunas listadas estão categorizadas de forma adequada, não havendo nenhuma linha categorizada com uma classe que não exista.__ ✅"
   ]
  },
  {
   "cell_type": "markdown",
   "metadata": {},
   "source": [
    "#### Análise de Variância, Desvio Padrão e Outliers\n",
    "\n",
    "As colunas que não foram analisadas e não estão dispostas em classes devem ser analisadas de outra forma. Sendo assim, cabe uma análise para conhecer variância, desvio padrão e outliers para as colunas:\n",
    "* Age\n",
    "* Fare\n",
    "* SibSp\n",
    "* Parch"
   ]
  },
  {
   "cell_type": "markdown",
   "metadata": {},
   "source": [
    "##### Age"
   ]
  },
  {
   "cell_type": "code",
   "execution_count": null,
   "metadata": {},
   "outputs": [],
   "source": [
    "mean  = np.mean(dfTotal['Age'], axis=0)\n",
    "sd    = np.std(dfTotal['Age'], axis=0)\n",
    "\n",
    "print(\"Média:\",mean)\n",
    "print(\"Desvio padrão:\",sd)"
   ]
  },
  {
   "cell_type": "code",
   "execution_count": null,
   "metadata": {},
   "outputs": [],
   "source": [
    "limitMax = mean + 2*sd\n",
    "\n",
    "print(\"Limite de idade para outliers:\",limitMax)"
   ]
  },
  {
   "cell_type": "code",
   "execution_count": null,
   "metadata": {},
   "outputs": [],
   "source": [
    "print(\"Gráfico de Outliers\")\n",
    "sns.boxplot(x=dfTotal['Age'])"
   ]
  },
  {
   "cell_type": "code",
   "execution_count": null,
   "metadata": {},
   "outputs": [],
   "source": [
    "print(\"Idade máxima:\",max(dfTotal['Age']))\n",
    "print(\"Idade mínima:\",min(dfTotal['Age']))"
   ]
  },
  {
   "cell_type": "markdown",
   "metadata": {},
   "source": [
    "⚠️ __Muito embora o limite de idade calculado (idades maiores que o limite calculado são os outliers) seja pouco mais que 57 anos, observe que a maior idade foi 80. Sendo assim, é notório que estes outliers podem ser considerados na análise do IA, enriquecem a análise e não trazem danos e serão mantidos no database.__ ⚠️"
   ]
  },
  {
   "cell_type": "markdown",
   "metadata": {},
   "source": [
    "##### Fare"
   ]
  },
  {
   "cell_type": "code",
   "execution_count": null,
   "metadata": {},
   "outputs": [],
   "source": [
    "mean  = np.mean(dfTotal['Fare'], axis=0)\n",
    "sd    = np.std(dfTotal['Fare'], axis=0)\n",
    "\n",
    "print(\"Média:\",mean)\n",
    "print(\"Desvio padrão:\",sd)"
   ]
  },
  {
   "cell_type": "code",
   "execution_count": null,
   "metadata": {},
   "outputs": [],
   "source": [
    "limitMax = mean + 2*sd\n",
    "\n",
    "print(\"Limite de tarifa para outliers:\",limitMax)"
   ]
  },
  {
   "cell_type": "code",
   "execution_count": null,
   "metadata": {},
   "outputs": [],
   "source": [
    "print(\"Gráfico de Outliers\")\n",
    "sns.boxplot(x=dfTotal['Fare'])"
   ]
  },
  {
   "cell_type": "code",
   "execution_count": null,
   "metadata": {},
   "outputs": [],
   "source": [
    "print(\"Tarifa máxima: £\",max(dfTotal['Fare']))\n",
    "print(\"Tarifa mínima: £\",min(dfTotal['Fare']))"
   ]
  },
  {
   "cell_type": "markdown",
   "metadata": {},
   "source": [
    "❗️ __As análises matemáticas acima para a coluna de tarifa requerem uma observação um pouco mais subjetiva.__ ❗️\n",
    "\n",
    "Em primeiro lugar observe a Tarifa mínima paga por um tripulante: £0,00. Isso significa que ele entrou de graça. O que isso pode significar. Há a possibilidade de ser apenas um erro no database, como também há a possibilidade de ser algum tipo de \"promoção\" dedicada a algum critério, ou simplesmente tripulantes que \"pularam a catraca\". \n",
    "Para validar ou invalidar será analisado quantas pessoas entraram sem pagar na tripulação. Com essa informação, caso mais de uma pessoa participe, será entendido que pode ter sido casos de pessoas que puderam entrar sem pagar e, portanto, devem ser consideradas no IA. Caso contrário o usuário será desconsiderado e removido do database.\n",
    "\n",
    "Da mesma forma, para a tarifa máxima no gráfico é possível observar uma grande diferença da maior tarifa paga em relação às demais e será feita uma análise de quantas pessoas pagaram mais de £500,00."
   ]
  },
  {
   "cell_type": "code",
   "execution_count": null,
   "metadata": {},
   "outputs": [],
   "source": [
    "print(\"Quantidade de não pagantes:\",len(dfTotal.loc[dfTotal['Fare']==0]))\n",
    "print(\"Quantidade de pagantes acima de £500,00:\",len(dfTotal.loc[dfTotal['Fare']>=500]))"
   ]
  },
  {
   "cell_type": "markdown",
   "metadata": {},
   "source": [
    "⚠️ __Observe que tanto para não pagantes quanto para pagantes de um valor acima de £500 não foram casos isolados. Entende-se, então que houve não pagantes na tripulação, bem como houve pessoas com extremas condições para pagar mais de £500,00 pela viagem e, sendo assim, todos os dados referentes a Tarifa serão mantidos.__ ⚠️"
   ]
  },
  {
   "cell_type": "markdown",
   "metadata": {},
   "source": [
    "##### SibSp"
   ]
  },
  {
   "cell_type": "code",
   "execution_count": null,
   "metadata": {},
   "outputs": [],
   "source": [
    "mean  = np.mean(dfTotal['SibSp'], axis=0)\n",
    "sd    = np.std(dfTotal['SibSp'], axis=0)\n",
    "\n",
    "print(\"Média:\",mean)\n",
    "print(\"Desvio padrão:\",sd)"
   ]
  },
  {
   "cell_type": "code",
   "execution_count": null,
   "metadata": {},
   "outputs": [],
   "source": [
    "limitMax = mean + 2*sd\n",
    "\n",
    "print(\"Limite de quantidade de irmãos/cônjuges para outliers:\",limitMax)"
   ]
  },
  {
   "cell_type": "code",
   "execution_count": null,
   "metadata": {},
   "outputs": [],
   "source": [
    "print(\"Gráfico de Outliers\")\n",
    "sns.boxplot(x=dfTotal['SibSp'])"
   ]
  },
  {
   "cell_type": "code",
   "execution_count": null,
   "metadata": {},
   "outputs": [],
   "source": [
    "print(\"Quantidade de irmãos/cônjuges máxima:\",max(dfTotal['SibSp']))\n",
    "print(\"Quantidade de irmãos/cônjuges mínima:\",min(dfTotal['SibSp']))"
   ]
  },
  {
   "cell_type": "markdown",
   "metadata": {},
   "source": [
    "✅ __Os dados são completamente satisfatórios, uma vez que é muito possível que uma pessoa contenha 8 irmãos e o cônjuge ou que não tenha nem irmãos nem cônjuge na viagem, não sendo adequado fazer nenhuma remoção.__ ✅"
   ]
  },
  {
   "cell_type": "markdown",
   "metadata": {},
   "source": [
    "##### Parch"
   ]
  },
  {
   "cell_type": "code",
   "execution_count": null,
   "metadata": {},
   "outputs": [],
   "source": [
    "mean  = np.mean(dfTotal['Parch'], axis=0)\n",
    "sd    = np.std(dfTotal['Parch'], axis=0)\n",
    "\n",
    "print(\"Média:\",mean)\n",
    "print(\"Desvio padrão:\",sd)"
   ]
  },
  {
   "cell_type": "code",
   "execution_count": null,
   "metadata": {},
   "outputs": [],
   "source": [
    "limitMax = mean + 2*sd\n",
    "\n",
    "print(\"Limite de quantidade de pais/filhos para outliers:\",limitMax)"
   ]
  },
  {
   "cell_type": "code",
   "execution_count": null,
   "metadata": {},
   "outputs": [],
   "source": [
    "print(\"Gráfico de Outliers\")\n",
    "sns.boxplot(x=dfTotal['Parch'])"
   ]
  },
  {
   "cell_type": "code",
   "execution_count": null,
   "metadata": {},
   "outputs": [],
   "source": [
    "print(\"Quantidade de pais/filhos máxima:\",max(dfTotal['Parch']))\n",
    "print(\"Quantidade de pais/filhos mínima:\",min(dfTotal['Parch']))"
   ]
  },
  {
   "cell_type": "markdown",
   "metadata": {},
   "source": [
    "✅ __Os dados são completamente satisfatórios, uma vez que é muito possível que uma pessoa contenha 9 filhos e os pais ou que não tenha nem filhos nem pais na viagem, não sendo adequado fazer nenhuma remoção.__ ✅"
   ]
  },
  {
   "cell_type": "markdown",
   "metadata": {},
   "source": [
    "#### Analisando a correlação\n",
    "\n",
    "É importante analisar a correlação das colunas, uma vez que colunas podem apresentar informações redundantes ou quase redundantes, causando uma falta de necessidade de uma delas."
   ]
  },
  {
   "cell_type": "code",
   "execution_count": null,
   "metadata": {},
   "outputs": [],
   "source": [
    "corr = dfTotal.corr()\n",
    "corr.style.background_gradient(cmap='coolwarm')"
   ]
  },
  {
   "cell_type": "markdown",
   "metadata": {},
   "source": [
    "❗️ __Observa-se que há uma correlação entre Sexo e Sobreviventes. Isso pode está associado à quantidade de pessoas e à prioridade de uso dos botes durante o naufragio do navio. Sendo assim a coluna será mantida, uma vez que não há muitas colunas e a correlação possui uma explicação factível, mas ao meu entender, não tão grande a ponto de viabilizar a exclusao da coluna de Sexo.__ ❗️"
   ]
  },
  {
   "cell_type": "code",
   "execution_count": null,
   "metadata": {},
   "outputs": [],
   "source": []
  }
 ],
 "metadata": {
  "kernelspec": {
   "display_name": "Python 3",
   "language": "python",
   "name": "python3"
  },
  "language_info": {
   "codemirror_mode": {
    "name": "ipython",
    "version": 3
   },
   "file_extension": ".py",
   "mimetype": "text/x-python",
   "name": "python",
   "nbconvert_exporter": "python",
   "pygments_lexer": "ipython3",
   "version": "3.7.3"
  }
 },
 "nbformat": 4,
 "nbformat_minor": 2
}
