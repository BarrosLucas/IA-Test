{
 "cells": [
  {
   "cell_type": "markdown",
   "metadata": {},
   "source": [
    "# Avaliação 2"
   ]
  },
  {
   "cell_type": "markdown",
   "metadata": {},
   "source": [
    "### Questão 2\n",
    "Utilizando a base de dados de preços de imóveis disponível no kaggle (https://www.kaggle.com/c/house-prices-advanced-regression-techniques/data), apresente duas soluções de aprendizagem de máquina que consigam baixas taxas de erro médio.\n",
    "* Lembre de fazer todo o pré-processamento, explicando suas decisões;\n",
    "* Teste 3 variações de parâmetros dos métodos;\n",
    "* Avalie os resultados usando uma métrica"
   ]
  },
  {
   "cell_type": "markdown",
   "metadata": {},
   "source": [
    "#### Pré-processamento\n",
    "\n",
    "É dado início ao pré-processamento, importando as bibliotecas necessárias e instanciando os databases forneceidos através do pandas.\n",
    "\n",
    "É importante entender que:\n",
    "* __sample__ equivale à instância do database que contém as saídas (coluna *SalePrice*) corretas para os testes\n",
    "* __tr__ equivale à instância do database que contém os treinos\n",
    "* __ts__ equivale à instância do database que contém os testes\n",
    "\n",
    "Vale lembrar que o database __sample__ refere-se ao __teste__, e que o __teste__ não pertence ao __treino__. Portanto será interessante unir os dois databases futuramente."
   ]
  },
  {
   "cell_type": "code",
   "execution_count": 1,
   "metadata": {},
   "outputs": [],
   "source": [
    "import pandas as pd\n",
    "import numpy as np\n",
    "import statistics as st\n",
    "import matplotlib.pyplot as plt\n",
    "import plotly.express as px\n",
    "from sklearn.preprocessing import RobustScaler\n",
    "from sklearn import preprocessing, cluster, neighbors, svm, metrics, tree\n",
    "from sklearn.preprocessing import LabelEncoder\n",
    "from sklearn.model_selection import train_test_split, cross_validate, cross_val_score\n",
    "from sklearn.metrics import make_scorer, r2_score \n",
    "from sklearn.metrics import mean_absolute_error, mean_squared_error\n",
    "from sklearn.model_selection import KFold, GridSearchCV\n",
    "from sklearn.ensemble import RandomForestRegressor\n",
    "from sklearn.tree import DecisionTreeRegressor, plot_tree\n",
    "from sklearn.metrics import confusion_matrix\n",
    "from sklearn.metrics import classification_report\n",
    "\n",
    "sample = pd.read_csv(\"data/qt2/sample_submission.csv\",sep=\",\")\n",
    "tr = pd.read_csv(\"data/qt2/train.csv\",sep=\",\")\n",
    "ts = pd.read_csv(\"data/qt2/test.csv\",sep=\",\")"
   ]
  },
  {
   "cell_type": "markdown",
   "metadata": {},
   "source": [
    "#### Avaliando a quantidade de itens em cada database\n",
    "\n",
    "Para entender a quantidade de itens com o qual se está trabalhando, é feita uma leitura através do comando __*len()*__."
   ]
  },
  {
   "cell_type": "code",
   "execution_count": 2,
   "metadata": {},
   "outputs": [
    {
     "name": "stdout",
     "output_type": "stream",
     "text": [
      "Database de treino: 1460 x 81\n",
      "Database de testes: 1459 x 80\n",
      "Database que contém as saídas corretas do teste: 1459 x 2\n"
     ]
    }
   ],
   "source": [
    "print(\"Database de treino:\", len(tr),\"x\",len(tr.columns))\n",
    "print(\"Database de testes:\", len(ts),\"x\",len(ts.columns))\n",
    "print(\"Database que contém as saídas corretas do teste:\", len(sample),\"x\",len(sample.columns))"
   ]
  },
  {
   "cell_type": "markdown",
   "metadata": {},
   "source": [
    "#### Unindo todos os databases\n",
    "\n",
    "Para passarem pelo pré-processamento, é interessante que todos os dados estejam juntos. Desta forma o __gs__ será unido ao __sample__, que será, por sua vez, unido ao __tr__.\n",
    "\n",
    "❗️ __Utilizaremos o termo *dfTotal* para se referir ao DataFrame completo, que inclui o teste e o treino.__ ❗️"
   ]
  },
  {
   "cell_type": "code",
   "execution_count": 3,
   "metadata": {},
   "outputs": [],
   "source": [
    "dfTotal = pd.concat([tr,pd.concat([sample, ts.drop(columns=['Id'])], axis=1)])"
   ]
  },
  {
   "cell_type": "markdown",
   "metadata": {},
   "source": [
    "#### Tamanho resultante total\n",
    "\n",
    "Para conferir a quantidade total de elementos no database resultante."
   ]
  },
  {
   "cell_type": "code",
   "execution_count": 4,
   "metadata": {},
   "outputs": [
    {
     "name": "stdout",
     "output_type": "stream",
     "text": [
      "2919 x 81\n"
     ]
    }
   ],
   "source": [
    "print(len(dfTotal),\"x\",len(dfTotal.columns))"
   ]
  },
  {
   "cell_type": "markdown",
   "metadata": {},
   "source": [
    "#### Analisando quantos itens nulos há no database\n",
    "\n",
    "É importante conhecer quantos itens nulos existem no database para entender qual deve ser a medida adequada a se tomar mediante a quantidade de itens nulos."
   ]
  },
  {
   "cell_type": "code",
   "execution_count": 5,
   "metadata": {},
   "outputs": [
    {
     "name": "stdout",
     "output_type": "stream",
     "text": [
      "-->Nulidade:\n",
      "Id \t: 0\n",
      "MSSubClass \t: 0\n",
      "MSZoning \t: 4\n",
      "LotFrontage \t: 486\n",
      "LotArea \t: 0\n",
      "Street \t: 0\n",
      "Alley \t: 2721\n",
      "LotShape \t: 0\n",
      "LandContour \t: 0\n",
      "Utilities \t: 2\n",
      "LotConfig \t: 0\n",
      "LandSlope \t: 0\n",
      "Neighborhood \t: 0\n",
      "Condition1 \t: 0\n",
      "Condition2 \t: 0\n",
      "BldgType \t: 0\n",
      "HouseStyle \t: 0\n",
      "OverallQual \t: 0\n",
      "OverallCond \t: 0\n",
      "YearBuilt \t: 0\n",
      "YearRemodAdd \t: 0\n",
      "RoofStyle \t: 0\n",
      "RoofMatl \t: 0\n",
      "Exterior1st \t: 1\n",
      "Exterior2nd \t: 1\n",
      "MasVnrType \t: 24\n",
      "MasVnrArea \t: 23\n",
      "ExterQual \t: 0\n",
      "ExterCond \t: 0\n",
      "Foundation \t: 0\n",
      "BsmtQual \t: 81\n",
      "BsmtCond \t: 82\n",
      "BsmtExposure \t: 82\n",
      "BsmtFinType1 \t: 79\n",
      "BsmtFinSF1 \t: 1\n",
      "BsmtFinType2 \t: 80\n",
      "BsmtFinSF2 \t: 1\n",
      "BsmtUnfSF \t: 1\n",
      "TotalBsmtSF \t: 1\n",
      "Heating \t: 0\n",
      "HeatingQC \t: 0\n",
      "CentralAir \t: 0\n",
      "Electrical \t: 1\n",
      "1stFlrSF \t: 0\n",
      "2ndFlrSF \t: 0\n",
      "LowQualFinSF \t: 0\n",
      "GrLivArea \t: 0\n",
      "BsmtFullBath \t: 2\n",
      "BsmtHalfBath \t: 2\n",
      "FullBath \t: 0\n",
      "HalfBath \t: 0\n",
      "BedroomAbvGr \t: 0\n",
      "KitchenAbvGr \t: 0\n",
      "KitchenQual \t: 1\n",
      "TotRmsAbvGrd \t: 0\n",
      "Functional \t: 2\n",
      "Fireplaces \t: 0\n",
      "FireplaceQu \t: 1420\n",
      "GarageType \t: 157\n",
      "GarageYrBlt \t: 159\n",
      "GarageFinish \t: 159\n",
      "GarageCars \t: 1\n",
      "GarageArea \t: 1\n",
      "GarageQual \t: 159\n",
      "GarageCond \t: 159\n",
      "PavedDrive \t: 0\n",
      "WoodDeckSF \t: 0\n",
      "OpenPorchSF \t: 0\n",
      "EnclosedPorch \t: 0\n",
      "3SsnPorch \t: 0\n",
      "ScreenPorch \t: 0\n",
      "PoolArea \t: 0\n",
      "PoolQC \t: 2909\n",
      "Fence \t: 2348\n",
      "MiscFeature \t: 2814\n",
      "MiscVal \t: 0\n",
      "MoSold \t: 0\n",
      "YrSold \t: 0\n",
      "SaleType \t: 1\n",
      "SaleCondition \t: 0\n",
      "SalePrice \t: 0\n"
     ]
    }
   ],
   "source": [
    "print(\"-->Nulidade:\")\n",
    "for i in dfTotal.columns:\n",
    "    print(i,\"\\t:\",dfTotal[i].isnull().sum())"
   ]
  },
  {
   "cell_type": "markdown",
   "metadata": {},
   "source": [
    "⚠️ __Houve muitas tabelas com valores nulos, vale nesta ocasião mostrar uma listagem para tornar o trabalho aqui desenvolvido o mais didático possível.__ ⚠️"
   ]
  },
  {
   "cell_type": "code",
   "execution_count": 6,
   "metadata": {},
   "outputs": [
    {
     "name": "stdout",
     "output_type": "stream",
     "text": [
      "MSZoning \t: 4\n",
      "LotFrontage \t: 486\n",
      "Alley \t: 2721\n",
      "Utilities \t: 2\n",
      "Exterior1st \t: 1\n",
      "Exterior2nd \t: 1\n",
      "MasVnrType \t: 24\n",
      "MasVnrArea \t: 23\n",
      "BsmtQual \t: 81\n",
      "BsmtCond \t: 82\n",
      "BsmtExposure \t: 82\n",
      "BsmtFinType1 \t: 79\n",
      "BsmtFinSF1 \t: 1\n",
      "BsmtFinType2 \t: 80\n",
      "BsmtFinSF2 \t: 1\n",
      "BsmtUnfSF \t: 1\n",
      "TotalBsmtSF \t: 1\n",
      "Electrical \t: 1\n",
      "BsmtFullBath \t: 2\n",
      "BsmtHalfBath \t: 2\n",
      "KitchenQual \t: 1\n",
      "Functional \t: 2\n",
      "FireplaceQu \t: 1420\n",
      "GarageType \t: 157\n",
      "GarageYrBlt \t: 159\n",
      "GarageFinish \t: 159\n",
      "GarageCars \t: 1\n",
      "GarageArea \t: 1\n",
      "GarageQual \t: 159\n",
      "GarageCond \t: 159\n",
      "PoolQC \t: 2909\n",
      "Fence \t: 2348\n",
      "MiscFeature \t: 2814\n",
      "SaleType \t: 1\n",
      "Quantidade total de tabelas que apresentaram valores nulos: 34\n"
     ]
    }
   ],
   "source": [
    "amount = 0\n",
    "for i in dfTotal.columns:\n",
    "    if(dfTotal[i].isnull().sum()>0): \n",
    "        amount += 1\n",
    "        print(i,\"\\t:\",dfTotal[i].isnull().sum())\n",
    "print(\"Quantidade total de tabelas que apresentaram valores nulos:\",amount)"
   ]
  },
  {
   "cell_type": "markdown",
   "metadata": {},
   "source": [
    "⚠️ __34 colunas apresentaram valores nulos. A essa altura é importante tratar de cada uma individualmente.__ ⚠️"
   ]
  },
  {
   "cell_type": "markdown",
   "metadata": {},
   "source": [
    "#### Tratando as nulidades\n",
    "\n",
    "Algumas colunas apresentaram uma quantidade muito alta de valores nulos. Entendeu-se, desta forma, como mais adequada a decisão de apagar essas colunas, uma vez que média, desvio padrão ou moda são valores que perdem significado dada uma quantidade tão alta de valores nulos. Sendo assim, __as colunas__:\n",
    "\n",
    "* __MiscFeature__ (com 96% dos valores nulos)\n",
    "* __PoolQC__ (com 99% dos valores nulos)\n",
    "* __Fence__ (com 80% dos valores nulos)\n",
    "* __FireplaceQu__ (com 48% dos valores nulos)\n",
    "* __Alley__ (com 93% dos valores nulos)\n",
    "\n",
    "__serão excluídas__.\n",
    "\n",
    "As colunas que apresentam uma quantidade desprezível de dados faltantes:\n",
    "\n",
    "* __MSZoning__\n",
    "* __Utilities__\n",
    "* __Exterior1st__\n",
    "* __Exterior2nd__\n",
    "* __BsmtFinSF1__\n",
    "* __BsmtFinSF2__\n",
    "* __BsmtUnfSF__\n",
    "* __TotalBsmtSF__\n",
    "* __Electrical__\n",
    "* __BsmtFullBath__\n",
    "* __BsmtHalfBath__\n",
    "* __KitchenQual__\n",
    "* __Functional__\n",
    "* __GarageCars__\n",
    "* __GarageArea__ \n",
    "* __SaleType__\n",
    "\n",
    "__terão as linhas que apresenta esses dados faltantes excluídas__.\n",
    "\n",
    "As demais colunas __serão preenchidas com a mediana (no caso de colunas numéricas) ou moda (no caso de colunas qualitativas) dos valores faltantes na devida coluna__:\n",
    "\n",
    "* __LotFrontage__\n",
    "* __MasVnrType__\n",
    "* __MasVnrArea__\n",
    "* __BsmtQual__\n",
    "* __BsmtCond__\n",
    "* __BsmtExposure__\n",
    "* __BsmtFinType1__\n",
    "* __BsmtFinType2__\n",
    "* __GarageType__\n",
    "* __GarageYrBlt__\n",
    "* __GarageFinish__\n",
    "* __GarageQual__\n",
    "* __GarageCond__"
   ]
  },
  {
   "cell_type": "markdown",
   "metadata": {},
   "source": [
    "##### Tratando colunas com alta quantidade de valores nulos"
   ]
  },
  {
   "cell_type": "code",
   "execution_count": 7,
   "metadata": {},
   "outputs": [
    {
     "name": "stdout",
     "output_type": "stream",
     "text": [
      "2919 x 76\n"
     ]
    }
   ],
   "source": [
    "dfTotal = dfTotal.drop(columns=['MiscFeature','PoolQC','Fence','FireplaceQu','Alley'])\n",
    "print(len(dfTotal),\"x\",len(dfTotal.columns))"
   ]
  },
  {
   "cell_type": "markdown",
   "metadata": {},
   "source": [
    "##### Tratando colunas com quantidade ínfima de valores nulos"
   ]
  },
  {
   "cell_type": "code",
   "execution_count": 8,
   "metadata": {},
   "outputs": [
    {
     "name": "stdout",
     "output_type": "stream",
     "text": [
      "2906 x 76\n"
     ]
    }
   ],
   "source": [
    "dfTotal = dfTotal.dropna(subset=['MSZoning','Utilities','Exterior1st','Exterior2nd','BsmtFinSF1','BsmtFinSF2','BsmtUnfSF','TotalBsmtSF','Electrical','BsmtFullBath','BsmtHalfBath','KitchenQual','Functional','GarageCars','GarageArea','SaleType'])\n",
    "print(len(dfTotal),\"x\",len(dfTotal.columns))"
   ]
  },
  {
   "cell_type": "markdown",
   "metadata": {},
   "source": [
    "##### Tratando demais colunas"
   ]
  },
  {
   "cell_type": "code",
   "execution_count": 9,
   "metadata": {},
   "outputs": [
    {
     "name": "stdout",
     "output_type": "stream",
     "text": [
      "LotFrontage\t: 0\n"
     ]
    }
   ],
   "source": [
    "dfTotal.fillna(dfTotal['LotFrontage'].median(),inplace=True)\n",
    "print(\"LotFrontage\\t:\",dfTotal['LotFrontage'].isnull().sum())"
   ]
  },
  {
   "cell_type": "code",
   "execution_count": 10,
   "metadata": {},
   "outputs": [
    {
     "name": "stdout",
     "output_type": "stream",
     "text": [
      "MasVnrType\t: 0\n"
     ]
    }
   ],
   "source": [
    "dfTotal.fillna(dfTotal['MasVnrType'].mode(),inplace=True)\n",
    "print(\"MasVnrType\\t:\",dfTotal['MasVnrType'].isnull().sum())"
   ]
  },
  {
   "cell_type": "code",
   "execution_count": 11,
   "metadata": {},
   "outputs": [
    {
     "name": "stdout",
     "output_type": "stream",
     "text": [
      "MasVnrArea\t: 0\n"
     ]
    }
   ],
   "source": [
    "dfTotal.fillna(dfTotal['MasVnrArea'].median(),inplace=True)\n",
    "print(\"MasVnrArea\\t:\",dfTotal['MasVnrArea'].isnull().sum())"
   ]
  },
  {
   "cell_type": "code",
   "execution_count": 12,
   "metadata": {},
   "outputs": [
    {
     "name": "stdout",
     "output_type": "stream",
     "text": [
      "BsmtQual\t: 0\n"
     ]
    }
   ],
   "source": [
    "dfTotal.fillna(dfTotal['BsmtQual'].mode(),inplace=True)\n",
    "print(\"BsmtQual\\t:\",dfTotal['BsmtQual'].isnull().sum())"
   ]
  },
  {
   "cell_type": "code",
   "execution_count": 13,
   "metadata": {},
   "outputs": [
    {
     "name": "stdout",
     "output_type": "stream",
     "text": [
      "BsmtCond\t: 0\n"
     ]
    }
   ],
   "source": [
    "dfTotal.fillna(dfTotal['BsmtCond'].mode(),inplace=True)\n",
    "print(\"BsmtCond\\t:\",dfTotal['BsmtCond'].isnull().sum())"
   ]
  },
  {
   "cell_type": "code",
   "execution_count": 14,
   "metadata": {},
   "outputs": [
    {
     "name": "stdout",
     "output_type": "stream",
     "text": [
      "BsmtExposure\t: 0\n"
     ]
    }
   ],
   "source": [
    "dfTotal.fillna(dfTotal['BsmtExposure'].mode(),inplace=True)\n",
    "print(\"BsmtExposure\\t:\",dfTotal['BsmtExposure'].isnull().sum())"
   ]
  },
  {
   "cell_type": "code",
   "execution_count": 16,
   "metadata": {},
   "outputs": [
    {
     "name": "stdout",
     "output_type": "stream",
     "text": [
      "BsmtFinType1\t: 0\n"
     ]
    }
   ],
   "source": [
    "dfTotal.fillna(dfTotal['BsmtFinType1'].mode(),inplace=True)\n",
    "print(\"BsmtFinType1\\t:\",dfTotal['BsmtFinType1'].isnull().sum())"
   ]
  },
  {
   "cell_type": "code",
   "execution_count": 20,
   "metadata": {},
   "outputs": [
    {
     "name": "stdout",
     "output_type": "stream",
     "text": [
      "BsmtFinType2\t: 0\n"
     ]
    }
   ],
   "source": [
    "dfTotal.fillna(dfTotal['BsmtFinType2'].mode(),inplace=True)\n",
    "print(\"BsmtFinType2\\t:\",dfTotal['BsmtFinType2'].isnull().sum())"
   ]
  },
  {
   "cell_type": "code",
   "execution_count": 22,
   "metadata": {},
   "outputs": [
    {
     "name": "stdout",
     "output_type": "stream",
     "text": [
      "GarageType\t: 0\n"
     ]
    }
   ],
   "source": [
    "dfTotal.fillna(dfTotal['GarageType'].mode(),inplace=True)\n",
    "print(\"GarageType\\t:\",dfTotal['GarageType'].isnull().sum())"
   ]
  },
  {
   "cell_type": "code",
   "execution_count": 27,
   "metadata": {},
   "outputs": [
    {
     "name": "stdout",
     "output_type": "stream",
     "text": [
      "GarageYrBlt\t: 0\n"
     ]
    }
   ],
   "source": [
    "dfTotal.fillna(dfTotal['GarageYrBlt'].median(),inplace=True)\n",
    "print(\"GarageYrBlt\\t:\",dfTotal['GarageYrBlt'].isnull().sum())"
   ]
  },
  {
   "cell_type": "code",
   "execution_count": 37,
   "metadata": {},
   "outputs": [
    {
     "name": "stdout",
     "output_type": "stream",
     "text": [
      "GarageFinish\t: 0\n"
     ]
    }
   ],
   "source": [
    "dfTotal.fillna(dfTotal['GarageFinish'].mode(),inplace=True)\n",
    "print(\"GarageFinish\\t:\",dfTotal['GarageFinish'].isnull().sum())"
   ]
  },
  {
   "cell_type": "code",
   "execution_count": 35,
   "metadata": {},
   "outputs": [
    {
     "name": "stdout",
     "output_type": "stream",
     "text": [
      "GarageQual\t: 0\n"
     ]
    }
   ],
   "source": [
    "dfTotal.fillna(dfTotal['GarageQual'].mode(),inplace=True)\n",
    "print(\"GarageQual\\t:\",dfTotal['GarageQual'].isnull().sum())"
   ]
  },
  {
   "cell_type": "code",
   "execution_count": 39,
   "metadata": {},
   "outputs": [
    {
     "name": "stdout",
     "output_type": "stream",
     "text": [
      "GarageCond\t: 0\n"
     ]
    }
   ],
   "source": [
    "dfTotal.fillna(dfTotal['GarageCond'].mode(),inplace=True)\n",
    "print(\"GarageCond\\t:\",dfTotal['GarageCond'].isnull().sum())"
   ]
  },
  {
   "cell_type": "code",
   "execution_count": 42,
   "metadata": {},
   "outputs": [
    {
     "name": "stdout",
     "output_type": "stream",
     "text": [
      "2906 x 76\n"
     ]
    }
   ],
   "source": [
    "print(len(dfTotal),\"x\",len(dfTotal.columns))"
   ]
  },
  {
   "cell_type": "markdown",
   "metadata": {},
   "source": [
    "#### Conferindo quantidade de itens nulos no database"
   ]
  },
  {
   "cell_type": "code",
   "execution_count": 41,
   "metadata": {},
   "outputs": [
    {
     "data": {
      "text/plain": [
       "0"
      ]
     },
     "execution_count": 41,
     "metadata": {},
     "output_type": "execute_result"
    }
   ],
   "source": [
    "dfTotal.isnull().sum().sum()"
   ]
  },
  {
   "cell_type": "markdown",
   "metadata": {},
   "source": [
    "✅ __Foi feita com sucesso a limpeza de valores nulos nas tabelas.__ ✅\n",
    "\n",
    "❗️ __Entretanto é necessário um cuidado. Há muitas colunas, entretanto, com valores qualitativos. Muito embora essas colunas qualitativas não apresentem valores nulos após a limpeza, podem conter células que apresentem conteúdo que representam o \"vazio\", que deve ser realizada a interpretação se esse \"vazio\" é proposital com a lógica do database ou se é tem o mesmo significado lógico que um nulo. Para isso, como será feito adiante, será analizado adiante quais tabelas são qualitativas e se possuem valores que representam o \"vazio\" supracitado.__ ❗️"
   ]
  },
  {
   "cell_type": "code",
   "execution_count": 46,
   "metadata": {},
   "outputs": [
    {
     "name": "stdout",
     "output_type": "stream",
     "text": [
      "Colunas qualitativas: \n",
      "1 -\t MSZoning\n",
      "2 -\t Street\n",
      "3 -\t LotShape\n",
      "4 -\t LandContour\n",
      "5 -\t Utilities\n",
      "6 -\t LotConfig\n",
      "7 -\t LandSlope\n",
      "8 -\t Neighborhood\n",
      "9 -\t Condition1\n",
      "10 -\t Condition2\n",
      "11 -\t BldgType\n",
      "12 -\t HouseStyle\n",
      "13 -\t RoofStyle\n",
      "14 -\t RoofMatl\n",
      "15 -\t Exterior1st\n",
      "16 -\t Exterior2nd\n",
      "17 -\t MasVnrType\n",
      "18 -\t ExterQual\n",
      "19 -\t ExterCond\n",
      "20 -\t Foundation\n",
      "21 -\t BsmtQual\n",
      "22 -\t BsmtCond\n",
      "23 -\t BsmtExposure\n",
      "24 -\t BsmtFinType1\n",
      "25 -\t BsmtFinType2\n",
      "26 -\t Heating\n",
      "27 -\t HeatingQC\n",
      "28 -\t CentralAir\n",
      "29 -\t Electrical\n",
      "30 -\t KitchenQual\n",
      "31 -\t Functional\n",
      "32 -\t GarageType\n",
      "33 -\t GarageFinish\n",
      "34 -\t GarageQual\n",
      "35 -\t GarageCond\n",
      "36 -\t PavedDrive\n",
      "37 -\t SaleType\n",
      "38 -\t SaleCondition\n"
     ]
    }
   ],
   "source": [
    "print(\"Colunas qualitativas: \")\n",
    "amount = 0\n",
    "for i in dfTotal.columns:\n",
    "    if(dfTotal.dtypes[i]=='object'):\n",
    "        amount += 1\n",
    "        print(amount,\"-\\t\",i)"
   ]
  },
  {
   "cell_type": "code",
   "execution_count": null,
   "metadata": {},
   "outputs": [],
   "source": []
  }
 ],
 "metadata": {
  "kernelspec": {
   "display_name": "Python 3",
   "language": "python",
   "name": "python3"
  },
  "language_info": {
   "codemirror_mode": {
    "name": "ipython",
    "version": 3
   },
   "file_extension": ".py",
   "mimetype": "text/x-python",
   "name": "python",
   "nbconvert_exporter": "python",
   "pygments_lexer": "ipython3",
   "version": "3.8.8"
  }
 },
 "nbformat": 4,
 "nbformat_minor": 2
}
