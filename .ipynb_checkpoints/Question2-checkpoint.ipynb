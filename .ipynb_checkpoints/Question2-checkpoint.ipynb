{
 "cells": [
  {
   "cell_type": "markdown",
   "metadata": {},
   "source": [
    "# Avaliação 2"
   ]
  },
  {
   "cell_type": "markdown",
   "metadata": {},
   "source": [
    "### Questão 2\n",
    "Utilizando a base de dados de preços de imóveis disponível no kaggle (https://www.kaggle.com/c/house-prices-advanced-regression-techniques/data), apresente duas soluções de aprendizagem de máquina que consigam baixas taxas de erro médio.\n",
    "* Lembre de fazer todo o pré-processamento, explicando suas decisões;\n",
    "* Teste 3 variações de parâmetros dos métodos;\n",
    "* Avalie os resultados usando uma métrica"
   ]
  },
  {
   "cell_type": "markdown",
   "metadata": {},
   "source": [
    "#### Pré-processamento\n",
    "\n",
    "É dado início ao pré-processamento, importando as bibliotecas necessárias e instanciando os databases forneceidos através do pandas.\n",
    "\n",
    "É importante entender que:\n",
    "* __sample__ equivale à instância do database que contém as saídas (coluna *SalePrice*) corretas para os testes\n",
    "* __tr__ equivale à instância do database que contém os treinos\n",
    "* __ts__ equivale à instância do database que contém os testes\n",
    "\n",
    "Vale lembrar que o database __sample__ refere-se ao __teste__, e que o __teste__ não pertence ao __treino__. Portanto será interessante unir os dois databases futuramente."
   ]
  },
  {
   "cell_type": "code",
   "execution_count": null,
   "metadata": {},
   "outputs": [],
   "source": [
    "import pandas as pd\n",
    "import numpy as np\n",
    "import statistics as st\n",
    "import matplotlib.pyplot as plt\n",
    "import plotly.express as px\n",
    "from sklearn.preprocessing import RobustScaler\n",
    "from sklearn import preprocessing, cluster, neighbors, svm, metrics, tree\n",
    "from sklearn.preprocessing import LabelEncoder\n",
    "from sklearn.model_selection import train_test_split, cross_validate, cross_val_score\n",
    "from sklearn.metrics import make_scorer, r2_score \n",
    "from sklearn.metrics import mean_absolute_error, mean_squared_error\n",
    "from sklearn.model_selection import KFold, GridSearchCV\n",
    "from sklearn.ensemble import RandomForestRegressor\n",
    "from sklearn.tree import DecisionTreeRegressor, plot_tree\n",
    "from sklearn.metrics import confusion_matrix\n",
    "from sklearn.metrics import classification_report\n",
    "from sklearn.model_selection import StratifiedKFold\n",
    "\n",
    "sample = pd.read_csv(\"data/qt2/sample_submission.csv\",sep=\",\")\n",
    "tr = pd.read_csv(\"data/qt2/train.csv\",sep=\",\")\n",
    "ts = pd.read_csv(\"data/qt2/test.csv\",sep=\",\")"
   ]
  },
  {
   "cell_type": "markdown",
   "metadata": {},
   "source": [
    "#### Avaliando a quantidade de itens em cada database\n",
    "\n",
    "Para entender a quantidade de itens com o qual se está trabalhando, é feita uma leitura através do comando __*len()*__."
   ]
  },
  {
   "cell_type": "code",
   "execution_count": null,
   "metadata": {},
   "outputs": [],
   "source": [
    "print(\"Database de treino:\", len(tr),\"x\",len(tr.columns))\n",
    "print(\"Database de testes:\", len(ts),\"x\",len(ts.columns))\n",
    "print(\"Database que contém as saídas corretas do teste:\", len(sample),\"x\",len(sample.columns))"
   ]
  },
  {
   "cell_type": "markdown",
   "metadata": {},
   "source": [
    "#### Unindo todos os databases\n",
    "\n",
    "Para passarem pelo pré-processamento, é interessante que todos os dados estejam juntos. Desta forma o __gs__ será unido ao __sample__, que será, por sua vez, unido ao __tr__.\n",
    "\n",
    "❗️ __Utilizaremos o termo *dfTotal* para se referir ao DataFrame completo, que inclui o teste e o treino.__ ❗️"
   ]
  },
  {
   "cell_type": "code",
   "execution_count": null,
   "metadata": {},
   "outputs": [],
   "source": [
    "dfTotal = pd.concat([tr,pd.concat([sample, ts.drop(columns=['Id'])], axis=1)])"
   ]
  },
  {
   "cell_type": "markdown",
   "metadata": {},
   "source": [
    "#### Tamanho resultante total\n",
    "\n",
    "Para conferir a quantidade total de elementos no database resultante."
   ]
  },
  {
   "cell_type": "code",
   "execution_count": null,
   "metadata": {},
   "outputs": [],
   "source": [
    "print(len(dfTotal),\"x\",len(dfTotal.columns))"
   ]
  },
  {
   "cell_type": "markdown",
   "metadata": {},
   "source": [
    "#### Analisando quantos itens nulos há no database\n",
    "\n",
    "É importante conhecer quantos itens nulos existem no database para entender qual deve ser a medida adequada a se tomar mediante a quantidade de itens nulos."
   ]
  },
  {
   "cell_type": "code",
   "execution_count": null,
   "metadata": {},
   "outputs": [],
   "source": [
    "print(\"-->Nulidade:\")\n",
    "for i in dfTotal.columns:\n",
    "    print(i,\"\\t:\",dfTotal[i].isnull().sum())"
   ]
  },
  {
   "cell_type": "markdown",
   "metadata": {},
   "source": [
    "⚠️ __Houve muitas tabelas com valores nulos, vale nesta ocasião mostrar uma listagem para tornar o trabalho aqui desenvolvido o mais didático possível.__ ⚠️"
   ]
  },
  {
   "cell_type": "code",
   "execution_count": null,
   "metadata": {},
   "outputs": [],
   "source": [
    "amount = 0\n",
    "for i in dfTotal.columns:\n",
    "    if(dfTotal[i].isnull().sum()>0): \n",
    "        amount += 1\n",
    "        print(i,\"\\t:\",dfTotal[i].isnull().sum())\n",
    "print(\"Quantidade total de tabelas que apresentaram valores nulos:\",amount)"
   ]
  },
  {
   "cell_type": "markdown",
   "metadata": {},
   "source": [
    "⚠️ __34 colunas apresentaram valores nulos. A essa altura é importante tratar de cada uma individualmente.__ ⚠️"
   ]
  },
  {
   "cell_type": "markdown",
   "metadata": {},
   "source": [
    "#### Tratando as nulidades\n",
    "\n",
    "Algumas colunas apresentaram uma quantidade muito alta de valores nulos. Entendeu-se, desta forma, como mais adequada a decisão de apagar essas colunas, uma vez que média, desvio padrão ou moda são valores que perdem significado dada uma quantidade tão alta de valores nulos. Sendo assim, __as colunas__:\n",
    "\n",
    "* __MiscFeature__ (com 96% dos valores nulos)\n",
    "* __PoolQC__ (com 99% dos valores nulos)\n",
    "* __Fence__ (com 80% dos valores nulos)\n",
    "* __FireplaceQu__ (com 48% dos valores nulos)\n",
    "* __Alley__ (com 93% dos valores nulos)\n",
    "\n",
    "__serão excluídas__.\n",
    "\n",
    "As colunas que apresentam uma quantidade desprezível de dados faltantes:\n",
    "\n",
    "* __MSZoning__\n",
    "* __Utilities__\n",
    "* __Exterior1st__\n",
    "* __Exterior2nd__\n",
    "* __BsmtFinSF1__\n",
    "* __BsmtFinSF2__\n",
    "* __BsmtUnfSF__\n",
    "* __TotalBsmtSF__\n",
    "* __Electrical__\n",
    "* __BsmtFullBath__\n",
    "* __BsmtHalfBath__\n",
    "* __KitchenQual__\n",
    "* __Functional__\n",
    "* __GarageCars__\n",
    "* __GarageArea__ \n",
    "* __SaleType__\n",
    "\n",
    "__terão as linhas que apresenta esses dados faltantes excluídas__.\n",
    "\n",
    "As demais colunas __serão preenchidas com a mediana (no caso de colunas numéricas) ou moda (no caso de colunas qualitativas) dos valores faltantes na devida coluna__:\n",
    "\n",
    "* __LotFrontage__\n",
    "* __MasVnrType__\n",
    "* __MasVnrArea__\n",
    "* __BsmtQual__\n",
    "* __BsmtCond__\n",
    "* __BsmtExposure__\n",
    "* __BsmtFinType1__\n",
    "* __BsmtFinType2__\n",
    "* __GarageType__\n",
    "* __GarageYrBlt__\n",
    "* __GarageFinish__\n",
    "* __GarageQual__\n",
    "* __GarageCond__"
   ]
  },
  {
   "cell_type": "markdown",
   "metadata": {},
   "source": [
    "##### Tratando colunas com alta quantidade de valores nulos"
   ]
  },
  {
   "cell_type": "code",
   "execution_count": null,
   "metadata": {},
   "outputs": [],
   "source": [
    "dfTotal = dfTotal.drop(columns=['MiscFeature','PoolQC','Fence','FireplaceQu','Alley'])\n",
    "print(len(dfTotal),\"x\",len(dfTotal.columns))"
   ]
  },
  {
   "cell_type": "markdown",
   "metadata": {},
   "source": [
    "##### Tratando colunas com quantidade ínfima de valores nulos"
   ]
  },
  {
   "cell_type": "code",
   "execution_count": null,
   "metadata": {},
   "outputs": [],
   "source": [
    "dfTotal = dfTotal.dropna(subset=['MSZoning','Utilities','Exterior1st','Exterior2nd','BsmtFinSF1','BsmtFinSF2','BsmtUnfSF','TotalBsmtSF','Electrical','BsmtFullBath','BsmtHalfBath','KitchenQual','Functional','GarageCars','GarageArea','SaleType'])\n",
    "print(len(dfTotal),\"x\",len(dfTotal.columns))"
   ]
  },
  {
   "cell_type": "markdown",
   "metadata": {},
   "source": [
    "##### Tratando demais colunas"
   ]
  },
  {
   "cell_type": "code",
   "execution_count": null,
   "metadata": {},
   "outputs": [],
   "source": [
    "dfTotal.fillna(dfTotal['LotFrontage'].median(),inplace=True)\n",
    "print(\"LotFrontage\\t:\",dfTotal['LotFrontage'].isnull().sum())"
   ]
  },
  {
   "cell_type": "code",
   "execution_count": null,
   "metadata": {},
   "outputs": [],
   "source": [
    "dfTotal.fillna(dfTotal['MasVnrType'].mode(),inplace=True)\n",
    "print(\"MasVnrType\\t:\",dfTotal['MasVnrType'].isnull().sum())"
   ]
  },
  {
   "cell_type": "code",
   "execution_count": null,
   "metadata": {},
   "outputs": [],
   "source": [
    "dfTotal.fillna(dfTotal['MasVnrArea'].median(),inplace=True)\n",
    "print(\"MasVnrArea\\t:\",dfTotal['MasVnrArea'].isnull().sum())"
   ]
  },
  {
   "cell_type": "code",
   "execution_count": null,
   "metadata": {},
   "outputs": [],
   "source": [
    "dfTotal.fillna(dfTotal['BsmtQual'].mode(),inplace=True)\n",
    "print(\"BsmtQual\\t:\",dfTotal['BsmtQual'].isnull().sum())"
   ]
  },
  {
   "cell_type": "code",
   "execution_count": null,
   "metadata": {},
   "outputs": [],
   "source": [
    "dfTotal.fillna(dfTotal['BsmtCond'].mode(),inplace=True)\n",
    "print(\"BsmtCond\\t:\",dfTotal['BsmtCond'].isnull().sum())"
   ]
  },
  {
   "cell_type": "code",
   "execution_count": null,
   "metadata": {},
   "outputs": [],
   "source": [
    "dfTotal.fillna(dfTotal['BsmtExposure'].mode(),inplace=True)\n",
    "print(\"BsmtExposure\\t:\",dfTotal['BsmtExposure'].isnull().sum())"
   ]
  },
  {
   "cell_type": "code",
   "execution_count": null,
   "metadata": {},
   "outputs": [],
   "source": [
    "dfTotal.fillna(dfTotal['BsmtFinType1'].mode(),inplace=True)\n",
    "print(\"BsmtFinType1\\t:\",dfTotal['BsmtFinType1'].isnull().sum())"
   ]
  },
  {
   "cell_type": "code",
   "execution_count": null,
   "metadata": {},
   "outputs": [],
   "source": [
    "dfTotal.fillna(dfTotal['BsmtFinType2'].mode(),inplace=True)\n",
    "print(\"BsmtFinType2\\t:\",dfTotal['BsmtFinType2'].isnull().sum())"
   ]
  },
  {
   "cell_type": "code",
   "execution_count": null,
   "metadata": {},
   "outputs": [],
   "source": [
    "dfTotal.fillna(dfTotal['GarageType'].mode(),inplace=True)\n",
    "print(\"GarageType\\t:\",dfTotal['GarageType'].isnull().sum())"
   ]
  },
  {
   "cell_type": "code",
   "execution_count": null,
   "metadata": {},
   "outputs": [],
   "source": [
    "dfTotal.fillna(dfTotal['GarageYrBlt'].median(),inplace=True)\n",
    "print(\"GarageYrBlt\\t:\",dfTotal['GarageYrBlt'].isnull().sum())"
   ]
  },
  {
   "cell_type": "code",
   "execution_count": null,
   "metadata": {},
   "outputs": [],
   "source": [
    "dfTotal.fillna(dfTotal['GarageFinish'].mode(),inplace=True)\n",
    "print(\"GarageFinish\\t:\",dfTotal['GarageFinish'].isnull().sum())"
   ]
  },
  {
   "cell_type": "code",
   "execution_count": null,
   "metadata": {},
   "outputs": [],
   "source": [
    "dfTotal.fillna(dfTotal['GarageQual'].mode(),inplace=True)\n",
    "print(\"GarageQual\\t:\",dfTotal['GarageQual'].isnull().sum())"
   ]
  },
  {
   "cell_type": "code",
   "execution_count": null,
   "metadata": {},
   "outputs": [],
   "source": [
    "dfTotal.fillna(dfTotal['GarageCond'].mode(),inplace=True)\n",
    "print(\"GarageCond\\t:\",dfTotal['GarageCond'].isnull().sum())"
   ]
  },
  {
   "cell_type": "code",
   "execution_count": null,
   "metadata": {},
   "outputs": [],
   "source": [
    "print(len(dfTotal),\"x\",len(dfTotal.columns))"
   ]
  },
  {
   "cell_type": "markdown",
   "metadata": {},
   "source": [
    "#### Conferindo quantidade de itens nulos no database"
   ]
  },
  {
   "cell_type": "code",
   "execution_count": null,
   "metadata": {},
   "outputs": [],
   "source": [
    "dfTotal.isnull().sum().sum()"
   ]
  },
  {
   "cell_type": "markdown",
   "metadata": {},
   "source": [
    "✅ __Foi feita com sucesso a limpeza de valores nulos nas tabelas.__ ✅\n",
    "\n",
    "❗️ __Entretanto é necessário um cuidado. Há muitas colunas, entretanto, com valores qualitativos. Muito embora essas colunas qualitativas não apresentem valores nulos após a limpeza, podem conter células que apresentem conteúdo que representam o \"vazio\", que deve ser realizada a interpretação se esse \"vazio\" é proposital com a lógica do database ou se é tem o mesmo significado lógico que um nulo. Para isso, como será feito adiante, será analizado adiante quais tabelas são qualitativas e se possuem valores que representam o \"vazio\" supracitado.__ ❗️"
   ]
  },
  {
   "cell_type": "markdown",
   "metadata": {},
   "source": [
    "#### Analizando e tratando dados qualitativos\n",
    "\n",
    "É importante, agora, fazer uma minuciosa análise nas colunas qualitativas. Os passos serão os seguintes:\n",
    "\n",
    "* Analisar quais são as colunas qualitativas\n",
    "* Individualmente analisar se todos os seus dados (através do comando *groupby*) são consistentes ou há valores que podem ser considerados nulos\n",
    "\n",
    "Feito isso, é também interessante converter as classificações dessas colunas em valores numéricos, com o uso da função *replace* do python. Sendo assim, com todos os dados numéricos, será possível, de maneira mais natural, o uso de diferentes métodos de IA."
   ]
  },
  {
   "cell_type": "code",
   "execution_count": null,
   "metadata": {},
   "outputs": [],
   "source": [
    "print(\"Colunas qualitativas: \")\n",
    "amount = 0\n",
    "for i in dfTotal.columns:\n",
    "    if(dfTotal.dtypes[i]=='object'):\n",
    "        amount += 1\n",
    "        print(amount,\"-\\t\",i)"
   ]
  },
  {
   "cell_type": "markdown",
   "metadata": {},
   "source": [
    "##### Tratando MSZoning"
   ]
  },
  {
   "cell_type": "code",
   "execution_count": null,
   "metadata": {},
   "outputs": [],
   "source": [
    "dfTotal.groupby(['MSZoning']).count()"
   ]
  },
  {
   "cell_type": "markdown",
   "metadata": {},
   "source": [
    "✅ __A coluna *MSZoning* não apresenta nenhum dado que possa ser considerado inconsistente.__ ✅\n",
    "\n",
    "Para converter todos os seus valores para inteiros, será feito o seguinte:\n",
    "\n",
    "* __C (all)__ será substituído por 0\n",
    "* __FV__ será substituído por 1\n",
    "* __RH__ será substituído por 2\n",
    "* __RL__ será substituído por 3\n",
    "* __RM__ será substituído por 4"
   ]
  },
  {
   "cell_type": "code",
   "execution_count": null,
   "metadata": {},
   "outputs": [],
   "source": [
    "dfTotal['MSZoning'] = dfTotal['MSZoning'].replace('C (all)',0)\n",
    "dfTotal['MSZoning'] = dfTotal['MSZoning'].replace('FV',1)\n",
    "dfTotal['MSZoning'] = dfTotal['MSZoning'].replace('RH',2)\n",
    "dfTotal['MSZoning'] = dfTotal['MSZoning'].replace('RL',3)\n",
    "dfTotal['MSZoning'] = dfTotal['MSZoning'].replace('RM',4)\n",
    "\n",
    "dfTotal.groupby(['MSZoning']).count()"
   ]
  },
  {
   "cell_type": "markdown",
   "metadata": {},
   "source": [
    "##### Tratando Street"
   ]
  },
  {
   "cell_type": "code",
   "execution_count": null,
   "metadata": {},
   "outputs": [],
   "source": [
    "dfTotal.groupby(['Street']).count()"
   ]
  },
  {
   "cell_type": "markdown",
   "metadata": {},
   "source": [
    "✅ __A coluna *Street* não apresenta nenhum dado que possa ser considerado inconsistente.__ ✅\n",
    "\n",
    "Para converter todos os seus valores para inteiros, será feito o seguinte:\n",
    "\n",
    "* __Grvl__ será substituído por 0\n",
    "* __Pave__ será substituído por 1"
   ]
  },
  {
   "cell_type": "code",
   "execution_count": null,
   "metadata": {
    "scrolled": true
   },
   "outputs": [],
   "source": [
    "dfTotal['Street'] = dfTotal['Street'].replace('Grvl',0)\n",
    "dfTotal['Street'] = dfTotal['Street'].replace('Pave',1)\n",
    "\n",
    "dfTotal.groupby(['Street']).count()"
   ]
  },
  {
   "cell_type": "markdown",
   "metadata": {},
   "source": [
    "##### Tratando LotShape"
   ]
  },
  {
   "cell_type": "code",
   "execution_count": null,
   "metadata": {},
   "outputs": [],
   "source": [
    "dfTotal.groupby(['LotShape']).count()"
   ]
  },
  {
   "cell_type": "markdown",
   "metadata": {},
   "source": [
    "✅ __A coluna *LotShape* não apresenta nenhum dado que possa ser considerado inconsistente.__ ✅\n",
    "\n",
    "Para converter todos os seus valores para inteiros, será feito o seguinte:\n",
    "\n",
    "* __IR1__ será substituído por 0\n",
    "* __IR2__ será substituído por 1\n",
    "* __IR3__ será substituído por 2\n",
    "* __Reg__ será substituído por 3"
   ]
  },
  {
   "cell_type": "code",
   "execution_count": null,
   "metadata": {},
   "outputs": [],
   "source": [
    "dfTotal['LotShape'] = dfTotal['LotShape'].replace('IR1',0)\n",
    "dfTotal['LotShape'] = dfTotal['LotShape'].replace('IR2',1)\n",
    "dfTotal['LotShape'] = dfTotal['LotShape'].replace('IR3',2)\n",
    "dfTotal['LotShape'] = dfTotal['LotShape'].replace('Reg',3)\n",
    "\n",
    "dfTotal.groupby(['LotShape']).count()"
   ]
  },
  {
   "cell_type": "markdown",
   "metadata": {},
   "source": [
    "##### Tratando LandContour"
   ]
  },
  {
   "cell_type": "code",
   "execution_count": null,
   "metadata": {},
   "outputs": [],
   "source": [
    "dfTotal.groupby(['LandContour']).count()"
   ]
  },
  {
   "cell_type": "markdown",
   "metadata": {},
   "source": [
    "✅ __A coluna *LandContour* não apresenta nenhum dado que possa ser considerado inconsistente.__ ✅\n",
    "\n",
    "Para converter todos os seus valores para inteiros, será feito o seguinte:\n",
    "\n",
    "* __Bnk__ será substituído por 0\n",
    "* __HLS__ será substituído por 1\n",
    "* __Low__ será substituído por 2\n",
    "* __Lvl__ será substituído por 3"
   ]
  },
  {
   "cell_type": "code",
   "execution_count": null,
   "metadata": {},
   "outputs": [],
   "source": [
    "dfTotal['LandContour'] = dfTotal['LandContour'].replace('Bnk',0)\n",
    "dfTotal['LandContour'] = dfTotal['LandContour'].replace('HLS',1)\n",
    "dfTotal['LandContour'] = dfTotal['LandContour'].replace('Low',2)\n",
    "dfTotal['LandContour'] = dfTotal['LandContour'].replace('Lvl',3)\n",
    "\n",
    "dfTotal.groupby(['LandContour']).count()"
   ]
  },
  {
   "cell_type": "markdown",
   "metadata": {},
   "source": [
    "##### Tratando Utilities"
   ]
  },
  {
   "cell_type": "code",
   "execution_count": null,
   "metadata": {},
   "outputs": [],
   "source": [
    "dfTotal.groupby(['Utilities']).count()"
   ]
  },
  {
   "cell_type": "markdown",
   "metadata": {},
   "source": [
    "✅ __A coluna *Utilities* não apresenta nenhum dado que possa ser considerado inconsistente.__ ✅\n",
    "\n",
    "Para converter todos os seus valores para inteiros, será feito o seguinte:\n",
    "\n",
    "* __AllPub__ será substituído por 0\n",
    "* __NoSeWa__ será substituído por 1"
   ]
  },
  {
   "cell_type": "code",
   "execution_count": null,
   "metadata": {},
   "outputs": [],
   "source": [
    "dfTotal['Utilities'] = dfTotal['Utilities'].replace('AllPub',0)\n",
    "dfTotal['Utilities'] = dfTotal['Utilities'].replace('NoSeWa',1)\n",
    "\n",
    "dfTotal.groupby(['Utilities']).count()"
   ]
  },
  {
   "cell_type": "markdown",
   "metadata": {},
   "source": [
    "##### Tratando LotConfig"
   ]
  },
  {
   "cell_type": "code",
   "execution_count": null,
   "metadata": {},
   "outputs": [],
   "source": [
    "dfTotal.groupby(['LotConfig']).count()"
   ]
  },
  {
   "cell_type": "markdown",
   "metadata": {},
   "source": [
    "✅ __A coluna *LotConfig* não apresenta nenhum dado que possa ser considerado inconsistente.__ ✅\n",
    "\n",
    "Para converter todos os seus valores para inteiros, será feito o seguinte:\n",
    "\n",
    "* __Corner__ será substituído por 0\n",
    "* __CulDSac__ será substituído por 1\n",
    "* __FR2__ será substituído por 2\n",
    "* __FR3__ será substituído por 3\n",
    "* __Inside__ será substituído por 4"
   ]
  },
  {
   "cell_type": "code",
   "execution_count": null,
   "metadata": {},
   "outputs": [],
   "source": [
    "dfTotal['LotConfig'] = dfTotal['LotConfig'].replace('Corner',0)\n",
    "dfTotal['LotConfig'] = dfTotal['LotConfig'].replace('CulDSac',1)\n",
    "dfTotal['LotConfig'] = dfTotal['LotConfig'].replace('FR2',2)\n",
    "dfTotal['LotConfig'] = dfTotal['LotConfig'].replace('FR3',3)\n",
    "dfTotal['LotConfig'] = dfTotal['LotConfig'].replace('Inside',4)\n",
    "\n",
    "dfTotal.groupby(['LotConfig']).count()"
   ]
  },
  {
   "cell_type": "markdown",
   "metadata": {},
   "source": [
    "##### Tratando LandSlope"
   ]
  },
  {
   "cell_type": "code",
   "execution_count": null,
   "metadata": {},
   "outputs": [],
   "source": [
    "dfTotal.groupby(['LandSlope']).count()"
   ]
  },
  {
   "cell_type": "markdown",
   "metadata": {},
   "source": [
    "✅ __A coluna *LandSlope* não apresenta nenhum dado que possa ser considerado inconsistente.__ ✅\n",
    "\n",
    "Para converter todos os seus valores para inteiros, será feito o seguinte:\n",
    "\n",
    "* __Gtl__ será substituído por 0\n",
    "* __Mod__ será substituído por 1\n",
    "* __Sev__ será substituído por 2"
   ]
  },
  {
   "cell_type": "code",
   "execution_count": null,
   "metadata": {},
   "outputs": [],
   "source": [
    "dfTotal['LandSlope'] = dfTotal['LandSlope'].replace('Gtl',0)\n",
    "dfTotal['LandSlope'] = dfTotal['LandSlope'].replace('Mod',1)\n",
    "dfTotal['LandSlope'] = dfTotal['LandSlope'].replace('Sev',2)\n",
    "\n",
    "dfTotal.groupby(['LandSlope']).count()"
   ]
  },
  {
   "cell_type": "markdown",
   "metadata": {},
   "source": [
    "##### Tratando Neighborhood"
   ]
  },
  {
   "cell_type": "code",
   "execution_count": null,
   "metadata": {},
   "outputs": [],
   "source": [
    "dfTotal.groupby(['Neighborhood']).count()"
   ]
  },
  {
   "cell_type": "markdown",
   "metadata": {},
   "source": [
    "✅ __A coluna *Neighborhood* não apresenta nenhum dado que possa ser considerado inconsistente.__ ✅\n",
    "\n",
    "Para converter todos os seus valores para inteiros, será feito o seguinte:\n",
    "\n",
    "* __Blmngtn__ será substituído por 0\n",
    "* __Blueste__ será substituído por 1\n",
    "* __BrDale__ será substituído por 2\n",
    "* __BrkSide__ será substituído por 3\n",
    "* __ClearCr__ será substituído por 4\n",
    "* __CollgCr__ será substituído por 5\n",
    "* __Crawfor__ será substituído por 6\n",
    "* __Edwards__ será substituído por 7\n",
    "* __Gilbert__ será substituído por 8\n",
    "* __IDOTRR__ será substituído por 9\n",
    "* __MeadowV__ será substituído por 10\n",
    "* __Mitchel__ será substituído por 11\n",
    "* __NAmes__ será substituído por 12\n",
    "* __NPkVill__ será substituído por 13\n",
    "* __NWAmes__ será substituído por 14\n",
    "* __NoRidge__ será substituído por 15\n",
    "* __NridgHt__ será substituído por 16\n",
    "* __OldTown__ será substituído por 17\n",
    "* __SWISU__ será substituído por 18\n",
    "* __Sawyer__ será substituído por 19\n",
    "* __SawyerW__ será substituído por 20\n",
    "* __Somerst__ será substituído por 21\n",
    "* __StoneBr__ será substituído por 22\n",
    "* __Timber__ será substituído por 23\n",
    "* __Veenker__ será substituído por 24"
   ]
  },
  {
   "cell_type": "code",
   "execution_count": null,
   "metadata": {
    "scrolled": false
   },
   "outputs": [],
   "source": [
    "dfTotal['Neighborhood'] = dfTotal['Neighborhood'].replace('Blmngtn',0)\n",
    "dfTotal['Neighborhood'] = dfTotal['Neighborhood'].replace('Blueste',1)\n",
    "dfTotal['Neighborhood'] = dfTotal['Neighborhood'].replace('BrDale',2)\n",
    "dfTotal['Neighborhood'] = dfTotal['Neighborhood'].replace('BrkSide',3)\n",
    "dfTotal['Neighborhood'] = dfTotal['Neighborhood'].replace('ClearCr',4)\n",
    "dfTotal['Neighborhood'] = dfTotal['Neighborhood'].replace('CollgCr',5)\n",
    "dfTotal['Neighborhood'] = dfTotal['Neighborhood'].replace('Crawfor',6)\n",
    "dfTotal['Neighborhood'] = dfTotal['Neighborhood'].replace('Edwards',7)\n",
    "dfTotal['Neighborhood'] = dfTotal['Neighborhood'].replace('Gilbert',8)\n",
    "dfTotal['Neighborhood'] = dfTotal['Neighborhood'].replace('IDOTRR',9)\n",
    "dfTotal['Neighborhood'] = dfTotal['Neighborhood'].replace('MeadowV',10)\n",
    "dfTotal['Neighborhood'] = dfTotal['Neighborhood'].replace('Mitchel',11)\n",
    "dfTotal['Neighborhood'] = dfTotal['Neighborhood'].replace('NAmes',12)\n",
    "dfTotal['Neighborhood'] = dfTotal['Neighborhood'].replace('NPkVill',13)\n",
    "dfTotal['Neighborhood'] = dfTotal['Neighborhood'].replace('NWAmes',14)\n",
    "dfTotal['Neighborhood'] = dfTotal['Neighborhood'].replace('NoRidge',15)\n",
    "dfTotal['Neighborhood'] = dfTotal['Neighborhood'].replace('NridgHt',16)\n",
    "dfTotal['Neighborhood'] = dfTotal['Neighborhood'].replace('OldTown',17)\n",
    "dfTotal['Neighborhood'] = dfTotal['Neighborhood'].replace('SWISU',18)\n",
    "dfTotal['Neighborhood'] = dfTotal['Neighborhood'].replace('Sawyer',19)\n",
    "dfTotal['Neighborhood'] = dfTotal['Neighborhood'].replace('SawyerW',20)\n",
    "dfTotal['Neighborhood'] = dfTotal['Neighborhood'].replace('Somerst',21)\n",
    "dfTotal['Neighborhood'] = dfTotal['Neighborhood'].replace('StoneBr',22)\n",
    "dfTotal['Neighborhood'] = dfTotal['Neighborhood'].replace('Timber',23)\n",
    "dfTotal['Neighborhood'] = dfTotal['Neighborhood'].replace('Veenker',24)\n",
    "\n",
    "dfTotal.groupby(['Neighborhood']).count()"
   ]
  },
  {
   "cell_type": "markdown",
   "metadata": {},
   "source": [
    "##### Tratando Condition1"
   ]
  },
  {
   "cell_type": "code",
   "execution_count": null,
   "metadata": {
    "scrolled": false
   },
   "outputs": [],
   "source": [
    "dfTotal.groupby(['Condition1']).count()"
   ]
  },
  {
   "cell_type": "markdown",
   "metadata": {},
   "source": [
    "✅ __A coluna *Condition1* não apresenta nenhum dado que possa ser considerado inconsistente.__ ✅\n",
    "\n",
    "Para converter todos os seus valores para inteiros, será feito o seguinte:\n",
    "\n",
    "* __Artery__ será substituído por 0\n",
    "* __Feedr__ será substituído por 1\n",
    "* __Norm__ será substituído por 2\n",
    "* __PosA__ será substituído por 3\n",
    "* __PosN__ será substituído por 4\n",
    "* __RRAe__ será substituído por 5\n",
    "* __RRAn__ será substituído por 6\n",
    "* __RRNe__ será substituído por 7\n",
    "* __RRNn__ será substituído por 8"
   ]
  },
  {
   "cell_type": "code",
   "execution_count": null,
   "metadata": {},
   "outputs": [],
   "source": [
    "dfTotal['Condition1'] = dfTotal['Condition1'].replace('Artery',0)\n",
    "dfTotal['Condition1'] = dfTotal['Condition1'].replace('Feedr',1)\n",
    "dfTotal['Condition1'] = dfTotal['Condition1'].replace('Norm',2)\n",
    "dfTotal['Condition1'] = dfTotal['Condition1'].replace('PosA',3)\n",
    "dfTotal['Condition1'] = dfTotal['Condition1'].replace('PosN',4)\n",
    "dfTotal['Condition1'] = dfTotal['Condition1'].replace('RRAe',5)\n",
    "dfTotal['Condition1'] = dfTotal['Condition1'].replace('RRAn',6)\n",
    "dfTotal['Condition1'] = dfTotal['Condition1'].replace('RRNe',7)\n",
    "dfTotal['Condition1'] = dfTotal['Condition1'].replace('RRNn',8)\n",
    "\n",
    "dfTotal.groupby(['Condition1']).count()"
   ]
  },
  {
   "cell_type": "markdown",
   "metadata": {},
   "source": [
    "##### Tratando Condition2"
   ]
  },
  {
   "cell_type": "code",
   "execution_count": null,
   "metadata": {},
   "outputs": [],
   "source": [
    "dfTotal.groupby(['Condition2']).count()"
   ]
  },
  {
   "cell_type": "markdown",
   "metadata": {},
   "source": [
    "✅ __A coluna *Condition2* não apresenta nenhum dado que possa ser considerado inconsistente.__ ✅\n",
    "\n",
    "Para converter todos os seus valores para inteiros, será feito o seguinte:\n",
    "\n",
    "* __Artery__ será substituído por 0\n",
    "* __Feedr__ será substituído por 1\n",
    "* __Norm__ será substituído por 2\n",
    "* __PosA__ será substituído por 3\n",
    "* __PosN__ será substituído por 4\n",
    "* __RRAe__ será substituído por 5\n",
    "* __RRAn__ será substituído por 6\n",
    "* __RRNn__ será substituído por 7"
   ]
  },
  {
   "cell_type": "code",
   "execution_count": null,
   "metadata": {
    "scrolled": true
   },
   "outputs": [],
   "source": [
    "dfTotal['Condition2'] = dfTotal['Condition2'].replace('Artery',0)\n",
    "dfTotal['Condition2'] = dfTotal['Condition2'].replace('Feedr',1)\n",
    "dfTotal['Condition2'] = dfTotal['Condition2'].replace('Norm',2)\n",
    "dfTotal['Condition2'] = dfTotal['Condition2'].replace('PosA',3)\n",
    "dfTotal['Condition2'] = dfTotal['Condition2'].replace('PosN',4)\n",
    "dfTotal['Condition2'] = dfTotal['Condition2'].replace('RRAe',5)\n",
    "dfTotal['Condition2'] = dfTotal['Condition2'].replace('RRAn',6)\n",
    "dfTotal['Condition2'] = dfTotal['Condition2'].replace('RRNn',7)\n",
    "\n",
    "dfTotal.groupby(['Condition2']).count()"
   ]
  },
  {
   "cell_type": "markdown",
   "metadata": {},
   "source": [
    "##### Tratando BldgType"
   ]
  },
  {
   "cell_type": "code",
   "execution_count": null,
   "metadata": {},
   "outputs": [],
   "source": [
    "dfTotal.groupby(['BldgType']).count()"
   ]
  },
  {
   "cell_type": "markdown",
   "metadata": {},
   "source": [
    "✅ __A coluna *BldgType* não apresenta nenhum dado que possa ser considerado inconsistente.__ ✅\n",
    "\n",
    "Para converter todos os seus valores para inteiros, será feito o seguinte:\n",
    "\n",
    "* __1Fam__ será substituído por 0\n",
    "* __2fmCon__ será substituído por 1\n",
    "* __Duplex__ será substituído por 2\n",
    "* __Twnhs__ será substituído por 3\n",
    "* __TwnhsE__ será substituído por 4"
   ]
  },
  {
   "cell_type": "code",
   "execution_count": null,
   "metadata": {},
   "outputs": [],
   "source": [
    "dfTotal['BldgType'] = dfTotal['BldgType'].replace('1Fam',0)\n",
    "dfTotal['BldgType'] = dfTotal['BldgType'].replace('2fmCon',1)\n",
    "dfTotal['BldgType'] = dfTotal['BldgType'].replace('Duplex',2)\n",
    "dfTotal['BldgType'] = dfTotal['BldgType'].replace('Twnhs',3)\n",
    "dfTotal['BldgType'] = dfTotal['BldgType'].replace('TwnhsE',4)\n",
    "\n",
    "dfTotal.groupby(['BldgType']).count()"
   ]
  },
  {
   "cell_type": "markdown",
   "metadata": {},
   "source": [
    "##### Tratando HouseStyle"
   ]
  },
  {
   "cell_type": "code",
   "execution_count": null,
   "metadata": {},
   "outputs": [],
   "source": [
    "dfTotal.groupby(['HouseStyle']).count()"
   ]
  },
  {
   "cell_type": "markdown",
   "metadata": {},
   "source": [
    "✅ __A coluna *HouseStyle* não apresenta nenhum dado que possa ser considerado inconsistente.__ ✅\n",
    "\n",
    "Para converter todos os seus valores para inteiros, será feito o seguinte:\n",
    "\n",
    "* __1.5Fin__ será substituído por 0\n",
    "* __1.5Unf__ será substituído por 1\n",
    "* __1Story__ será substituído por 2\n",
    "* __2.5Fin__ será substituído por 3\n",
    "* __2.5Unf__ será substituído por 4\n",
    "* __2Story__ será substituído por 5\n",
    "* __SFoyer__ será substituído por 6\n",
    "* __SLvl__ será substituído por 7"
   ]
  },
  {
   "cell_type": "code",
   "execution_count": null,
   "metadata": {
    "scrolled": true
   },
   "outputs": [],
   "source": [
    "dfTotal['HouseStyle'] = dfTotal['HouseStyle'].replace('1.5Fin',0)\n",
    "dfTotal['HouseStyle'] = dfTotal['HouseStyle'].replace('1.5Unf',1)\n",
    "dfTotal['HouseStyle'] = dfTotal['HouseStyle'].replace('1Story',2)\n",
    "dfTotal['HouseStyle'] = dfTotal['HouseStyle'].replace('2.5Fin',3)\n",
    "dfTotal['HouseStyle'] = dfTotal['HouseStyle'].replace('2.5Unf',4)\n",
    "dfTotal['HouseStyle'] = dfTotal['HouseStyle'].replace('2Story',5)\n",
    "dfTotal['HouseStyle'] = dfTotal['HouseStyle'].replace('SFoyer',6)\n",
    "dfTotal['HouseStyle'] = dfTotal['HouseStyle'].replace('SLvl',7)\n",
    "\n",
    "dfTotal.groupby(['HouseStyle']).count()"
   ]
  },
  {
   "cell_type": "markdown",
   "metadata": {},
   "source": [
    "##### Tratando RoofStyle"
   ]
  },
  {
   "cell_type": "code",
   "execution_count": null,
   "metadata": {},
   "outputs": [],
   "source": [
    "dfTotal.groupby(['RoofStyle']).count()"
   ]
  },
  {
   "cell_type": "markdown",
   "metadata": {},
   "source": [
    "✅ __A coluna *RoofStyle* não apresenta nenhum dado que possa ser considerado inconsistente.__ ✅\n",
    "\n",
    "Para converter todos os seus valores para inteiros, será feito o seguinte:\n",
    "\n",
    "* __Flat__ será substituído por 0\n",
    "* __Gable__ será substituído por 1\n",
    "* __Gambrel__ será substituído por 2\n",
    "* __Hip__ será substituído por 3\n",
    "* __Mansard__ será substituído por 4\n",
    "* __Shed__ será substituído por 5"
   ]
  },
  {
   "cell_type": "code",
   "execution_count": null,
   "metadata": {},
   "outputs": [],
   "source": [
    "dfTotal['RoofStyle'] = dfTotal['RoofStyle'].replace('Flat',0)\n",
    "dfTotal['RoofStyle'] = dfTotal['RoofStyle'].replace('Gable',1)\n",
    "dfTotal['RoofStyle'] = dfTotal['RoofStyle'].replace('Gambrel',2)\n",
    "dfTotal['RoofStyle'] = dfTotal['RoofStyle'].replace('Hip',3)\n",
    "dfTotal['RoofStyle'] = dfTotal['RoofStyle'].replace('Mansard',4)\n",
    "dfTotal['RoofStyle'] = dfTotal['RoofStyle'].replace('Shed',5)\n",
    "\n",
    "dfTotal.groupby(['RoofStyle']).count()"
   ]
  },
  {
   "cell_type": "markdown",
   "metadata": {},
   "source": [
    "##### Tratando RoofMatl"
   ]
  },
  {
   "cell_type": "code",
   "execution_count": null,
   "metadata": {},
   "outputs": [],
   "source": [
    "dfTotal.groupby(['RoofMatl']).count()"
   ]
  },
  {
   "cell_type": "markdown",
   "metadata": {},
   "source": [
    "✅ __A coluna *RoofMatl* não apresenta nenhum dado que possa ser considerado inconsistente.__ ✅\n",
    "\n",
    "Para converter todos os seus valores para inteiros, será feito o seguinte:\n",
    "\n",
    "* __ClyTile__ será substituído por 0\n",
    "* __CompShp__ será substituído por 1\n",
    "* __Membran__ será substituído por 2\n",
    "* __Metal__ será substituído por 3\n",
    "* __Roll__ será substituído por 4\n",
    "* __Tar&Grv__ será substituído por 5\n",
    "* __WdShake__ será substituído por 6\n",
    "* __WdShngl__ será substituído por 7"
   ]
  },
  {
   "cell_type": "code",
   "execution_count": null,
   "metadata": {
    "scrolled": true
   },
   "outputs": [],
   "source": [
    "dfTotal['RoofMatl'] = dfTotal['RoofMatl'].replace('ClyTile',0)\n",
    "dfTotal['RoofMatl'] = dfTotal['RoofMatl'].replace('CompShp',1)\n",
    "dfTotal['RoofMatl'] = dfTotal['RoofMatl'].replace('Membran',2)\n",
    "dfTotal['RoofMatl'] = dfTotal['RoofMatl'].replace('Metal',3)\n",
    "dfTotal['RoofMatl'] = dfTotal['RoofMatl'].replace('Roll',4)\n",
    "dfTotal['RoofMatl'] = dfTotal['RoofMatl'].replace('Tar&Grv',5)\n",
    "dfTotal['RoofMatl'] = dfTotal['RoofMatl'].replace('WdShake',6)\n",
    "dfTotal['RoofMatl'] = dfTotal['RoofMatl'].replace('WdShngl',7)\n",
    "\n",
    "dfTotal.groupby(['RoofMatl']).count()"
   ]
  },
  {
   "cell_type": "markdown",
   "metadata": {},
   "source": [
    "##### Tratando Exterior1st"
   ]
  },
  {
   "cell_type": "code",
   "execution_count": null,
   "metadata": {},
   "outputs": [],
   "source": [
    "dfTotal.groupby(['Exterior1st']).count()"
   ]
  },
  {
   "cell_type": "markdown",
   "metadata": {},
   "source": [
    "✅ __A coluna *Exterior1st* não apresenta nenhum dado que possa ser considerado inconsistente.__ ✅\n",
    "\n",
    "Para converter todos os seus valores para inteiros, será feito o seguinte:\n",
    "\n",
    "* __AsbShng__ será substituído por 0\n",
    "* __AsphShn__ será substituído por 1\n",
    "* __BrkComm__ será substituído por 2\n",
    "* __BrkFace__ será substituído por 3\n",
    "* __CBlock__ será substituído por 4\n",
    "* __CemntBd__ será substituído por 5\n",
    "* __HdBoard__ será substituído por 6\n",
    "* __ImStucc__ será substituído por 7\n",
    "* __MetalSd__ será substituído por 8\n",
    "* __Plywood__ será substituído por 9\n",
    "* __Stone__ será substituído por 10\n",
    "* __Stucco__ será substituído por 11\n",
    "* __VinylSd__ será substituído por 12\n",
    "* __Wd Sdng__ será substituído por 13\n",
    "* __WdShing__ será substituído por 14"
   ]
  },
  {
   "cell_type": "code",
   "execution_count": null,
   "metadata": {},
   "outputs": [],
   "source": [
    "dfTotal['Exterior1st'] = dfTotal['Exterior1st'].replace('AsbShng',0)\n",
    "dfTotal['Exterior1st'] = dfTotal['Exterior1st'].replace('AsphShn',1)\n",
    "dfTotal['Exterior1st'] = dfTotal['Exterior1st'].replace('BrkComm',2)\n",
    "dfTotal['Exterior1st'] = dfTotal['Exterior1st'].replace('BrkFace',3)\n",
    "dfTotal['Exterior1st'] = dfTotal['Exterior1st'].replace('CBlock',4)\n",
    "dfTotal['Exterior1st'] = dfTotal['Exterior1st'].replace('CemntBd',5)\n",
    "dfTotal['Exterior1st'] = dfTotal['Exterior1st'].replace('HdBoard',6)\n",
    "dfTotal['Exterior1st'] = dfTotal['Exterior1st'].replace('ImStucc',7)\n",
    "dfTotal['Exterior1st'] = dfTotal['Exterior1st'].replace('MetalSd',8)\n",
    "dfTotal['Exterior1st'] = dfTotal['Exterior1st'].replace('Plywood',9)\n",
    "dfTotal['Exterior1st'] = dfTotal['Exterior1st'].replace('Stone',10)\n",
    "dfTotal['Exterior1st'] = dfTotal['Exterior1st'].replace('Stucco',11)\n",
    "dfTotal['Exterior1st'] = dfTotal['Exterior1st'].replace('VinylSd',12)\n",
    "dfTotal['Exterior1st'] = dfTotal['Exterior1st'].replace('Wd Sdng',13)\n",
    "dfTotal['Exterior1st'] = dfTotal['Exterior1st'].replace('WdShing',14)\n",
    "\n",
    "dfTotal.groupby(['Exterior1st']).count()"
   ]
  },
  {
   "cell_type": "markdown",
   "metadata": {},
   "source": [
    "##### Tratando Exterior2nd"
   ]
  },
  {
   "cell_type": "code",
   "execution_count": null,
   "metadata": {
    "scrolled": true
   },
   "outputs": [],
   "source": [
    "dfTotal.groupby(['Exterior2nd']).count()"
   ]
  },
  {
   "cell_type": "markdown",
   "metadata": {},
   "source": [
    "✅ __A coluna *Exterior2nd* não apresenta nenhum dado que possa ser considerado inconsistente.__ ✅\n",
    "\n",
    "Para converter todos os seus valores para inteiros, será feito o seguinte:\n",
    "\n",
    "* __AsbShng__ será substituído por 0\n",
    "* __AsphShn__ será substituído por 1\n",
    "* __Brk Cmn__ será substituído por 2\n",
    "* __BrkFace__ será substituído por 3\n",
    "* __CBlock__ será substituído por 4\n",
    "* __CmentBd__ será substituído por 5\n",
    "* __HdBoard__ será substituído por 6\n",
    "* __ImStucc__ será substituído por 7\n",
    "* __MetalSd__ será substituído por 8\n",
    "* __Plywood__ será substituído por 9\n",
    "* __Stone__ será substituído por 10\n",
    "* __Stucco__ será substituído por 11\n",
    "* __VinylSd__ será substituído por 12\n",
    "* __Wd Sdng__ será substituído por 13\n",
    "* __Wd Shng__ será substituído por 14\n",
    "* __Other__ será substituído por 15"
   ]
  },
  {
   "cell_type": "code",
   "execution_count": null,
   "metadata": {
    "scrolled": true
   },
   "outputs": [],
   "source": [
    "dfTotal['Exterior2nd'] = dfTotal['Exterior2nd'].replace('AsbShng',0)\n",
    "dfTotal['Exterior2nd'] = dfTotal['Exterior2nd'].replace('AsphShn',1)\n",
    "dfTotal['Exterior2nd'] = dfTotal['Exterior2nd'].replace('Brk Cmn',2)\n",
    "dfTotal['Exterior2nd'] = dfTotal['Exterior2nd'].replace('BrkFace',3)\n",
    "dfTotal['Exterior2nd'] = dfTotal['Exterior2nd'].replace('CBlock',4)\n",
    "dfTotal['Exterior2nd'] = dfTotal['Exterior2nd'].replace('CmentBd',5)\n",
    "dfTotal['Exterior2nd'] = dfTotal['Exterior2nd'].replace('HdBoard',6)\n",
    "dfTotal['Exterior2nd'] = dfTotal['Exterior2nd'].replace('ImStucc',7)\n",
    "dfTotal['Exterior2nd'] = dfTotal['Exterior2nd'].replace('MetalSd',8)\n",
    "dfTotal['Exterior2nd'] = dfTotal['Exterior2nd'].replace('Plywood',9)\n",
    "dfTotal['Exterior2nd'] = dfTotal['Exterior2nd'].replace('Stone',10)\n",
    "dfTotal['Exterior2nd'] = dfTotal['Exterior2nd'].replace('Stucco',11)\n",
    "dfTotal['Exterior2nd'] = dfTotal['Exterior2nd'].replace('VinylSd',12)\n",
    "dfTotal['Exterior2nd'] = dfTotal['Exterior2nd'].replace('Wd Sdng',13)\n",
    "dfTotal['Exterior2nd'] = dfTotal['Exterior2nd'].replace('Wd Shng',14)\n",
    "dfTotal['Exterior2nd'] = dfTotal['Exterior2nd'].replace('Other',15)\n",
    "\n",
    "dfTotal.groupby(['Exterior2nd']).count()"
   ]
  },
  {
   "cell_type": "markdown",
   "metadata": {},
   "source": [
    "##### Tratando MasVnrType"
   ]
  },
  {
   "cell_type": "code",
   "execution_count": null,
   "metadata": {
    "scrolled": true
   },
   "outputs": [],
   "source": [
    "dfTotal.groupby(['MasVnrType']).count()"
   ]
  },
  {
   "cell_type": "markdown",
   "metadata": {},
   "source": [
    "✅ __A coluna *MasVnrType* não apresenta nenhum dado que possa ser considerado inconsistente.__ ✅\n",
    "\n",
    "❗️ __Vale lembrar que a coluna *None* é prevista no database e tem um significado, logo ela não deve ser tratada como nula.__ ❗️ \n",
    "\n",
    "Para converter todos os seus valores para inteiros, será feito o seguinte:\n",
    "\n",
    "* __68.0__ será substituído por 0\n",
    "* __BrkCmn__ será substituído por 1\n",
    "* __BrkFace__ será substituído por 2\n",
    "* __None__ será substituído por 3\n",
    "* __Stone__ será substituído por 4"
   ]
  },
  {
   "cell_type": "code",
   "execution_count": null,
   "metadata": {
    "scrolled": false
   },
   "outputs": [],
   "source": [
    "dfTotal['MasVnrType'] = dfTotal['MasVnrType'].replace(68.0,0)\n",
    "dfTotal['MasVnrType'] = dfTotal['MasVnrType'].replace('BrkCmn',1)\n",
    "dfTotal['MasVnrType'] = dfTotal['MasVnrType'].replace('BrkFace',2)\n",
    "dfTotal['MasVnrType'] = dfTotal['MasVnrType'].replace('None',3)\n",
    "dfTotal['MasVnrType'] = dfTotal['MasVnrType'].replace('Stone',4)\n",
    "\n",
    "dfTotal.groupby(['MasVnrType']).count()"
   ]
  },
  {
   "cell_type": "markdown",
   "metadata": {},
   "source": [
    "##### Tratando ExterQual"
   ]
  },
  {
   "cell_type": "code",
   "execution_count": null,
   "metadata": {},
   "outputs": [],
   "source": [
    "dfTotal.groupby(['ExterQual']).count()"
   ]
  },
  {
   "cell_type": "markdown",
   "metadata": {},
   "source": [
    "✅ __A coluna *ExterQual* não apresenta nenhum dado que possa ser considerado inconsistente.__ ✅\n",
    "\n",
    "Para converter todos os seus valores para inteiros, será feito o seguinte:\n",
    "\n",
    "* __Ex__ será substituído por 0\n",
    "* __Fa__ será substituído por 1\n",
    "* __Gd__ será substituído por 2\n",
    "* __TA__ será substituído por 3"
   ]
  },
  {
   "cell_type": "code",
   "execution_count": null,
   "metadata": {},
   "outputs": [],
   "source": [
    "dfTotal['ExterQual'] = dfTotal['ExterQual'].replace('Ex',0)\n",
    "dfTotal['ExterQual'] = dfTotal['ExterQual'].replace('Fa',1)\n",
    "dfTotal['ExterQual'] = dfTotal['ExterQual'].replace('Gd',2)\n",
    "dfTotal['ExterQual'] = dfTotal['ExterQual'].replace('TA',3)\n",
    "\n",
    "dfTotal.groupby(['ExterQual']).count()"
   ]
  },
  {
   "cell_type": "markdown",
   "metadata": {},
   "source": [
    "##### Tratando ExterCond"
   ]
  },
  {
   "cell_type": "code",
   "execution_count": null,
   "metadata": {
    "scrolled": true
   },
   "outputs": [],
   "source": [
    "dfTotal.groupby(['ExterCond']).count()"
   ]
  },
  {
   "cell_type": "markdown",
   "metadata": {},
   "source": [
    "✅ __A coluna *ExterCond* não apresenta nenhum dado que possa ser considerado inconsistente.__ ✅\n",
    "\n",
    "Para converter todos os seus valores para inteiros, será feito o seguinte:\n",
    "\n",
    "* __Ex__ será substituído por 0\n",
    "* __Fa__ será substituído por 1\n",
    "* __Gd__ será substituído por 2\n",
    "* __TA__ será substituído por 3\n",
    "* __Po__ será substituído por 4"
   ]
  },
  {
   "cell_type": "code",
   "execution_count": null,
   "metadata": {
    "scrolled": true
   },
   "outputs": [],
   "source": [
    "dfTotal['ExterCond'] = dfTotal['ExterCond'].replace('Ex',0)\n",
    "dfTotal['ExterCond'] = dfTotal['ExterCond'].replace('Fa',1)\n",
    "dfTotal['ExterCond'] = dfTotal['ExterCond'].replace('Gd',2)\n",
    "dfTotal['ExterCond'] = dfTotal['ExterCond'].replace('TA',3)\n",
    "dfTotal['ExterCond'] = dfTotal['ExterCond'].replace('Po',4)\n",
    "\n",
    "dfTotal.groupby(['ExterCond']).count()"
   ]
  },
  {
   "cell_type": "markdown",
   "metadata": {},
   "source": [
    "##### Tratando Foundation"
   ]
  },
  {
   "cell_type": "code",
   "execution_count": null,
   "metadata": {},
   "outputs": [],
   "source": [
    "dfTotal.groupby(['Foundation']).count()"
   ]
  },
  {
   "cell_type": "markdown",
   "metadata": {},
   "source": [
    "✅ __A coluna *ExterCond* não apresenta nenhum dado que possa ser considerado inconsistente.__ ✅\n",
    "\n",
    "Para converter todos os seus valores para inteiros, será feito o seguinte:\n",
    "\n",
    "* __BrkTil__ será substituído por 0\n",
    "* __CBlock__ será substituído por 1\n",
    "* __PConc__ será substituído por 2\n",
    "* __Slab__ será substituído por 3\n",
    "* __Stone__ será substituído por 4\n",
    "* __Wood__ será substituído por 5"
   ]
  },
  {
   "cell_type": "code",
   "execution_count": null,
   "metadata": {
    "scrolled": true
   },
   "outputs": [],
   "source": [
    "dfTotal['Foundation'] = dfTotal['Foundation'].replace('BrkTil',0)\n",
    "dfTotal['Foundation'] = dfTotal['Foundation'].replace('CBlock',1)\n",
    "dfTotal['Foundation'] = dfTotal['Foundation'].replace('PConc',2)\n",
    "dfTotal['Foundation'] = dfTotal['Foundation'].replace('Slab',3)\n",
    "dfTotal['Foundation'] = dfTotal['Foundation'].replace('Stone',4)\n",
    "dfTotal['Foundation'] = dfTotal['Foundation'].replace('Wood',5)\n",
    "\n",
    "dfTotal.groupby(['Foundation']).count()"
   ]
  },
  {
   "cell_type": "markdown",
   "metadata": {},
   "source": [
    "##### Tratando BsmtQual"
   ]
  },
  {
   "cell_type": "code",
   "execution_count": null,
   "metadata": {
    "scrolled": true
   },
   "outputs": [],
   "source": [
    "dfTotal.groupby(['BsmtQual']).count()"
   ]
  },
  {
   "cell_type": "markdown",
   "metadata": {},
   "source": [
    "✅ __A coluna *BsmtQual* não apresenta nenhum dado que possa ser considerado inconsistente.__ ✅\n",
    "\n",
    "Para converter todos os seus valores para inteiros, será feito o seguinte:\n",
    "\n",
    "* __68.0__ será substituído por 0\n",
    "* __Ex__ será substituído por 1\n",
    "* __Fa__ será substituído por 2\n",
    "* __Gd__ será substituído por 3\n",
    "* __TA__ será substituído por 4"
   ]
  },
  {
   "cell_type": "code",
   "execution_count": null,
   "metadata": {
    "scrolled": true
   },
   "outputs": [],
   "source": [
    "dfTotal['BsmtQual'] = dfTotal['BsmtQual'].replace(68.0,0)\n",
    "dfTotal['BsmtQual'] = dfTotal['BsmtQual'].replace('Ex',1)\n",
    "dfTotal['BsmtQual'] = dfTotal['BsmtQual'].replace('Fa',2)\n",
    "dfTotal['BsmtQual'] = dfTotal['BsmtQual'].replace('Gd',3)\n",
    "dfTotal['BsmtQual'] = dfTotal['BsmtQual'].replace('TA',4)\n",
    "\n",
    "dfTotal.groupby(['BsmtQual']).count()"
   ]
  },
  {
   "cell_type": "markdown",
   "metadata": {},
   "source": [
    "##### Tratando BsmtCond"
   ]
  },
  {
   "cell_type": "code",
   "execution_count": null,
   "metadata": {},
   "outputs": [],
   "source": [
    "dfTotal.groupby(['BsmtCond']).count()"
   ]
  },
  {
   "cell_type": "markdown",
   "metadata": {},
   "source": [
    "✅ __A coluna *BsmtCond* não apresenta nenhum dado que possa ser considerado inconsistente.__ ✅\n",
    "\n",
    "Para converter todos os seus valores para inteiros, será feito o seguinte:\n",
    "\n",
    "* __68.0__ será substituído por 0\n",
    "* __Fa__ será substituído por 1\n",
    "* __Gd__ será substituído por 2\n",
    "* __Po__ será substituído por 3\n",
    "* __TA__ será substituído por 4"
   ]
  },
  {
   "cell_type": "code",
   "execution_count": null,
   "metadata": {
    "scrolled": true
   },
   "outputs": [],
   "source": [
    "dfTotal['BsmtCond'] = dfTotal['BsmtCond'].replace(68.0,0)\n",
    "dfTotal['BsmtCond'] = dfTotal['BsmtCond'].replace('Fa',1)\n",
    "dfTotal['BsmtCond'] = dfTotal['BsmtCond'].replace('Gd',2)\n",
    "dfTotal['BsmtCond'] = dfTotal['BsmtCond'].replace('Po',3)\n",
    "dfTotal['BsmtCond'] = dfTotal['BsmtCond'].replace('TA',4)\n",
    "\n",
    "dfTotal.groupby(['BsmtCond']).count()"
   ]
  },
  {
   "cell_type": "markdown",
   "metadata": {},
   "source": [
    "##### Tratando BsmtExposure"
   ]
  },
  {
   "cell_type": "code",
   "execution_count": null,
   "metadata": {},
   "outputs": [],
   "source": [
    "dfTotal.groupby(['BsmtExposure']).count()"
   ]
  },
  {
   "cell_type": "markdown",
   "metadata": {},
   "source": [
    "✅ __A coluna *BsmtExposure* não apresenta nenhum dado que possa ser considerado inconsistente.__ ✅\n",
    "\n",
    "Para converter todos os seus valores para inteiros, será feito o seguinte:\n",
    "\n",
    "* __68.0__ será substituído por 0\n",
    "* __Av__ será substituído por 1\n",
    "* __Gd__ será substituído por 2\n",
    "* __Mn__ será substituído por 3\n",
    "* __No__ será substituído por 4"
   ]
  },
  {
   "cell_type": "code",
   "execution_count": null,
   "metadata": {
    "scrolled": true
   },
   "outputs": [],
   "source": [
    "dfTotal['BsmtExposure'] = dfTotal['BsmtExposure'].replace(68.0,0)\n",
    "dfTotal['BsmtExposure'] = dfTotal['BsmtExposure'].replace('Av',1)\n",
    "dfTotal['BsmtExposure'] = dfTotal['BsmtExposure'].replace('Gd',2)\n",
    "dfTotal['BsmtExposure'] = dfTotal['BsmtExposure'].replace('Mn',3)\n",
    "dfTotal['BsmtExposure'] = dfTotal['BsmtExposure'].replace('No',4)\n",
    "\n",
    "dfTotal.groupby(['BsmtExposure']).count()"
   ]
  },
  {
   "cell_type": "markdown",
   "metadata": {},
   "source": [
    "##### Tratando BsmtFinType1"
   ]
  },
  {
   "cell_type": "code",
   "execution_count": null,
   "metadata": {},
   "outputs": [],
   "source": [
    "dfTotal.groupby(['BsmtFinType1']).count()"
   ]
  },
  {
   "cell_type": "markdown",
   "metadata": {},
   "source": [
    "✅ __A coluna *BsmtFinType1* não apresenta nenhum dado que possa ser considerado inconsistente.__ ✅\n",
    "\n",
    "Para converter todos os seus valores para inteiros, será feito o seguinte:\n",
    "\n",
    "* __68.0__ será substituído por 0\n",
    "* __ALQ__ será substituído por 1\n",
    "* __BLQ__ será substituído por 2\n",
    "* __GLQ__ será substituído por 3\n",
    "* __LwQ__ será substituído por 4\n",
    "* __Rec__ será substituído por 5\n",
    "* __Unf__ será substituído por 6"
   ]
  },
  {
   "cell_type": "code",
   "execution_count": null,
   "metadata": {},
   "outputs": [],
   "source": [
    "dfTotal['BsmtFinType1'] = dfTotal['BsmtFinType1'].replace(68.0,0)\n",
    "dfTotal['BsmtFinType1'] = dfTotal['BsmtFinType1'].replace('ALQ',1)\n",
    "dfTotal['BsmtFinType1'] = dfTotal['BsmtFinType1'].replace('BLQ',2)\n",
    "dfTotal['BsmtFinType1'] = dfTotal['BsmtFinType1'].replace('GLQ',3)\n",
    "dfTotal['BsmtFinType1'] = dfTotal['BsmtFinType1'].replace('LwQ',4)\n",
    "dfTotal['BsmtFinType1'] = dfTotal['BsmtFinType1'].replace('Rec',5)\n",
    "dfTotal['BsmtFinType1'] = dfTotal['BsmtFinType1'].replace('Unf',6)\n",
    "\n",
    "dfTotal.groupby(['BsmtFinType1']).count()"
   ]
  },
  {
   "cell_type": "markdown",
   "metadata": {},
   "source": [
    "##### Tratando BsmtFinType2"
   ]
  },
  {
   "cell_type": "code",
   "execution_count": null,
   "metadata": {},
   "outputs": [],
   "source": [
    "dfTotal.groupby(['BsmtFinType2']).count()"
   ]
  },
  {
   "cell_type": "markdown",
   "metadata": {},
   "source": [
    "✅ __A coluna *BsmtFinType2* não apresenta nenhum dado que possa ser considerado inconsistente.__ ✅\n",
    "\n",
    "Para converter todos os seus valores para inteiros, será feito o seguinte:\n",
    "\n",
    "* __68.0__ será substituído por 0\n",
    "* __ALQ__ será substituído por 1\n",
    "* __BLQ__ será substituído por 2\n",
    "* __GLQ__ será substituído por 3\n",
    "* __LwQ__ será substituído por 4\n",
    "* __Rec__ será substituído por 5\n",
    "* __Unf__ será substituído por 6"
   ]
  },
  {
   "cell_type": "code",
   "execution_count": null,
   "metadata": {
    "scrolled": true
   },
   "outputs": [],
   "source": [
    "dfTotal['BsmtFinType2'] = dfTotal['BsmtFinType2'].replace(68.0,0)\n",
    "dfTotal['BsmtFinType2'] = dfTotal['BsmtFinType2'].replace('ALQ',1)\n",
    "dfTotal['BsmtFinType2'] = dfTotal['BsmtFinType2'].replace('BLQ',2)\n",
    "dfTotal['BsmtFinType2'] = dfTotal['BsmtFinType2'].replace('GLQ',3)\n",
    "dfTotal['BsmtFinType2'] = dfTotal['BsmtFinType2'].replace('LwQ',4)\n",
    "dfTotal['BsmtFinType2'] = dfTotal['BsmtFinType2'].replace('Rec',5)\n",
    "dfTotal['BsmtFinType2'] = dfTotal['BsmtFinType2'].replace('Unf',6)\n",
    "\n",
    "dfTotal.groupby(['BsmtFinType2']).count()"
   ]
  },
  {
   "cell_type": "markdown",
   "metadata": {},
   "source": [
    "##### Tratando Heating"
   ]
  },
  {
   "cell_type": "code",
   "execution_count": null,
   "metadata": {},
   "outputs": [],
   "source": [
    "dfTotal.groupby(['Heating']).count()"
   ]
  },
  {
   "cell_type": "markdown",
   "metadata": {},
   "source": [
    "✅ __A coluna *Heating* não apresenta nenhum dado que possa ser considerado inconsistente.__ ✅\n",
    "\n",
    "Para converter todos os seus valores para inteiros, será feito o seguinte:\n",
    "\n",
    "* __Floor__ será substituído por 0\n",
    "* __GasA__ será substituído por 1\n",
    "* __GasW__ será substituído por 2\n",
    "* __Grav__ será substituído por 3\n",
    "* __OthW__ será substituído por 4\n",
    "* __Wall__ será substituído por 5"
   ]
  },
  {
   "cell_type": "code",
   "execution_count": null,
   "metadata": {
    "scrolled": true
   },
   "outputs": [],
   "source": [
    "dfTotal['Heating'] = dfTotal['Heating'].replace('Floor',0)\n",
    "dfTotal['Heating'] = dfTotal['Heating'].replace('GasA',1)\n",
    "dfTotal['Heating'] = dfTotal['Heating'].replace('GasW',2)\n",
    "dfTotal['Heating'] = dfTotal['Heating'].replace('Grav',3)\n",
    "dfTotal['Heating'] = dfTotal['Heating'].replace('OthW',4)\n",
    "dfTotal['Heating'] = dfTotal['Heating'].replace('Wall',5)\n",
    "\n",
    "dfTotal.groupby(['Heating']).count()"
   ]
  },
  {
   "cell_type": "markdown",
   "metadata": {},
   "source": [
    "##### Tratando HeatingQC"
   ]
  },
  {
   "cell_type": "code",
   "execution_count": null,
   "metadata": {},
   "outputs": [],
   "source": [
    "dfTotal.groupby(['HeatingQC']).count()"
   ]
  },
  {
   "cell_type": "markdown",
   "metadata": {},
   "source": [
    "✅ __A coluna *HeatingQC* não apresenta nenhum dado que possa ser considerado inconsistente.__ ✅\n",
    "\n",
    "Para converter todos os seus valores para inteiros, será feito o seguinte:\n",
    "\n",
    "* __Ex__ será substituído por 0\n",
    "* __Fa__ será substituído por 1\n",
    "* __Gd__ será substituído por 2\n",
    "* __Po__ será substituído por 3\n",
    "* __TA__ será substituído por 4"
   ]
  },
  {
   "cell_type": "code",
   "execution_count": null,
   "metadata": {},
   "outputs": [],
   "source": [
    "dfTotal['HeatingQC'] = dfTotal['HeatingQC'].replace('Ex',0)\n",
    "dfTotal['HeatingQC'] = dfTotal['HeatingQC'].replace('Fa',1)\n",
    "dfTotal['HeatingQC'] = dfTotal['HeatingQC'].replace('Gd',2)\n",
    "dfTotal['HeatingQC'] = dfTotal['HeatingQC'].replace('Po',3)\n",
    "dfTotal['HeatingQC'] = dfTotal['HeatingQC'].replace('TA',4)\n",
    "\n",
    "dfTotal.groupby(['HeatingQC']).count()"
   ]
  },
  {
   "cell_type": "markdown",
   "metadata": {},
   "source": [
    "##### Tratando CentralAir"
   ]
  },
  {
   "cell_type": "code",
   "execution_count": null,
   "metadata": {},
   "outputs": [],
   "source": [
    "dfTotal.groupby(['CentralAir']).count()"
   ]
  },
  {
   "cell_type": "markdown",
   "metadata": {},
   "source": [
    "✅ __A coluna *CentralAir* não apresenta nenhum dado que possa ser considerado inconsistente.__ ✅\n",
    "\n",
    "Para converter todos os seus valores para inteiros, será feito o seguinte:\n",
    "\n",
    "* __N__ será substituído por 0\n",
    "* __Y__ será substituído por 1"
   ]
  },
  {
   "cell_type": "code",
   "execution_count": null,
   "metadata": {},
   "outputs": [],
   "source": [
    "dfTotal['CentralAir'] = dfTotal['CentralAir'].replace('N',0)\n",
    "dfTotal['CentralAir'] = dfTotal['CentralAir'].replace('Y',1)\n",
    "\n",
    "dfTotal.groupby(['CentralAir']).count()"
   ]
  },
  {
   "cell_type": "markdown",
   "metadata": {},
   "source": [
    "##### Tratando Electrical"
   ]
  },
  {
   "cell_type": "code",
   "execution_count": null,
   "metadata": {},
   "outputs": [],
   "source": [
    "dfTotal.groupby(['Electrical']).count()"
   ]
  },
  {
   "cell_type": "markdown",
   "metadata": {},
   "source": [
    "✅ __A coluna *Electrical* não apresenta nenhum dado que possa ser considerado inconsistente.__ ✅\n",
    "\n",
    "Para converter todos os seus valores para inteiros, será feito o seguinte:\n",
    "\n",
    "* __FuseA__ será substituído por 0\n",
    "* __FuseF__ será substituído por 1\n",
    "* __FuseP__ será substituído por 2\n",
    "* __Mix__ será substituído por 3\n",
    "* __SBrkr__ será substituído por 4"
   ]
  },
  {
   "cell_type": "code",
   "execution_count": null,
   "metadata": {
    "scrolled": true
   },
   "outputs": [],
   "source": [
    "dfTotal['Electrical'] = dfTotal['Electrical'].replace('FuseA',0)\n",
    "dfTotal['Electrical'] = dfTotal['Electrical'].replace('FuseF',1)\n",
    "dfTotal['Electrical'] = dfTotal['Electrical'].replace('FuseP',2)\n",
    "dfTotal['Electrical'] = dfTotal['Electrical'].replace('Mix',3)\n",
    "dfTotal['Electrical'] = dfTotal['Electrical'].replace('SBrkr',4)\n",
    "\n",
    "dfTotal.groupby(['Electrical']).count()"
   ]
  },
  {
   "cell_type": "markdown",
   "metadata": {},
   "source": [
    "##### Tratando KitchenQual"
   ]
  },
  {
   "cell_type": "code",
   "execution_count": null,
   "metadata": {},
   "outputs": [],
   "source": [
    "dfTotal.groupby(['KitchenQual']).count()"
   ]
  },
  {
   "cell_type": "markdown",
   "metadata": {},
   "source": [
    "✅ __A coluna *KitchenQual* não apresenta nenhum dado que possa ser considerado inconsistente.__ ✅\n",
    "\n",
    "Para converter todos os seus valores para inteiros, será feito o seguinte:\n",
    "\n",
    "* __Ex__ será substituído por 0\n",
    "* __Fa__ será substituído por 1\n",
    "* __Gd__ será substituído por 2\n",
    "* __TA__ será substituído por 3"
   ]
  },
  {
   "cell_type": "code",
   "execution_count": null,
   "metadata": {},
   "outputs": [],
   "source": [
    "dfTotal['KitchenQual'] = dfTotal['KitchenQual'].replace('Ex',0)\n",
    "dfTotal['KitchenQual'] = dfTotal['KitchenQual'].replace('Fa',1)\n",
    "dfTotal['KitchenQual'] = dfTotal['KitchenQual'].replace('Gd',2)\n",
    "dfTotal['KitchenQual'] = dfTotal['KitchenQual'].replace('TA',3)\n",
    "\n",
    "dfTotal.groupby(['KitchenQual']).count()"
   ]
  },
  {
   "cell_type": "markdown",
   "metadata": {},
   "source": [
    "##### Tratando Functional"
   ]
  },
  {
   "cell_type": "code",
   "execution_count": null,
   "metadata": {},
   "outputs": [],
   "source": [
    "dfTotal.groupby(['Functional']).count()"
   ]
  },
  {
   "cell_type": "markdown",
   "metadata": {},
   "source": [
    "✅ __A coluna *Functional* não apresenta nenhum dado que possa ser considerado inconsistente.__ ✅\n",
    "\n",
    "Para converter todos os seus valores para inteiros, será feito o seguinte:\n",
    "\n",
    "* __Maj1__ será substituído por 0\n",
    "* __Maj2__ será substituído por 1\n",
    "* __Min1__ será substituído por 2\n",
    "* __Min2__ será substituído por 3\n",
    "* __Mod__ será substituído por 4\n",
    "* __Sev__ será substituído por 5\n",
    "* __Typ__ será substituído por 6"
   ]
  },
  {
   "cell_type": "code",
   "execution_count": null,
   "metadata": {
    "scrolled": true
   },
   "outputs": [],
   "source": [
    "dfTotal['Functional'] = dfTotal['Functional'].replace('Maj1',0)\n",
    "dfTotal['Functional'] = dfTotal['Functional'].replace('Maj2',1)\n",
    "dfTotal['Functional'] = dfTotal['Functional'].replace('Min1',2)\n",
    "dfTotal['Functional'] = dfTotal['Functional'].replace('Min2',3)\n",
    "dfTotal['Functional'] = dfTotal['Functional'].replace('Mod',4)\n",
    "dfTotal['Functional'] = dfTotal['Functional'].replace('Sev',5)\n",
    "dfTotal['Functional'] = dfTotal['Functional'].replace('Typ',6)\n",
    "\n",
    "dfTotal.groupby(['Functional']).count()"
   ]
  },
  {
   "cell_type": "markdown",
   "metadata": {},
   "source": [
    "##### Tratando GarageType"
   ]
  },
  {
   "cell_type": "code",
   "execution_count": null,
   "metadata": {},
   "outputs": [],
   "source": [
    "dfTotal.groupby(['GarageType']).count()"
   ]
  },
  {
   "cell_type": "markdown",
   "metadata": {},
   "source": [
    "✅ __A coluna *GarageType* não apresenta nenhum dado que possa ser considerado inconsistente.__ ✅\n",
    "\n",
    "Para converter todos os seus valores para inteiros, será feito o seguinte:\n",
    "\n",
    "* __68.0__ será substituído por 0\n",
    "* __2Types__ será substituído por 1\n",
    "* __Attchd__ será substituído por 2\n",
    "* __Basment__ será substituído por 3\n",
    "* __Builtln__ será substituído por 4\n",
    "* __CarPort__ será substituído por 5\n",
    "* __Detchd__ será substituído por 6"
   ]
  },
  {
   "cell_type": "code",
   "execution_count": null,
   "metadata": {
    "scrolled": true
   },
   "outputs": [],
   "source": [
    "dfTotal['GarageType'] = dfTotal['GarageType'].replace(68.0,0)\n",
    "dfTotal['GarageType'] = dfTotal['GarageType'].replace('2Types',1)\n",
    "dfTotal['GarageType'] = dfTotal['GarageType'].replace('Attchd',2)\n",
    "dfTotal['GarageType'] = dfTotal['GarageType'].replace('Basment',3)\n",
    "dfTotal['GarageType'] = dfTotal['GarageType'].replace('BuiltIn',4)\n",
    "dfTotal['GarageType'] = dfTotal['GarageType'].replace('CarPort',5)\n",
    "dfTotal['GarageType'] = dfTotal['GarageType'].replace('Detchd',6)\n",
    "\n",
    "dfTotal.groupby(['GarageType']).count()"
   ]
  },
  {
   "cell_type": "markdown",
   "metadata": {},
   "source": [
    "##### Tratando GarageFinish"
   ]
  },
  {
   "cell_type": "code",
   "execution_count": null,
   "metadata": {},
   "outputs": [],
   "source": [
    "dfTotal.groupby(['GarageFinish']).count()"
   ]
  },
  {
   "cell_type": "markdown",
   "metadata": {},
   "source": [
    "✅ __A coluna *GarageFinish* não apresenta nenhum dado que possa ser considerado inconsistente.__ ✅\n",
    "\n",
    "Para converter todos os seus valores para inteiros, será feito o seguinte:\n",
    "\n",
    "* __68.0__ será substituído por 0\n",
    "* __Fin__ será substituído por 1\n",
    "* __RFn__ será substituído por 2\n",
    "* __Unf__ será substituído por 3"
   ]
  },
  {
   "cell_type": "code",
   "execution_count": null,
   "metadata": {
    "scrolled": true
   },
   "outputs": [],
   "source": [
    "dfTotal['GarageFinish'] = dfTotal['GarageFinish'].replace(68.0,0)\n",
    "dfTotal['GarageFinish'] = dfTotal['GarageFinish'].replace('Fin',1)\n",
    "dfTotal['GarageFinish'] = dfTotal['GarageFinish'].replace('RFn',2)\n",
    "dfTotal['GarageFinish'] = dfTotal['GarageFinish'].replace('Unf',3)\n",
    "\n",
    "dfTotal.groupby(['GarageFinish']).count()"
   ]
  },
  {
   "cell_type": "markdown",
   "metadata": {},
   "source": [
    "##### Tratando GarageQual"
   ]
  },
  {
   "cell_type": "code",
   "execution_count": null,
   "metadata": {},
   "outputs": [],
   "source": [
    "dfTotal.groupby(['GarageQual']).count()"
   ]
  },
  {
   "cell_type": "markdown",
   "metadata": {},
   "source": [
    "✅ __A coluna *GarageQual* não apresenta nenhum dado que possa ser considerado inconsistente.__ ✅\n",
    "\n",
    "Para converter todos os seus valores para inteiros, será feito o seguinte:\n",
    "\n",
    "* __68.0__ será substituído por 0\n",
    "* __Ex__ será substituído por 1\n",
    "* __Fa__ será substituído por 2\n",
    "* __Gd__ será substituído por 3\n",
    "* __Po__ será substituído por 4\n",
    "* __TA__ será substituído por 5"
   ]
  },
  {
   "cell_type": "code",
   "execution_count": null,
   "metadata": {
    "scrolled": true
   },
   "outputs": [],
   "source": [
    "dfTotal['GarageQual'] = dfTotal['GarageQual'].replace(68.0,0)\n",
    "dfTotal['GarageQual'] = dfTotal['GarageQual'].replace('Ex',1)\n",
    "dfTotal['GarageQual'] = dfTotal['GarageQual'].replace('Fa',2)\n",
    "dfTotal['GarageQual'] = dfTotal['GarageQual'].replace('Gd',3)\n",
    "dfTotal['GarageQual'] = dfTotal['GarageQual'].replace('Po',4)\n",
    "dfTotal['GarageQual'] = dfTotal['GarageQual'].replace('TA',5)\n",
    "\n",
    "dfTotal.groupby(['GarageQual']).count()"
   ]
  },
  {
   "cell_type": "markdown",
   "metadata": {},
   "source": [
    "##### Tratando GarageCond"
   ]
  },
  {
   "cell_type": "code",
   "execution_count": null,
   "metadata": {},
   "outputs": [],
   "source": [
    "dfTotal.groupby(['GarageCond']).count()"
   ]
  },
  {
   "cell_type": "markdown",
   "metadata": {},
   "source": [
    "✅ __A coluna *GarageCond* não apresenta nenhum dado que possa ser considerado inconsistente.__ ✅\n",
    "\n",
    "Para converter todos os seus valores para inteiros, será feito o seguinte:\n",
    "\n",
    "* __68.0__ será substituído por 0\n",
    "* __Ex__ será substituído por 1\n",
    "* __Fa__ será substituído por 2\n",
    "* __Gd__ será substituído por 3\n",
    "* __Po__ será substituído por 4\n",
    "* __TA__ será substituído por 5"
   ]
  },
  {
   "cell_type": "code",
   "execution_count": null,
   "metadata": {
    "scrolled": true
   },
   "outputs": [],
   "source": [
    "dfTotal['GarageCond'] = dfTotal['GarageCond'].replace(68.0,0)\n",
    "dfTotal['GarageCond'] = dfTotal['GarageCond'].replace('Ex',1)\n",
    "dfTotal['GarageCond'] = dfTotal['GarageCond'].replace('Fa',2)\n",
    "dfTotal['GarageCond'] = dfTotal['GarageCond'].replace('Gd',3)\n",
    "dfTotal['GarageCond'] = dfTotal['GarageCond'].replace('Po',4)\n",
    "dfTotal['GarageCond'] = dfTotal['GarageCond'].replace('TA',5)\n",
    "\n",
    "dfTotal.groupby(['GarageCond']).count()"
   ]
  },
  {
   "cell_type": "markdown",
   "metadata": {},
   "source": [
    "##### Tratando PavedDrive"
   ]
  },
  {
   "cell_type": "code",
   "execution_count": null,
   "metadata": {},
   "outputs": [],
   "source": [
    "dfTotal.groupby(['PavedDrive']).count()"
   ]
  },
  {
   "cell_type": "markdown",
   "metadata": {},
   "source": [
    "✅ __A coluna *PavedDrive* não apresenta nenhum dado que possa ser considerado inconsistente.__ ✅\n",
    "\n",
    "Para converter todos os seus valores para inteiros, será feito o seguinte:\n",
    "\n",
    "* __N__ será substituído por 0\n",
    "* __P__ será substituído por 1\n",
    "* __Y__ será substituído por 2"
   ]
  },
  {
   "cell_type": "code",
   "execution_count": null,
   "metadata": {
    "scrolled": true
   },
   "outputs": [],
   "source": [
    "dfTotal['PavedDrive'] = dfTotal['PavedDrive'].replace('N',0)\n",
    "dfTotal['PavedDrive'] = dfTotal['PavedDrive'].replace('P',1)\n",
    "dfTotal['PavedDrive'] = dfTotal['PavedDrive'].replace('Y',2)\n",
    "\n",
    "dfTotal.groupby(['PavedDrive']).count()"
   ]
  },
  {
   "cell_type": "markdown",
   "metadata": {},
   "source": [
    "##### Tratando SaleType"
   ]
  },
  {
   "cell_type": "code",
   "execution_count": null,
   "metadata": {},
   "outputs": [],
   "source": [
    "dfTotal.groupby(['SaleType']).count()"
   ]
  },
  {
   "cell_type": "markdown",
   "metadata": {},
   "source": [
    "✅ __A coluna *SaleType* não apresenta nenhum dado que possa ser considerado inconsistente.__ ✅\n",
    "\n",
    "Para converter todos os seus valores para inteiros, será feito o seguinte:\n",
    "\n",
    "* __COD__ será substituído por 0\n",
    "* __CWD__ será substituído por 1\n",
    "* __Con__ será substituído por 2\n",
    "* __ConLD__ será substituído por 3\n",
    "* __ConLI__ será substituído por 4\n",
    "* __ConLw__ será substituído por 5\n",
    "* __New__ será substituído por 6\n",
    "* __Oth__ será substituído por 7\n",
    "* __WD__ será substituído por 8"
   ]
  },
  {
   "cell_type": "code",
   "execution_count": null,
   "metadata": {
    "scrolled": true
   },
   "outputs": [],
   "source": [
    "dfTotal['SaleType'] = dfTotal['SaleType'].replace('COD',0)\n",
    "dfTotal['SaleType'] = dfTotal['SaleType'].replace('CWD',1)\n",
    "dfTotal['SaleType'] = dfTotal['SaleType'].replace('Con',2)\n",
    "dfTotal['SaleType'] = dfTotal['SaleType'].replace('ConLD',3)\n",
    "dfTotal['SaleType'] = dfTotal['SaleType'].replace('ConLI',4)\n",
    "dfTotal['SaleType'] = dfTotal['SaleType'].replace('ConLw',5)\n",
    "dfTotal['SaleType'] = dfTotal['SaleType'].replace('New',6)\n",
    "dfTotal['SaleType'] = dfTotal['SaleType'].replace('Oth',7)\n",
    "dfTotal['SaleType'] = dfTotal['SaleType'].replace('WD',8)\n",
    "\n",
    "dfTotal.groupby(['SaleType']).count()"
   ]
  },
  {
   "cell_type": "markdown",
   "metadata": {},
   "source": [
    "##### Tratando SaleCondition"
   ]
  },
  {
   "cell_type": "code",
   "execution_count": null,
   "metadata": {
    "scrolled": true
   },
   "outputs": [],
   "source": [
    "dfTotal.groupby(['SaleCondition']).count()"
   ]
  },
  {
   "cell_type": "markdown",
   "metadata": {},
   "source": [
    "✅ __A coluna *SaleCondition* não apresenta nenhum dado que possa ser considerado inconsistente.__ ✅\n",
    "\n",
    "Para converter todos os seus valores para inteiros, será feito o seguinte:\n",
    "\n",
    "* __AbnormI__ será substituído por 0\n",
    "* __AdjLand__ será substituído por 1\n",
    "* __Alloc__ será substituído por 2\n",
    "* __Family__ será substituído por 3\n",
    "* __Normal__ será substituído por 4\n",
    "* __Partial__ será substituído por 5"
   ]
  },
  {
   "cell_type": "code",
   "execution_count": null,
   "metadata": {},
   "outputs": [],
   "source": [
    "dfTotal['SaleCondition'] = dfTotal['SaleCondition'].replace('Abnorml',0)\n",
    "dfTotal['SaleCondition'] = dfTotal['SaleCondition'].replace('AdjLand',1)\n",
    "dfTotal['SaleCondition'] = dfTotal['SaleCondition'].replace('Alloca',2)\n",
    "dfTotal['SaleCondition'] = dfTotal['SaleCondition'].replace('Family',3)\n",
    "dfTotal['SaleCondition'] = dfTotal['SaleCondition'].replace('Normal',4)\n",
    "dfTotal['SaleCondition'] = dfTotal['SaleCondition'].replace('Partial',5)\n",
    "\n",
    "dfTotal.groupby(['SaleCondition']).count()"
   ]
  },
  {
   "cell_type": "markdown",
   "metadata": {},
   "source": [
    "#### Dados duplicados\n",
    "\n",
    "Com as remoções de dados nulos e transcrições para valores quantitativos, pode ser feita a análise de quantos dados duplicados há no database."
   ]
  },
  {
   "cell_type": "code",
   "execution_count": null,
   "metadata": {},
   "outputs": [],
   "source": [
    "print(\"Total de duplicações no database:\",dfTotal.duplicated().sum())"
   ]
  },
  {
   "cell_type": "markdown",
   "metadata": {},
   "source": [
    "#### Analisando a correlação\n",
    "\n",
    "É importante analisar a correlação das colunas, uma vez que colunas podem apresentar informações redundantes ou quase redundantes, causando uma falta de necessidade de uma delas."
   ]
  },
  {
   "cell_type": "code",
   "execution_count": null,
   "metadata": {},
   "outputs": [],
   "source": [
    "corr = dfTotal.corr()\n",
    "corr.style.background_gradient(cmap='coolwarm')"
   ]
  },
  {
   "cell_type": "markdown",
   "metadata": {},
   "source": [
    "⚠️ __No geral, todas as colunas não apresentam muita relação entre si, tornando o database do IA algo que pode ser mais objetivo, sem redundâncias.__ ⚠️"
   ]
  },
  {
   "cell_type": "markdown",
   "metadata": {},
   "source": [
    "#### Isolando o treino\n",
    "\n",
    "É importante isolar o X e o Y dos treinos, sendo o X os dados da database que serão tirando a saída (Survived) e o Y as saídas corretas para cada entidade do treino."
   ]
  },
  {
   "cell_type": "code",
   "execution_count": null,
   "metadata": {},
   "outputs": [],
   "source": [
    "y = dfTotal['SalePrice'].values\n",
    "x = dfTotal.drop(columns=['SalePrice'])"
   ]
  },
  {
   "cell_type": "code",
   "execution_count": null,
   "metadata": {},
   "outputs": [],
   "source": [
    "kf = StratifiedKFold(n_splits=10, random_state=3, shuffle=True)\n",
    "scoring = {\n",
    "    'Accuracy': make_scorer(accuracy_score),\n",
    "    'F1':make_scorer(f1_score),\n",
    "    'Precision':make_scorer(precision_score),\n",
    "    'Recall':make_scorer(recall_score)\n",
    "}"
   ]
  },
  {
   "cell_type": "markdown",
   "metadata": {},
   "source": [
    "#### Utilizando KNN\n",
    "\n",
    "O primeiro método de Aprendizagem de Máquina a ser utilizado será o __KNN__. Os resultados vão considerar a métrica de __Jaccard__. Serão realizados 3 testes, mudando entre eles somente o número de K. Ao final os resultados obtidos serão discutidos e interpretados."
   ]
  },
  {
   "cell_type": "code",
   "execution_count": null,
   "metadata": {},
   "outputs": [],
   "source": []
  }
 ],
 "metadata": {
  "kernelspec": {
   "display_name": "Python 3",
   "language": "python",
   "name": "python3"
  },
  "language_info": {
   "codemirror_mode": {
    "name": "ipython",
    "version": 3
   },
   "file_extension": ".py",
   "mimetype": "text/x-python",
   "name": "python",
   "nbconvert_exporter": "python",
   "pygments_lexer": "ipython3",
   "version": "3.8.8"
  }
 },
 "nbformat": 4,
 "nbformat_minor": 2
}
